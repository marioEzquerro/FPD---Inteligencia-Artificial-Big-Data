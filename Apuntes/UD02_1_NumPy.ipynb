{
  "nbformat": 4,
  "nbformat_minor": 0,
  "metadata": {
    "colab": {
      "provenance": [],
      "collapsed_sections": [
        "JmhKw9dakPfH",
        "Y0dh_WRzkRSf",
        "P8jPnyEACuoQ",
        "nRrRKhnUDslN"
      ]
    },
    "kernelspec": {
      "name": "python3",
      "display_name": "Python 3"
    },
    "language_info": {
      "name": "python"
    }
  },
  "cells": [
    {
      "cell_type": "markdown",
      "source": [
        "# Tratamiento de datos con NumPy\n",
        "\n",
        "NumPy es una librería de Python que añade mayor potencia para la utilización de vectores y matrices. Los objetivos principales de este documento será:\n",
        "\n",
        "* Conocer los tipos de datos en NumPy\n",
        "* Generación y manejo de arrays\n",
        "* Conocer las funciones de manipulación de datos\n",
        "* Aprender a trabajar con funciones matemáticas en NumPy\n"
      ],
      "metadata": {
        "id": "on4Md39shKCe"
      }
    },
    {
      "cell_type": "code",
      "source": [
        "import numpy as np"
      ],
      "metadata": {
        "id": "7aKrZZAgoE3Q"
      },
      "execution_count": 1,
      "outputs": []
    },
    {
      "cell_type": "markdown",
      "source": [
        "## Conceptos básicos de Numpy\n",
        "\n",
        "Nos ofrece mayor potencia para el uso de operaciones matemáticas sobre arrays y matrices, a continuación se verá un ejemplo de como generar un nuevo array cuyos valores se han modificado sin utilizar NumPy y utilizandolo. **texto en negrita**"
      ],
      "metadata": {
        "id": "BFYqOwbcjYx-"
      }
    },
    {
      "cell_type": "code",
      "execution_count": 2,
      "metadata": {
        "colab": {
          "base_uri": "https://localhost:8080/"
        },
        "id": "AjTsTwCIhAlj",
        "outputId": "fb658801-0411-4d51-c89e-2f81463a35a0"
      },
      "outputs": [
        {
          "output_type": "stream",
          "name": "stdout",
          "text": [
            "[2, 4, 6, 8]\n"
          ]
        }
      ],
      "source": [
        "lista_python = [1,2,3,4]\n",
        "valor = 2\n",
        "\n",
        "#si deseo multiplicar cada elemento por el valor\n",
        "res = []\n",
        "for v in lista_python:\n",
        "  res.append(v*valor)\n",
        "\n",
        "print(res)"
      ]
    },
    {
      "cell_type": "code",
      "source": [
        "array = np.array([1,2,3,4])\n",
        "print (array*valor)"
      ],
      "metadata": {
        "colab": {
          "base_uri": "https://localhost:8080/"
        },
        "id": "3l1gd3ZDjJCQ",
        "outputId": "cf11ea02-6828-4235-cd95-dff3c097136c"
      },
      "execution_count": 3,
      "outputs": [
        {
          "output_type": "stream",
          "name": "stdout",
          "text": [
            "[2 4 6 8]\n"
          ]
        }
      ]
    },
    {
      "cell_type": "markdown",
      "source": [
        "### Creación de arrays"
      ],
      "metadata": {
        "id": "Z_nx8HCfj-fA"
      }
    },
    {
      "cell_type": "code",
      "source": [
        "import numpy as np\n",
        "\n",
        "#crear un array indicando el tipo\n",
        "array1 = np.array([1,2,3,4,5,6], dtype='int')\n",
        "array1"
      ],
      "metadata": {
        "colab": {
          "base_uri": "https://localhost:8080/"
        },
        "id": "LsOeq9lyksWl",
        "outputId": "6b5360b3-cf69-45a0-8b33-606ede961c9f"
      },
      "execution_count": 4,
      "outputs": [
        {
          "output_type": "execute_result",
          "data": {
            "text/plain": [
              "array([1, 2, 3, 4, 5, 6])"
            ]
          },
          "metadata": {},
          "execution_count": 4
        }
      ]
    },
    {
      "cell_type": "code",
      "source": [
        "#comprobar el tipo del array\n",
        "array1.dtype"
      ],
      "metadata": {
        "colab": {
          "base_uri": "https://localhost:8080/"
        },
        "id": "UecdWij6lQ-i",
        "outputId": "a98f09e7-f7d8-442c-bbbc-773ac78ea9fe"
      },
      "execution_count": 5,
      "outputs": [
        {
          "output_type": "execute_result",
          "data": {
            "text/plain": [
              "dtype('int64')"
            ]
          },
          "metadata": {},
          "execution_count": 5
        }
      ]
    },
    {
      "cell_type": "code",
      "source": [
        "#crear un array con varias dimensiones\n",
        "array2 = np.array([[1,2,3],[4,5,6]], dtype='int')\n",
        "array2"
      ],
      "metadata": {
        "colab": {
          "base_uri": "https://localhost:8080/"
        },
        "id": "06JI4htTlcYu",
        "outputId": "d70a4109-b253-4563-e86b-c7dc3d9b186c"
      },
      "execution_count": 6,
      "outputs": [
        {
          "output_type": "execute_result",
          "data": {
            "text/plain": [
              "array([[1, 2, 3],\n",
              "       [4, 5, 6]])"
            ]
          },
          "metadata": {},
          "execution_count": 6
        }
      ]
    },
    {
      "cell_type": "code",
      "source": [
        "#funciones para generar arrays  \n",
        "print(np.zeros(10))                         #generar array con 10 ceros\n",
        "print(np.ones(10))                          #generar array con 10 unos\n",
        "print(np.ones((5,2)))                       #generar matriz 5x2 con unos\n",
        "a = np.arange(0,10,1)                       #generar un array desde un valor min a un valor max indicando el incremento\n",
        "print(a.reshape((5,2)))                     #convertir un array en matriz\n",
        "print(np.full(shape=(2,3), fill_value=7))   #generar array 2x3 con valores 7\n",
        "print(np.eye(10))                           #generar array identidad 10x10 (diagonal principal con unos)\n"
      ],
      "metadata": {
        "colab": {
          "base_uri": "https://localhost:8080/"
        },
        "id": "gZPzhnktmqv8",
        "outputId": "687a6c7b-6abb-4f7c-e1b4-e610d67313d1"
      },
      "execution_count": 7,
      "outputs": [
        {
          "output_type": "stream",
          "name": "stdout",
          "text": [
            "[0. 0. 0. 0. 0. 0. 0. 0. 0. 0.]\n",
            "[1. 1. 1. 1. 1. 1. 1. 1. 1. 1.]\n",
            "[[1. 1.]\n",
            " [1. 1.]\n",
            " [1. 1.]\n",
            " [1. 1.]\n",
            " [1. 1.]]\n",
            "[[0 1]\n",
            " [2 3]\n",
            " [4 5]\n",
            " [6 7]\n",
            " [8 9]]\n",
            "[[7 7 7]\n",
            " [7 7 7]]\n",
            "[[1. 0. 0. 0. 0. 0. 0. 0. 0. 0.]\n",
            " [0. 1. 0. 0. 0. 0. 0. 0. 0. 0.]\n",
            " [0. 0. 1. 0. 0. 0. 0. 0. 0. 0.]\n",
            " [0. 0. 0. 1. 0. 0. 0. 0. 0. 0.]\n",
            " [0. 0. 0. 0. 1. 0. 0. 0. 0. 0.]\n",
            " [0. 0. 0. 0. 0. 1. 0. 0. 0. 0.]\n",
            " [0. 0. 0. 0. 0. 0. 1. 0. 0. 0.]\n",
            " [0. 0. 0. 0. 0. 0. 0. 1. 0. 0.]\n",
            " [0. 0. 0. 0. 0. 0. 0. 0. 1. 0.]\n",
            " [0. 0. 0. 0. 0. 0. 0. 0. 0. 1.]]\n"
          ]
        }
      ]
    },
    {
      "cell_type": "code",
      "source": [
        "'''\n",
        "Con np.arange() puedes decir cada cuánto genere los elementos y con ello te dará un tamaño de array. \n",
        "En cambio con np.linspace() puedes decir el tamaño del array y los steps se calcularán automáticamente. \n",
        "Y aquí tanto start como stop son inclusivos.\n",
        "'''\n",
        "print(np.linspace(start=11, stop=12, num=18))"
      ],
      "metadata": {
        "colab": {
          "base_uri": "https://localhost:8080/"
        },
        "id": "1luzL5VH1axI",
        "outputId": "8b3006cf-354e-4fad-b584-ae0ec7925734"
      },
      "execution_count": 8,
      "outputs": [
        {
          "output_type": "stream",
          "name": "stdout",
          "text": [
            "[11.         11.05882353 11.11764706 11.17647059 11.23529412 11.29411765\n",
            " 11.35294118 11.41176471 11.47058824 11.52941176 11.58823529 11.64705882\n",
            " 11.70588235 11.76470588 11.82352941 11.88235294 11.94117647 12.        ]\n"
          ]
        }
      ]
    },
    {
      "cell_type": "code",
      "source": [
        "'''\n",
        "Cuando queremos crear arrays con números aleatorios podemos definir el tipo de distribución que queremos que siga.\n",
        "'''\n",
        "\n",
        "uniform = np.random.uniform(0, 10, 10000)     #10000 valores entre 0 y diez distribuidos de forma uniforme\n",
        "uniform2 = np.random.rand(10000)              #10000 valores entre 0 y 1 distribuidos de forma uniforme\n",
        "\n",
        "normal = np.random.normal(0, 3, 10000)        #10000 de media 0 y desviación 3\n",
        "normal2 = np.random.randn(10000)              #10000 valores entre 0 y 1 distribuidos de forma normal\n",
        "\n",
        "#mostrar de forma gráfica las distribuciones\n",
        "import matplotlib.pyplot as plt\n",
        "\n",
        "plt.figure(figsize=(12,5))  #defino la figura donde irán todas las distribuciones\n",
        "\n",
        "\n",
        "plt.subplot(2, 2, 1)\n",
        "plt.hist(uniform, bins=100)\n",
        "plt.title('Distribución uniforme con uniform')\n",
        "\n",
        "plt.subplot(2, 2, 2)\n",
        "plt.hist(uniform2, bins=100)\n",
        "plt.title('Distribución uniforme con rand')\n",
        "\n",
        "plt.subplot(2, 2, 3)\n",
        "plt.hist(normal, bins=100)\n",
        "plt.title('Distribución normal con normal')\n",
        "\n",
        "plt.subplot(2, 2, 4)\n",
        "plt.hist(normal2, bins=100)\n",
        "plt.title('Distribución normal con randn')\n",
        "\n",
        "plt.show()\n",
        "\n"
      ],
      "metadata": {
        "colab": {
          "base_uri": "https://localhost:8080/",
          "height": 335
        },
        "id": "YM08Cfil2lja",
        "outputId": "2255f0f4-b2d1-4a1f-a5bf-37afc79293c6"
      },
      "execution_count": null,
      "outputs": [
        {
          "output_type": "display_data",
          "data": {
            "text/plain": [
              "<Figure size 864x360 with 4 Axes>"
            ],
            "image/png": "[encoded data removed]"
          },
          "metadata": {
            "needs_background": "light"
          }
        }
      ]
    },
    {
      "cell_type": "markdown",
      "source": [
        "### Tipos de datos"
      ],
      "metadata": {
        "id": "JmhKw9dakPfH"
      }
    },
    {
      "cell_type": "markdown",
      "source": [
        "Un tipo de dato muy importante es el NaN o valor nulo. El resto de tipos (bastantes) no son considerados en este documento. "
      ],
      "metadata": {
        "id": "Jc3RqeRz8A8q"
      }
    },
    {
      "cell_type": "code",
      "source": [
        "nan = np.nan\n",
        "np.isnan(nan)     #Comprobamos si un valor es nulo"
      ],
      "metadata": {
        "colab": {
          "base_uri": "https://localhost:8080/"
        },
        "id": "R3gCrN7CnypA",
        "outputId": "1724e316-054b-44f3-a5a2-0a4c2ecc0023"
      },
      "execution_count": null,
      "outputs": [
        {
          "output_type": "execute_result",
          "data": {
            "text/plain": [
              "True"
            ]
          },
          "metadata": {},
          "execution_count": 41
        }
      ]
    },
    {
      "cell_type": "markdown",
      "source": [
        "### Indexado y recorrido de arrays\n",
        "\n",
        "Podemos consultar un campo del array con los carácteres []. Tenemos que recordar que en python, los indices comienzan por cero, por lo que si queremos consultar el primer elemento de un array lo haríamos de la siguiente manera"
      ],
      "metadata": {
        "id": "Y0dh_WRzkRSf"
      }
    },
    {
      "cell_type": "code",
      "source": [
        "a = np.array([0,1,2,3,4,5,6,7,8,9])\n",
        "print(a[0])\n",
        "print(a[9])\n",
        "print(a.shape)\n",
        "print(a[10])"
      ],
      "metadata": {
        "colab": {
          "base_uri": "https://localhost:8080/",
          "height": 241
        },
        "id": "v5ySbTLY8gFt",
        "outputId": "538016cf-5960-4629-b024-cda0fb8e8576"
      },
      "execution_count": null,
      "outputs": [
        {
          "output_type": "stream",
          "name": "stdout",
          "text": [
            "0\n",
            "9\n",
            "(10,)\n"
          ]
        },
        {
          "output_type": "error",
          "ename": "IndexError",
          "evalue": "ignored",
          "traceback": [
            "\u001b[0;31m---------------------------------------------------------------------------\u001b[0m",
            "\u001b[0;31mIndexError\u001b[0m                                Traceback (most recent call last)",
            "\u001b[0;32m<ipython-input-43-5e07078dcc17>\u001b[0m in \u001b[0;36m<module>\u001b[0;34m\u001b[0m\n\u001b[1;32m      3\u001b[0m \u001b[0mprint\u001b[0m\u001b[0;34m(\u001b[0m\u001b[0ma\u001b[0m\u001b[0;34m[\u001b[0m\u001b[0;36m9\u001b[0m\u001b[0;34m]\u001b[0m\u001b[0;34m)\u001b[0m\u001b[0;34m\u001b[0m\u001b[0;34m\u001b[0m\u001b[0m\n\u001b[1;32m      4\u001b[0m \u001b[0mprint\u001b[0m\u001b[0;34m(\u001b[0m\u001b[0ma\u001b[0m\u001b[0;34m.\u001b[0m\u001b[0mshape\u001b[0m\u001b[0;34m)\u001b[0m\u001b[0;34m\u001b[0m\u001b[0;34m\u001b[0m\u001b[0m\n\u001b[0;32m----> 5\u001b[0;31m \u001b[0mprint\u001b[0m\u001b[0;34m(\u001b[0m\u001b[0ma\u001b[0m\u001b[0;34m[\u001b[0m\u001b[0;36m10\u001b[0m\u001b[0;34m]\u001b[0m\u001b[0;34m)\u001b[0m\u001b[0;34m\u001b[0m\u001b[0;34m\u001b[0m\u001b[0m\n\u001b[0m",
            "\u001b[0;31mIndexError\u001b[0m: index 10 is out of bounds for axis 0 with size 10"
          ]
        }
      ]
    },
    {
      "cell_type": "code",
      "source": [
        "# Podemos consultar distintos elementos del array con el slicing. En el slice tenemos que definir: inicio:fin:paso\n",
        "\n",
        "print(a[0:9:2])\n",
        "print(a[0:8:3])\n",
        "\n",
        "#Podemos recuperar los dos últimos elementos, usando valores negativos\n",
        "\n",
        "a[-2:10]\n",
        "\n",
        "#También podemos recorrer los valores de mayor a menor definiendo el tamaño del paso como un nº negativo\n",
        "\n",
        "a[9::-1]\n",
        "\n",
        "#También podemos definir solo el inicio, o el fin\n",
        "\n",
        "a[:5]\n",
        "a[5:]\n",
        "\n"
      ],
      "metadata": {
        "colab": {
          "base_uri": "https://localhost:8080/"
        },
        "id": "9EDb4czG8o_m",
        "outputId": "f40c863d-dedc-4883-fdea-fd8e7cb031eb"
      },
      "execution_count": null,
      "outputs": [
        {
          "output_type": "stream",
          "name": "stdout",
          "text": [
            "[0 2 4 6 8]\n",
            "[0 3 6]\n"
          ]
        }
      ]
    },
    {
      "cell_type": "code",
      "source": [
        "'''\n",
        "Para los array multidimensionales funciona del mismo modo. \n",
        "Solo tenemos que verlos en forma de matriz, y consultar la fila y columna que deseemos.\n",
        "'''\n",
        "\n",
        "a = np.array([[1,2,3], [3,4,5]], dtype = np.int8)\n",
        "\n",
        "print(a[0][1])        #dos formas equivalentes de acceder a la misma posición\n",
        "print(a[0,1])\n",
        "\n",
        "print(a[1, 0:2])      #de la fila 1, las columnas que van de la 0 a la 2\n",
        "print(a[0:2, 0:2])    #de las filas 0 a la 2, las columnas que van de la 0 a la 2\n"
      ],
      "metadata": {
        "colab": {
          "base_uri": "https://localhost:8080/"
        },
        "id": "fjY3q_p_9GWG",
        "outputId": "0178e8dd-ad6e-4bef-ed1d-d27d38924e8f"
      },
      "execution_count": null,
      "outputs": [
        {
          "output_type": "stream",
          "name": "stdout",
          "text": [
            "2\n",
            "2\n",
            "[3 4]\n",
            "[[1 2]\n",
            " [3 4]]\n"
          ]
        }
      ]
    },
    {
      "cell_type": "markdown",
      "source": [
        "#### Operaciones útiles"
      ],
      "metadata": {
        "id": "P8jPnyEACuoQ"
      }
    },
    {
      "cell_type": "code",
      "source": [
        "#obtener todos los valores NO nulos u obtener todos los valores nulos\n",
        "x = np.array([[4, 3], [np.nan, 2.], [np.nan, np.nan]])\n",
        "\n",
        "print(x[np.isnan(x)])   #obtener valores nulos\n",
        "print(x[~np.isnan(x)])  #obtener valores no nulos"
      ],
      "metadata": {
        "colab": {
          "base_uri": "https://localhost:8080/"
        },
        "id": "2Y-1cRQDCw4h",
        "outputId": "dfa986cc-c98a-4d3c-a5b7-8b9d173b87a2"
      },
      "execution_count": null,
      "outputs": [
        {
          "output_type": "stream",
          "name": "stdout",
          "text": [
            "[nan nan nan]\n",
            "[4. 3. 2.]\n"
          ]
        }
      ]
    },
    {
      "cell_type": "code",
      "source": [
        "#obtener array de booleanos indicando qué posiciones cumplen una condición\n",
        "a = np.array([0,1,2,3,4,5,6,7,8,9])\n",
        "print(a > 4)\n",
        "\n",
        "#el array obtenido se puede indicar dentro de los corchetes para obtener aquellos valores que corresponden a true\n",
        "print(a[a>4])\n",
        "\n",
        "#otro ejemplo podría ser:\n",
        "print(a[a % 2 == 0])"
      ],
      "metadata": {
        "colab": {
          "base_uri": "https://localhost:8080/"
        },
        "id": "dt9GwsQ9C_Sb",
        "outputId": "dad05360-9e4c-4cd1-ffdb-aefd847ad4ef"
      },
      "execution_count": null,
      "outputs": [
        {
          "output_type": "stream",
          "name": "stdout",
          "text": [
            "[False False False False False  True  True  True  True  True]\n",
            "[5 6 7 8 9]\n",
            "[0 2 4 6 8]\n"
          ]
        }
      ]
    },
    {
      "cell_type": "markdown",
      "source": [
        "#### Recorrido"
      ],
      "metadata": {
        "id": "nRrRKhnUDslN"
      }
    },
    {
      "cell_type": "code",
      "source": [
        "a = np.array([0,1,2,3,4,5,6,7,8,9])\n",
        "\n",
        "for valor in a:\n",
        "    print(valor)"
      ],
      "metadata": {
        "colab": {
          "base_uri": "https://localhost:8080/"
        },
        "id": "iH-odUn3DuaH",
        "outputId": "e00e6f47-7646-420d-b411-f3fa48b9ed6a"
      },
      "execution_count": null,
      "outputs": [
        {
          "output_type": "stream",
          "name": "stdout",
          "text": [
            "0\n",
            "1\n",
            "2\n",
            "3\n",
            "4\n",
            "5\n",
            "6\n",
            "7\n",
            "8\n",
            "9\n"
          ]
        }
      ]
    },
    {
      "cell_type": "markdown",
      "source": [
        "### Máscaras\n",
        "\n",
        "En muchas circunstancias, los conjuntos de datos pueden estar incompletos o contaminados por la presencia de datos no válidos. Por ejemplo, es posible que un sensor no haya podido registrar datos o haya registrado un valor no válido. El módulo numpy.ma proporciona una forma conveniente de abordar este problema mediante la introducción de matrices enmascaradas.\n",
        "\n",
        "Una matriz enmascarada es la combinación de un *numpy.ndarray* estándar y una máscara. Cuando un elemento de la máscara es *False*, el elemento correspondiente de la matriz asociada es válido y se dice que está desenmascarado. Cuando un elemento de la máscara es *True*, se dice que el elemento correspondiente de la matriz asociada está enmascarado (no válido)."
      ],
      "metadata": {
        "id": "IVX1SBEqkZmc"
      }
    },
    {
      "cell_type": "code",
      "source": [
        "import numpy.ma as ma\n",
        "\n",
        "x = np.array([1,2,3,-1,4])\n",
        "\n",
        "# Definimos el valor negativo como invalido\n",
        "mask_array = ma.masked_array(x, mask = [0,0,0,1,0])\n",
        "print(mask_array)\n",
        "\n",
        "#También podemos definir la máscara directamente en el constructor de array del modulo ma.\n",
        "x = ma.array([1,2,3,-1,4], mask = [0,0,0,1,0])\n",
        "print(x)\n"
      ],
      "metadata": {
        "colab": {
          "base_uri": "https://localhost:8080/"
        },
        "id": "9pLZeVzGEUB2",
        "outputId": "2cf0cba0-7a0c-4d8b-aa01-098f3449b536"
      },
      "execution_count": null,
      "outputs": [
        {
          "output_type": "stream",
          "name": "stdout",
          "text": [
            "[1 2 3 -- 4]\n",
            "[1 2 3 -- 4]\n"
          ]
        }
      ]
    },
    {
      "cell_type": "code",
      "source": [
        "#Podemos crear un masked array que enmascare atendiendo a una condición\n",
        "x = np.array([1,2,3,-1,4])\n",
        "masked = ma.masked_equal(x, 4)\n",
        "print(masked)\n",
        "\n",
        "masked = ma.masked_not_equal(x, 2)\n",
        "print(masked)\n",
        "\n",
        "masked = ma.masked_where(x<2, x)\n",
        "print(masked)\n"
      ],
      "metadata": {
        "colab": {
          "base_uri": "https://localhost:8080/"
        },
        "id": "CZKu-kQ9FjpI",
        "outputId": "8d9a5332-c4aa-42d6-9084-dcc2f88ef0b7"
      },
      "execution_count": null,
      "outputs": [
        {
          "output_type": "stream",
          "name": "stdout",
          "text": [
            "[1 2 3 -1 --]\n",
            "[-- 2 -- -- --]\n",
            "[-- 2 3 -- 4]\n"
          ]
        }
      ]
    },
    {
      "cell_type": "code",
      "source": [
        "#Podemos 'rellenar' los valores enmascarados con un valor concreto\n",
        "masked.filled(99)"
      ],
      "metadata": {
        "colab": {
          "base_uri": "https://localhost:8080/"
        },
        "id": "aIpalfLmE7z7",
        "outputId": "99ec72e7-2eb4-40ad-909b-fe403ca7d3c2"
      },
      "execution_count": null,
      "outputs": [
        {
          "output_type": "execute_result",
          "data": {
            "text/plain": [
              "array([99,  2,  3, 99,  4])"
            ]
          },
          "metadata": {},
          "execution_count": 71
        }
      ]
    },
    {
      "cell_type": "markdown",
      "source": [
        "### Constantes"
      ],
      "metadata": {
        "id": "xuHbzZikkeE8"
      }
    },
    {
      "cell_type": "code",
      "source": [
        "print(np.inf)                         #valor infinito positivo\n",
        "print(np.ninf)                        #valor infinito negativo\n",
        "print(np.nan)                         #Not a number\n",
        "print(np.nzero)                       #cero negativo\n",
        "print(np.pzero)                       #cero positivo\n",
        "print(np.e)                           #numero e\n",
        "print(np.pi)                          #numero pi\n"
      ],
      "metadata": {
        "id": "UfEU2pW_HgaR"
      },
      "execution_count": null,
      "outputs": []
    },
    {
      "cell_type": "markdown",
      "source": [
        "## Ejercicios\n"
      ],
      "metadata": {
        "id": "eUSqOTkkkkPH"
      }
    },
    {
      "cell_type": "markdown",
      "source": [
        "### Ejercicio 1\n",
        "\n",
        "Crea 3 nuevos arrays. \n",
        "- Array de tipo entero, que contenga solo los números impares del 1 al 100. \n",
        "- Array de tipo cadena con tu nombre y apellidos\n",
        "- Array de tipo fechas, que contenga todos los días desde el 01Enero2020 al 04Febrero2020"
      ],
      "metadata": {
        "id": "JL9IHS66IKL8"
      }
    },
    {
      "cell_type": "code",
      "source": [
        "array1 = np.arange(start=1, stop=101, step=2, dtype='int')\n",
        "print(array1)\n",
        "\n",
        "array2 = np.array(['carlos', 'saenz', 'adan'])\n",
        "print(array2)\n",
        "\n",
        "array3 = np.arange('2020-01-01', '2020-02-05', dtype='datetime64[D]')\n",
        "print(array3)"
      ],
      "metadata": {
        "colab": {
          "base_uri": "https://localhost:8080/"
        },
        "id": "yenwJpbqIP28",
        "outputId": "eb85bd7c-e2a1-4435-c15c-74c0f74f410e"
      },
      "execution_count": null,
      "outputs": [
        {
          "output_type": "stream",
          "name": "stdout",
          "text": [
            "[ 1  3  5  7  9 11 13 15 17 19 21 23 25 27 29 31 33 35 37 39 41 43 45 47\n",
            " 49 51 53 55 57 59 61 63 65 67 69 71 73 75 77 79 81 83 85 87 89 91 93 95\n",
            " 97 99]\n",
            "['carlos' 'saenz' 'adan']\n",
            "['2020-01-01' '2020-01-02' '2020-01-03' '2020-01-04' '2020-01-05'\n",
            " '2020-01-06' '2020-01-07' '2020-01-08' '2020-01-09' '2020-01-10'\n",
            " '2020-01-11' '2020-01-12' '2020-01-13' '2020-01-14' '2020-01-15'\n",
            " '2020-01-16' '2020-01-17' '2020-01-18' '2020-01-19' '2020-01-20'\n",
            " '2020-01-21' '2020-01-22' '2020-01-23' '2020-01-24' '2020-01-25'\n",
            " '2020-01-26' '2020-01-27' '2020-01-28' '2020-01-29' '2020-01-30'\n",
            " '2020-01-31' '2020-02-01' '2020-02-02' '2020-02-03' '2020-02-04']\n"
          ]
        }
      ]
    },
    {
      "cell_type": "markdown",
      "source": [
        "### Ejercicio 2 \n",
        "\n",
        "Recupera los últimos 10 elementos del array de impares"
      ],
      "metadata": {
        "id": "uufm017xIQS5"
      }
    },
    {
      "cell_type": "code",
      "source": [
        "print(array1[-10:])"
      ],
      "metadata": {
        "colab": {
          "base_uri": "https://localhost:8080/"
        },
        "id": "G9NThzPvIYlE",
        "outputId": "29dfc64c-f997-44a1-c818-5b894d996833"
      },
      "execution_count": null,
      "outputs": [
        {
          "output_type": "stream",
          "name": "stdout",
          "text": [
            "[81 83 85 87 89 91 93 95 97 99]\n"
          ]
        }
      ]
    },
    {
      "cell_type": "markdown",
      "source": [
        "## Ejercicio 3\n",
        "\n",
        "Genera la siguiente matriz. \n",
        "\n",
        "$A = \\begin{pmatrix}\n",
        "10 & 1 & 8 & 4 \\\\\n",
        "3 & 7 & 2 & 1 \\\\\n",
        "0 & 2 & 20 & 12 \\\\\n",
        "\\end{pmatrix}$\n",
        "\n",
        "¿De qué tipo es?\n",
        "Luego, implementa una máscara a todos los números de la matriz mayores o iguales a 10"
      ],
      "metadata": {
        "id": "T-x18TgGImTY"
      }
    },
    {
      "cell_type": "code",
      "source": [
        "matrix = np.array([[10,1,8,4],[3,7,2,1],[0,2,20,12]])\n",
        "print(matrix)\n",
        "\n",
        "matrix_masked = ma.masked_where(matrix >= 10,matrix)\n",
        "print(matrix_masked)"
      ],
      "metadata": {
        "colab": {
          "base_uri": "https://localhost:8080/"
        },
        "id": "LB0dI79ZIjrP",
        "outputId": "adf87ece-a0c1-491c-b544-abcd1026731a"
      },
      "execution_count": null,
      "outputs": [
        {
          "output_type": "stream",
          "name": "stdout",
          "text": [
            "[[10  1  8  4]\n",
            " [ 3  7  2  1]\n",
            " [ 0  2 20 12]]\n",
            "[[-- 1 8 4]\n",
            " [3 7 2 1]\n",
            " [0 2 -- --]]\n"
          ]
        }
      ]
    }
  ]
}