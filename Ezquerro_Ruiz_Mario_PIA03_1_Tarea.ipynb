{
  "metadata": {
    "kernelspec": {
      "display_name": "Python 3",
      "language": "python",
      "name": "python3"
    },
    "language_info": {
      "name": "python",
      "version": "3.6.4",
      "mimetype": "text/x-python",
      "codemirror_mode": {
        "name": "ipython",
        "version": 3
      },
      "pygments_lexer": "ipython3",
      "nbconvert_exporter": "python",
      "file_extension": ".py"
    },
    "colab": {
      "provenance": [],
      "collapsed_sections": [
        "jhMret0cqbA2",
        "XpcrmUye55GB"
      ]
    }
  },
  "nbformat_minor": 0,
  "nbformat": 4,
  "cells": [
    {
      "cell_type": "markdown",
      "source": [
        "# Tarea 3.1. Programación de Inteligencia Artificial\n",
        "\n",
        "Tarea correspondiente a la UD03 del módulo Programación de Inteligencia Artificial. "
      ],
      "metadata": {
        "id": "-KJxaOzw55Fx"
      }
    },
    {
      "cell_type": "markdown",
      "source": [
        "# Importación de librerías necesarias\n"
      ],
      "metadata": {
        "id": "sLWUx_jY55F3"
      }
    },
    {
      "cell_type": "code",
      "source": [
        "#añade las librerías básicas que consideres necesarias para el proyecto (pongo 3). Posteriormente podrás añadir más librerías. \n",
        "import os\n",
        "import numpy as np \n",
        "import pandas as pd "
      ],
      "metadata": {
        "_cell_guid": "79c7e3d0-c299-4dcb-8224-4455121ee9b0",
        "_uuid": "d629ff2d2480ee46fbb7e2d37f6b5fab8052498a",
        "trusted": true,
        "id": "ZpoL2fEh55F3"
      },
      "execution_count": 1,
      "outputs": []
    },
    {
      "cell_type": "markdown",
      "source": [
        "# Descarga del dataset\n",
        "\n",
        "A continuación se procede a descargar el dataset y la explicación de sus atributos. "
      ],
      "metadata": {
        "id": "sU07EOFL8Ibv"
      }
    },
    {
      "cell_type": "code",
      "source": [
        "#https://drive.google.com/file/d/1I7WagDoN1AuVYoUTaonEOHF_gw_UCb16\n",
        "!gdown --id 1I7WagDoN1AuVYoUTaonEOHF_gw_UCb16\n",
        "\n",
        "## Carga del fichero en Python\n",
        "df_train = pd.read_csv('heart_disease.csv', delimiter=',')\n",
        "\n",
        "df_train.head(5)"
      ],
      "metadata": {
        "trusted": true,
        "colab": {
          "base_uri": "https://localhost:8080/",
          "height": 330
        },
        "id": "KJ7dVE4F55F4",
        "outputId": "0ffee0b0-de3b-4218-d413-7554e1638676"
      },
      "execution_count": 2,
      "outputs": [
        {
          "output_type": "stream",
          "name": "stdout",
          "text": [
            "/usr/local/lib/python3.8/dist-packages/gdown/cli.py:127: FutureWarning: Option `--id` was deprecated in version 4.3.1 and will be removed in 5.0. You don't need to pass it anymore to use a file ID.\n",
            "  warnings.warn(\n",
            "Downloading...\n",
            "From: https://drive.google.com/uc?id=1I7WagDoN1AuVYoUTaonEOHF_gw_UCb16\n",
            "To: /content/heart_disease.csv\n",
            "100% 11.3k/11.3k [00:00<00:00, 16.4MB/s]\n"
          ]
        },
        {
          "output_type": "execute_result",
          "data": {
            "text/plain": [
              "   age  sex  cp  trestbps  chol  fbs  restecg  thalach  exang  oldpeak  slope  \\\n",
              "0   63    1   3       145   233    1        0      150      0      2.3      0   \n",
              "1   37    1   2       130   250    0        1      187      0      3.5      0   \n",
              "2   41    0   1       130   204    0        0      172      0      1.4      2   \n",
              "3   56    1   1       120   236    0        1      178      0      0.8      2   \n",
              "4   57    0   0       120   354    0        1      163      1      0.6      2   \n",
              "\n",
              "   ca  thal  target  \n",
              "0   0     1       1  \n",
              "1   0     2       1  \n",
              "2   0     2       1  \n",
              "3   0     2       1  \n",
              "4   0     2       1  "
            ],
            "text/html": [
              "\n",
              "  <div id=\"df-48cb381a-9739-4fe4-be96-128564fcc9dd\">\n",
              "    <div class=\"colab-df-container\">\n",
              "      <div>\n",
              "<style scoped>\n",
              "    .dataframe tbody tr th:only-of-type {\n",
              "        vertical-align: middle;\n",
              "    }\n",
              "\n",
              "    .dataframe tbody tr th {\n",
              "        vertical-align: top;\n",
              "    }\n",
              "\n",
              "    .dataframe thead th {\n",
              "        text-align: right;\n",
              "    }\n",
              "</style>\n",
              "<table border=\"1\" class=\"dataframe\">\n",
              "  <thead>\n",
              "    <tr style=\"text-align: right;\">\n",
              "      <th></th>\n",
              "      <th>age</th>\n",
              "      <th>sex</th>\n",
              "      <th>cp</th>\n",
              "      <th>trestbps</th>\n",
              "      <th>chol</th>\n",
              "      <th>fbs</th>\n",
              "      <th>restecg</th>\n",
              "      <th>thalach</th>\n",
              "      <th>exang</th>\n",
              "      <th>oldpeak</th>\n",
              "      <th>slope</th>\n",
              "      <th>ca</th>\n",
              "      <th>thal</th>\n",
              "      <th>target</th>\n",
              "    </tr>\n",
              "  </thead>\n",
              "  <tbody>\n",
              "    <tr>\n",
              "      <th>0</th>\n",
              "      <td>63</td>\n",
              "      <td>1</td>\n",
              "      <td>3</td>\n",
              "      <td>145</td>\n",
              "      <td>233</td>\n",
              "      <td>1</td>\n",
              "      <td>0</td>\n",
              "      <td>150</td>\n",
              "      <td>0</td>\n",
              "      <td>2.3</td>\n",
              "      <td>0</td>\n",
              "      <td>0</td>\n",
              "      <td>1</td>\n",
              "      <td>1</td>\n",
              "    </tr>\n",
              "    <tr>\n",
              "      <th>1</th>\n",
              "      <td>37</td>\n",
              "      <td>1</td>\n",
              "      <td>2</td>\n",
              "      <td>130</td>\n",
              "      <td>250</td>\n",
              "      <td>0</td>\n",
              "      <td>1</td>\n",
              "      <td>187</td>\n",
              "      <td>0</td>\n",
              "      <td>3.5</td>\n",
              "      <td>0</td>\n",
              "      <td>0</td>\n",
              "      <td>2</td>\n",
              "      <td>1</td>\n",
              "    </tr>\n",
              "    <tr>\n",
              "      <th>2</th>\n",
              "      <td>41</td>\n",
              "      <td>0</td>\n",
              "      <td>1</td>\n",
              "      <td>130</td>\n",
              "      <td>204</td>\n",
              "      <td>0</td>\n",
              "      <td>0</td>\n",
              "      <td>172</td>\n",
              "      <td>0</td>\n",
              "      <td>1.4</td>\n",
              "      <td>2</td>\n",
              "      <td>0</td>\n",
              "      <td>2</td>\n",
              "      <td>1</td>\n",
              "    </tr>\n",
              "    <tr>\n",
              "      <th>3</th>\n",
              "      <td>56</td>\n",
              "      <td>1</td>\n",
              "      <td>1</td>\n",
              "      <td>120</td>\n",
              "      <td>236</td>\n",
              "      <td>0</td>\n",
              "      <td>1</td>\n",
              "      <td>178</td>\n",
              "      <td>0</td>\n",
              "      <td>0.8</td>\n",
              "      <td>2</td>\n",
              "      <td>0</td>\n",
              "      <td>2</td>\n",
              "      <td>1</td>\n",
              "    </tr>\n",
              "    <tr>\n",
              "      <th>4</th>\n",
              "      <td>57</td>\n",
              "      <td>0</td>\n",
              "      <td>0</td>\n",
              "      <td>120</td>\n",
              "      <td>354</td>\n",
              "      <td>0</td>\n",
              "      <td>1</td>\n",
              "      <td>163</td>\n",
              "      <td>1</td>\n",
              "      <td>0.6</td>\n",
              "      <td>2</td>\n",
              "      <td>0</td>\n",
              "      <td>2</td>\n",
              "      <td>1</td>\n",
              "    </tr>\n",
              "  </tbody>\n",
              "</table>\n",
              "</div>\n",
              "      <button class=\"colab-df-convert\" onclick=\"convertToInteractive('df-48cb381a-9739-4fe4-be96-128564fcc9dd')\"\n",
              "              title=\"Convert this dataframe to an interactive table.\"\n",
              "              style=\"display:none;\">\n",
              "        \n",
              "  <svg xmlns=\"http://www.w3.org/2000/svg\" height=\"24px\"viewBox=\"0 0 24 24\"\n",
              "       width=\"24px\">\n",
              "    <path d=\"M0 0h24v24H0V0z\" fill=\"none\"/>\n",
              "    <path d=\"M18.56 5.44l.94 2.06.94-2.06 2.06-.94-2.06-.94-.94-2.06-.94 2.06-2.06.94zm-11 1L8.5 8.5l.94-2.06 2.06-.94-2.06-.94L8.5 2.5l-.94 2.06-2.06.94zm10 10l.94 2.06.94-2.06 2.06-.94-2.06-.94-.94-2.06-.94 2.06-2.06.94z\"/><path d=\"M17.41 7.96l-1.37-1.37c-.4-.4-.92-.59-1.43-.59-.52 0-1.04.2-1.43.59L10.3 9.45l-7.72 7.72c-.78.78-.78 2.05 0 2.83L4 21.41c.39.39.9.59 1.41.59.51 0 1.02-.2 1.41-.59l7.78-7.78 2.81-2.81c.8-.78.8-2.07 0-2.86zM5.41 20L4 18.59l7.72-7.72 1.47 1.35L5.41 20z\"/>\n",
              "  </svg>\n",
              "      </button>\n",
              "      \n",
              "  <style>\n",
              "    .colab-df-container {\n",
              "      display:flex;\n",
              "      flex-wrap:wrap;\n",
              "      gap: 12px;\n",
              "    }\n",
              "\n",
              "    .colab-df-convert {\n",
              "      background-color: #E8F0FE;\n",
              "      border: none;\n",
              "      border-radius: 50%;\n",
              "      cursor: pointer;\n",
              "      display: none;\n",
              "      fill: #1967D2;\n",
              "      height: 32px;\n",
              "      padding: 0 0 0 0;\n",
              "      width: 32px;\n",
              "    }\n",
              "\n",
              "    .colab-df-convert:hover {\n",
              "      background-color: #E2EBFA;\n",
              "      box-shadow: 0px 1px 2px rgba(60, 64, 67, 0.3), 0px 1px 3px 1px rgba(60, 64, 67, 0.15);\n",
              "      fill: #174EA6;\n",
              "    }\n",
              "\n",
              "    [theme=dark] .colab-df-convert {\n",
              "      background-color: #3B4455;\n",
              "      fill: #D2E3FC;\n",
              "    }\n",
              "\n",
              "    [theme=dark] .colab-df-convert:hover {\n",
              "      background-color: #434B5C;\n",
              "      box-shadow: 0px 1px 3px 1px rgba(0, 0, 0, 0.15);\n",
              "      filter: drop-shadow(0px 1px 2px rgba(0, 0, 0, 0.3));\n",
              "      fill: #FFFFFF;\n",
              "    }\n",
              "  </style>\n",
              "\n",
              "      <script>\n",
              "        const buttonEl =\n",
              "          document.querySelector('#df-48cb381a-9739-4fe4-be96-128564fcc9dd button.colab-df-convert');\n",
              "        buttonEl.style.display =\n",
              "          google.colab.kernel.accessAllowed ? 'block' : 'none';\n",
              "\n",
              "        async function convertToInteractive(key) {\n",
              "          const element = document.querySelector('#df-48cb381a-9739-4fe4-be96-128564fcc9dd');\n",
              "          const dataTable =\n",
              "            await google.colab.kernel.invokeFunction('convertToInteractive',\n",
              "                                                     [key], {});\n",
              "          if (!dataTable) return;\n",
              "\n",
              "          const docLinkHtml = 'Like what you see? Visit the ' +\n",
              "            '<a target=\"_blank\" href=https://colab.research.google.com/notebooks/data_table.ipynb>data table notebook</a>'\n",
              "            + ' to learn more about interactive tables.';\n",
              "          element.innerHTML = '';\n",
              "          dataTable['output_type'] = 'display_data';\n",
              "          await google.colab.output.renderOutput(dataTable, element);\n",
              "          const docLink = document.createElement('div');\n",
              "          docLink.innerHTML = docLinkHtml;\n",
              "          element.appendChild(docLink);\n",
              "        }\n",
              "      </script>\n",
              "    </div>\n",
              "  </div>\n",
              "  "
            ]
          },
          "metadata": {},
          "execution_count": 2
        }
      ]
    },
    {
      "cell_type": "markdown",
      "source": [
        "El nombre de los atributos del dataset es intuitivo. Sin embargo, hay ciertas columnas que necesitan explicación.\n",
        "\n",
        "1. **age**: Edad de la persona en años\n",
        "\n",
        "2. **sex**: Sexo de la persona (1 = varon, 0 = mujer)\n",
        "\n",
        "3. **cp**: Tipo de dolor en el pecho (Value 1: tipico de angina, Value 2: atipico angina, Value 3: no hay dolor de angina, Value 4: asintomático)\n",
        "\n",
        "4. **trestbps**: La presión sanguínea de la persona en reposo(mm Hg en la admisión al hospital)\n",
        "\n",
        "5. **chol**: El colesterol de la persona en mg/dl\n",
        "\n",
        "6. **fbs**: Nivel de azúcar en sangre en ayunas de la pesona (> 120 mg/dl, 1 = true; 0 = false)\n",
        "\n",
        "7. **restecg**: Medición electrocardiográfica en reposo (0 = normal, 1 = anormalidad de la onda ST-T, 2 = hipertrofia probable o definitiva del ventrículo izquierdo según los criterios de Estes)\n",
        "\n",
        "8. **thalach**: Frecuencia cardiaca máxima alcanzada por la persona. \n",
        "\n",
        "9. **exang**: Angina inducida por ejercicio (1 = yes; 0 = no)\n",
        "\n",
        "10. **oldpeak**: Descenso del ST inducido por el ejercicio en relación con el reposo ('ST' se relaciona con las posiciones en el gráfico de ECG)\n",
        "\n",
        "11. **slope**: la pendiente del segmento ST del ejercicio máximo (Valor 1: pendiente ascendente, Valor 2: plano, Valor 3: pendiente descendente)\n",
        "\n",
        "12. **ca**: El número de buques principales (0-4)\n",
        "\n",
        "13. **thal**: un trastorno de la sangre llamado talasemia (3 = normal; 6 = defecto fijo; 7 = defecto reversible)\n",
        "\n",
        "14. **target**: Enfermedad cardiaca (0 = no, 1 = yes)\n"
      ],
      "metadata": {
        "id": "QPPghmEn55F5"
      }
    },
    {
      "cell_type": "markdown",
      "source": [
        "# Ejercicio 1. Información del dataset"
      ],
      "metadata": {
        "id": "jhMret0cqbA2"
      }
    },
    {
      "cell_type": "markdown",
      "source": [
        "## Ejercicio 1.1. Visualización básica del dataset\n",
        "\n",
        "*   Muestra el número de ocurrencias que presentan enfermedades cardiovasculares y que no. Utiliza un diagrama de barras. \n",
        "\n",
        "*   Balancea ambos conjuntos de tal forma que no se añada ninguna ocurrencia artificial. Es decir, recorta aquel conjunto que contenga menos ocurrencias. \n",
        "\n"
      ],
      "metadata": {
        "id": "0xvKYMhV_lTc"
      }
    },
    {
      "cell_type": "code",
      "source": [
        "import matplotlib.pyplot as plt\n",
        "#visualización\n",
        "not_healthy = df_train[df_train['target'] == 1].shape[0]\n",
        "healthy = df_train[df_train['target'] == 0].shape[0]\n",
        "plt.bar(['Has heart problems', 'No heart problems'], [not_healthy, healthy])"
      ],
      "metadata": {
        "trusted": true,
        "id": "tRJwxAag55F5",
        "colab": {
          "base_uri": "https://localhost:8080/",
          "height": 141
        },
        "outputId": "238d296c-49f0-4a08-8eb7-bd9e61884090"
      },
      "execution_count": 3,
      "outputs": [
        {
          "output_type": "execute_result",
          "data": {
            "text/plain": [
              "<BarContainer object of 2 artists>"
            ]
          },
          "metadata": {},
          "execution_count": 3
        },
        {
          "output_type": "display_data",
          "data": {
            "text/plain": [
              "<Figure size 432x288 with 1 Axes>"
            ],
            "image/png": "[encoded data removed]"
          },
          "metadata": {
            "needs_background": "light"
          }
        }
      ]
    },
    {
      "cell_type": "code",
      "source": [
        "from sklearn.utils import resample\n",
        "#balanceamiento\n",
        "df_may = df_train[df_train['target'] == 1]\n",
        "df_min = df_train[df_train['target'] == 0]\n",
        "\n",
        "df_majority_downsampled = resample(df_min, \n",
        "                                 n_samples=len(df_may),\n",
        "                                 replace=True,      \n",
        "                                 random_state=42) \n",
        "\n",
        "df_train = pd.concat([df_may, df_majority_downsampled])"
      ],
      "metadata": {
        "id": "yvq6_hK7Gkd0"
      },
      "execution_count": 4,
      "outputs": []
    },
    {
      "cell_type": "markdown",
      "source": [
        "## Ejercicio 1.2. Correlación de variables\n",
        "\n",
        "* Muestra la matríz de correlación de todas las variables.\n",
        "* Crea una variable llamada **corr_variables** con el nombre de las variables más correlacionadas con target (más de 0,3). \n",
        "\n",
        "**Recuerda que un valor muy próximo a -1 también indica una alta correlación, por lo que habrá que tomar los valores absolutos**\n"
      ],
      "metadata": {
        "id": "wTVkckZk55F6"
      }
    },
    {
      "cell_type": "code",
      "source": [
        "import seaborn as sns\n",
        "#visualizar la matriz de correlación (utiliza una librería de visualización)\n",
        "plt.figure(figsize = (12,6))\n",
        "sns.heatmap(df_train.corr(), annot = True)\n",
        "plt.show()"
      ],
      "metadata": {
        "trusted": true,
        "id": "f7ANTIol55F6",
        "colab": {
          "base_uri": "https://localhost:8080/",
          "height": 54
        },
        "outputId": "6eeab73d-ea00-47f1-9711-b4d6cd4c33e2"
      },
      "execution_count": 5,
      "outputs": [
        {
          "output_type": "display_data",
          "data": {
            "text/plain": [
              "<Figure size 864x432 with 2 Axes>"
            ],
            "image/png": "[encoded data removed]"
          },
          "metadata": {
            "needs_background": "light"
          }
        }
      ]
    },
    {
      "cell_type": "code",
      "source": [
        "#obtener el array con las variables que tengan una correlación con target mayor que 0.3\n",
        "variables = df_train.corr().loc[:, 'target']\n",
        "corr_variables = variables[np.abs(variables) > 0.3].index\n",
        "\n",
        "print(corr_variables)"
      ],
      "metadata": {
        "id": "QfDRgIRAhUaM",
        "colab": {
          "base_uri": "https://localhost:8080/"
        },
        "outputId": "be151f44-6415-4915-af6e-f33d4281e534"
      },
      "execution_count": 6,
      "outputs": [
        {
          "output_type": "stream",
          "name": "stdout",
          "text": [
            "Index(['sex', 'cp', 'thalach', 'exang', 'oldpeak', 'ca', 'thal', 'target'], dtype='object')\n"
          ]
        }
      ]
    },
    {
      "cell_type": "markdown",
      "source": [
        "# Ejercicio 2. Preprocesamiento de datos"
      ],
      "metadata": {
        "id": "5PniPN3bo4ib"
      }
    },
    {
      "cell_type": "markdown",
      "source": [
        "## Ejercicio 2.1. One hot encoding\n",
        "\n",
        "Hasta ahora hemos utilizado one hote encoding para transformar variables categóricas en numéricas. Pero también podemos hacerlo para crear nuevas columnas a partir de los diferentes valores categóricos (aunque sean números) de una columna en concreto. \n",
        "\n",
        "Por ejemplo, la columna cp define el tipo de dolor en el pecho y sus valores pueden ser 1, 2, 3 o 4. Esta columna la podemos dividir en cuatro columnas nuevas cp_0, cp_1, cp_2, cp_3 y cp_4 con valores binarios 0 o 1. "
      ],
      "metadata": {
        "id": "XpcrmUye55GB"
      }
    },
    {
      "cell_type": "markdown",
      "source": [
        "**Identifica aquellas columnas cuyos valores sean categóricos (aunque sean enteros) y dividelas en columnas binarias con valores 0 y 1. Elimina la columna original.**"
      ],
      "metadata": {
        "id": "1VzFbHZggMRK"
      }
    },
    {
      "cell_type": "code",
      "source": [
        "# nos fijamos en valores minimos y maximos que seran enteros de 0 a x\n",
        "df_train.describe()"
      ],
      "metadata": {
        "colab": {
          "base_uri": "https://localhost:8080/",
          "height": 364
        },
        "id": "UyxDo1xYZDTU",
        "outputId": "225f89c0-10b9-467a-807c-2e4ab9101674"
      },
      "execution_count": 7,
      "outputs": [
        {
          "output_type": "execute_result",
          "data": {
            "text/plain": [
              "              age         sex          cp    trestbps        chol         fbs  \\\n",
              "count  330.000000  330.000000  330.000000  330.000000  330.000000  330.000000   \n",
              "mean    54.321212    0.706061    0.927273  130.524242  244.318182    0.160606   \n",
              "std      9.101914    0.456256    1.031796   17.332815   51.796234    0.367725   \n",
              "min     29.000000    0.000000    0.000000   94.000000  126.000000    0.000000   \n",
              "25%     47.000000    0.000000    0.000000  120.000000  208.000000    0.000000   \n",
              "50%     55.500000    1.000000    1.000000  130.000000  240.000000    0.000000   \n",
              "75%     62.000000    1.000000    2.000000  140.000000  276.000000    0.000000   \n",
              "max     76.000000    1.000000    3.000000  200.000000  564.000000    1.000000   \n",
              "\n",
              "          restecg     thalach       exang     oldpeak       slope          ca  \\\n",
              "count  330.000000  330.000000  330.000000  330.000000  330.000000  330.000000   \n",
              "mean     0.512121  148.948485    0.339394    1.044545    1.424242    0.760606   \n",
              "std      0.506647   22.588302    0.474223    1.129832    0.605462    1.022673   \n",
              "min      0.000000   71.000000    0.000000    0.000000    0.000000    0.000000   \n",
              "25%      0.000000  132.000000    0.000000    0.000000    1.000000    0.000000   \n",
              "50%      1.000000  152.000000    0.000000    0.800000    1.000000    0.000000   \n",
              "75%      1.000000  165.000000    1.000000    1.600000    2.000000    1.000000   \n",
              "max      2.000000  202.000000    1.000000    6.200000    2.000000    4.000000   \n",
              "\n",
              "             thal      target  \n",
              "count  330.000000  330.000000  \n",
              "mean     2.339394    0.500000  \n",
              "std      0.623715    0.500759  \n",
              "min      0.000000    0.000000  \n",
              "25%      2.000000    0.000000  \n",
              "50%      2.000000    0.500000  \n",
              "75%      3.000000    1.000000  \n",
              "max      3.000000    1.000000  "
            ],
            "text/html": [
              "\n",
              "  <div id=\"df-ec952029-d889-4135-bead-b740c68c810a\">\n",
              "    <div class=\"colab-df-container\">\n",
              "      <div>\n",
              "<style scoped>\n",
              "    .dataframe tbody tr th:only-of-type {\n",
              "        vertical-align: middle;\n",
              "    }\n",
              "\n",
              "    .dataframe tbody tr th {\n",
              "        vertical-align: top;\n",
              "    }\n",
              "\n",
              "    .dataframe thead th {\n",
              "        text-align: right;\n",
              "    }\n",
              "</style>\n",
              "<table border=\"1\" class=\"dataframe\">\n",
              "  <thead>\n",
              "    <tr style=\"text-align: right;\">\n",
              "      <th></th>\n",
              "      <th>age</th>\n",
              "      <th>sex</th>\n",
              "      <th>cp</th>\n",
              "      <th>trestbps</th>\n",
              "      <th>chol</th>\n",
              "      <th>fbs</th>\n",
              "      <th>restecg</th>\n",
              "      <th>thalach</th>\n",
              "      <th>exang</th>\n",
              "      <th>oldpeak</th>\n",
              "      <th>slope</th>\n",
              "      <th>ca</th>\n",
              "      <th>thal</th>\n",
              "      <th>target</th>\n",
              "    </tr>\n",
              "  </thead>\n",
              "  <tbody>\n",
              "    <tr>\n",
              "      <th>count</th>\n",
              "      <td>330.000000</td>\n",
              "      <td>330.000000</td>\n",
              "      <td>330.000000</td>\n",
              "      <td>330.000000</td>\n",
              "      <td>330.000000</td>\n",
              "      <td>330.000000</td>\n",
              "      <td>330.000000</td>\n",
              "      <td>330.000000</td>\n",
              "      <td>330.000000</td>\n",
              "      <td>330.000000</td>\n",
              "      <td>330.000000</td>\n",
              "      <td>330.000000</td>\n",
              "      <td>330.000000</td>\n",
              "      <td>330.000000</td>\n",
              "    </tr>\n",
              "    <tr>\n",
              "      <th>mean</th>\n",
              "      <td>54.321212</td>\n",
              "      <td>0.706061</td>\n",
              "      <td>0.927273</td>\n",
              "      <td>130.524242</td>\n",
              "      <td>244.318182</td>\n",
              "      <td>0.160606</td>\n",
              "      <td>0.512121</td>\n",
              "      <td>148.948485</td>\n",
              "      <td>0.339394</td>\n",
              "      <td>1.044545</td>\n",
              "      <td>1.424242</td>\n",
              "      <td>0.760606</td>\n",
              "      <td>2.339394</td>\n",
              "      <td>0.500000</td>\n",
              "    </tr>\n",
              "    <tr>\n",
              "      <th>std</th>\n",
              "      <td>9.101914</td>\n",
              "      <td>0.456256</td>\n",
              "      <td>1.031796</td>\n",
              "      <td>17.332815</td>\n",
              "      <td>51.796234</td>\n",
              "      <td>0.367725</td>\n",
              "      <td>0.506647</td>\n",
              "      <td>22.588302</td>\n",
              "      <td>0.474223</td>\n",
              "      <td>1.129832</td>\n",
              "      <td>0.605462</td>\n",
              "      <td>1.022673</td>\n",
              "      <td>0.623715</td>\n",
              "      <td>0.500759</td>\n",
              "    </tr>\n",
              "    <tr>\n",
              "      <th>min</th>\n",
              "      <td>29.000000</td>\n",
              "      <td>0.000000</td>\n",
              "      <td>0.000000</td>\n",
              "      <td>94.000000</td>\n",
              "      <td>126.000000</td>\n",
              "      <td>0.000000</td>\n",
              "      <td>0.000000</td>\n",
              "      <td>71.000000</td>\n",
              "      <td>0.000000</td>\n",
              "      <td>0.000000</td>\n",
              "      <td>0.000000</td>\n",
              "      <td>0.000000</td>\n",
              "      <td>0.000000</td>\n",
              "      <td>0.000000</td>\n",
              "    </tr>\n",
              "    <tr>\n",
              "      <th>25%</th>\n",
              "      <td>47.000000</td>\n",
              "      <td>0.000000</td>\n",
              "      <td>0.000000</td>\n",
              "      <td>120.000000</td>\n",
              "      <td>208.000000</td>\n",
              "      <td>0.000000</td>\n",
              "      <td>0.000000</td>\n",
              "      <td>132.000000</td>\n",
              "      <td>0.000000</td>\n",
              "      <td>0.000000</td>\n",
              "      <td>1.000000</td>\n",
              "      <td>0.000000</td>\n",
              "      <td>2.000000</td>\n",
              "      <td>0.000000</td>\n",
              "    </tr>\n",
              "    <tr>\n",
              "      <th>50%</th>\n",
              "      <td>55.500000</td>\n",
              "      <td>1.000000</td>\n",
              "      <td>1.000000</td>\n",
              "      <td>130.000000</td>\n",
              "      <td>240.000000</td>\n",
              "      <td>0.000000</td>\n",
              "      <td>1.000000</td>\n",
              "      <td>152.000000</td>\n",
              "      <td>0.000000</td>\n",
              "      <td>0.800000</td>\n",
              "      <td>1.000000</td>\n",
              "      <td>0.000000</td>\n",
              "      <td>2.000000</td>\n",
              "      <td>0.500000</td>\n",
              "    </tr>\n",
              "    <tr>\n",
              "      <th>75%</th>\n",
              "      <td>62.000000</td>\n",
              "      <td>1.000000</td>\n",
              "      <td>2.000000</td>\n",
              "      <td>140.000000</td>\n",
              "      <td>276.000000</td>\n",
              "      <td>0.000000</td>\n",
              "      <td>1.000000</td>\n",
              "      <td>165.000000</td>\n",
              "      <td>1.000000</td>\n",
              "      <td>1.600000</td>\n",
              "      <td>2.000000</td>\n",
              "      <td>1.000000</td>\n",
              "      <td>3.000000</td>\n",
              "      <td>1.000000</td>\n",
              "    </tr>\n",
              "    <tr>\n",
              "      <th>max</th>\n",
              "      <td>76.000000</td>\n",
              "      <td>1.000000</td>\n",
              "      <td>3.000000</td>\n",
              "      <td>200.000000</td>\n",
              "      <td>564.000000</td>\n",
              "      <td>1.000000</td>\n",
              "      <td>2.000000</td>\n",
              "      <td>202.000000</td>\n",
              "      <td>1.000000</td>\n",
              "      <td>6.200000</td>\n",
              "      <td>2.000000</td>\n",
              "      <td>4.000000</td>\n",
              "      <td>3.000000</td>\n",
              "      <td>1.000000</td>\n",
              "    </tr>\n",
              "  </tbody>\n",
              "</table>\n",
              "</div>\n",
              "      <button class=\"colab-df-convert\" onclick=\"convertToInteractive('df-ec952029-d889-4135-bead-b740c68c810a')\"\n",
              "              title=\"Convert this dataframe to an interactive table.\"\n",
              "              style=\"display:none;\">\n",
              "        \n",
              "  <svg xmlns=\"http://www.w3.org/2000/svg\" height=\"24px\"viewBox=\"0 0 24 24\"\n",
              "       width=\"24px\">\n",
              "    <path d=\"M0 0h24v24H0V0z\" fill=\"none\"/>\n",
              "    <path d=\"M18.56 5.44l.94 2.06.94-2.06 2.06-.94-2.06-.94-.94-2.06-.94 2.06-2.06.94zm-11 1L8.5 8.5l.94-2.06 2.06-.94-2.06-.94L8.5 2.5l-.94 2.06-2.06.94zm10 10l.94 2.06.94-2.06 2.06-.94-2.06-.94-.94-2.06-.94 2.06-2.06.94z\"/><path d=\"M17.41 7.96l-1.37-1.37c-.4-.4-.92-.59-1.43-.59-.52 0-1.04.2-1.43.59L10.3 9.45l-7.72 7.72c-.78.78-.78 2.05 0 2.83L4 21.41c.39.39.9.59 1.41.59.51 0 1.02-.2 1.41-.59l7.78-7.78 2.81-2.81c.8-.78.8-2.07 0-2.86zM5.41 20L4 18.59l7.72-7.72 1.47 1.35L5.41 20z\"/>\n",
              "  </svg>\n",
              "      </button>\n",
              "      \n",
              "  <style>\n",
              "    .colab-df-container {\n",
              "      display:flex;\n",
              "      flex-wrap:wrap;\n",
              "      gap: 12px;\n",
              "    }\n",
              "\n",
              "    .colab-df-convert {\n",
              "      background-color: #E8F0FE;\n",
              "      border: none;\n",
              "      border-radius: 50%;\n",
              "      cursor: pointer;\n",
              "      display: none;\n",
              "      fill: #1967D2;\n",
              "      height: 32px;\n",
              "      padding: 0 0 0 0;\n",
              "      width: 32px;\n",
              "    }\n",
              "\n",
              "    .colab-df-convert:hover {\n",
              "      background-color: #E2EBFA;\n",
              "      box-shadow: 0px 1px 2px rgba(60, 64, 67, 0.3), 0px 1px 3px 1px rgba(60, 64, 67, 0.15);\n",
              "      fill: #174EA6;\n",
              "    }\n",
              "\n",
              "    [theme=dark] .colab-df-convert {\n",
              "      background-color: #3B4455;\n",
              "      fill: #D2E3FC;\n",
              "    }\n",
              "\n",
              "    [theme=dark] .colab-df-convert:hover {\n",
              "      background-color: #434B5C;\n",
              "      box-shadow: 0px 1px 3px 1px rgba(0, 0, 0, 0.15);\n",
              "      filter: drop-shadow(0px 1px 2px rgba(0, 0, 0, 0.3));\n",
              "      fill: #FFFFFF;\n",
              "    }\n",
              "  </style>\n",
              "\n",
              "      <script>\n",
              "        const buttonEl =\n",
              "          document.querySelector('#df-ec952029-d889-4135-bead-b740c68c810a button.colab-df-convert');\n",
              "        buttonEl.style.display =\n",
              "          google.colab.kernel.accessAllowed ? 'block' : 'none';\n",
              "\n",
              "        async function convertToInteractive(key) {\n",
              "          const element = document.querySelector('#df-ec952029-d889-4135-bead-b740c68c810a');\n",
              "          const dataTable =\n",
              "            await google.colab.kernel.invokeFunction('convertToInteractive',\n",
              "                                                     [key], {});\n",
              "          if (!dataTable) return;\n",
              "\n",
              "          const docLinkHtml = 'Like what you see? Visit the ' +\n",
              "            '<a target=\"_blank\" href=https://colab.research.google.com/notebooks/data_table.ipynb>data table notebook</a>'\n",
              "            + ' to learn more about interactive tables.';\n",
              "          element.innerHTML = '';\n",
              "          dataTable['output_type'] = 'display_data';\n",
              "          await google.colab.output.renderOutput(dataTable, element);\n",
              "          const docLink = document.createElement('div');\n",
              "          docLink.innerHTML = docLinkHtml;\n",
              "          element.appendChild(docLink);\n",
              "        }\n",
              "      </script>\n",
              "    </div>\n",
              "  </div>\n",
              "  "
            ]
          },
          "metadata": {},
          "execution_count": 7
        }
      ]
    },
    {
      "cell_type": "code",
      "source": [
        "categorical_columns = ['ca', 'sex', 'cp', 'fbs', 'restecg', 'exang', 'slope', 'thal']"
      ],
      "metadata": {
        "trusted": true,
        "id": "c8RAEhGa55GC"
      },
      "execution_count": 8,
      "outputs": []
    },
    {
      "cell_type": "code",
      "source": [
        "#Descategorizar variables utilizando one hot enconding\n",
        "def onehot_encode(df, column):\n",
        "    for name in column:\n",
        "      df = df.copy()\n",
        "      dummies = pd.get_dummies(df[name], prefix=name) \n",
        "\n",
        "      df = pd.concat([df, dummies], axis=1)\n",
        "      df = df.drop(name, axis=1)         \n",
        "    return df\n",
        "    \n",
        "\n",
        "df_train = onehot_encode(df_train, categorical_columns)\n",
        "df_train.head(5)"
      ],
      "metadata": {
        "colab": {
          "base_uri": "https://localhost:8080/",
          "height": 299
        },
        "id": "xNm2U0aQbv2w",
        "outputId": "2d3bdc21-c093-4ef5-b545-5ee93c9a5123"
      },
      "execution_count": 9,
      "outputs": [
        {
          "output_type": "execute_result",
          "data": {
            "text/plain": [
              "   age  trestbps  chol  thalach  oldpeak  target  ca_0  ca_1  ca_2  ca_3  ...  \\\n",
              "0   63       145   233      150      2.3       1     1     0     0     0  ...   \n",
              "1   37       130   250      187      3.5       1     1     0     0     0  ...   \n",
              "2   41       130   204      172      1.4       1     1     0     0     0  ...   \n",
              "3   56       120   236      178      0.8       1     1     0     0     0  ...   \n",
              "4   57       120   354      163      0.6       1     1     0     0     0  ...   \n",
              "\n",
              "   restecg_2  exang_0  exang_1  slope_0  slope_1  slope_2  thal_0  thal_1  \\\n",
              "0          0        1        0        1        0        0       0       1   \n",
              "1          0        1        0        1        0        0       0       0   \n",
              "2          0        1        0        0        0        1       0       0   \n",
              "3          0        1        0        0        0        1       0       0   \n",
              "4          0        0        1        0        0        1       0       0   \n",
              "\n",
              "   thal_2  thal_3  \n",
              "0       0       0  \n",
              "1       1       0  \n",
              "2       1       0  \n",
              "3       1       0  \n",
              "4       1       0  \n",
              "\n",
              "[5 rows x 31 columns]"
            ],
            "text/html": [
              "\n",
              "  <div id=\"df-9a8a65dc-10d2-416b-a20a-52447b7af77d\">\n",
              "    <div class=\"colab-df-container\">\n",
              "      <div>\n",
              "<style scoped>\n",
              "    .dataframe tbody tr th:only-of-type {\n",
              "        vertical-align: middle;\n",
              "    }\n",
              "\n",
              "    .dataframe tbody tr th {\n",
              "        vertical-align: top;\n",
              "    }\n",
              "\n",
              "    .dataframe thead th {\n",
              "        text-align: right;\n",
              "    }\n",
              "</style>\n",
              "<table border=\"1\" class=\"dataframe\">\n",
              "  <thead>\n",
              "    <tr style=\"text-align: right;\">\n",
              "      <th></th>\n",
              "      <th>age</th>\n",
              "      <th>trestbps</th>\n",
              "      <th>chol</th>\n",
              "      <th>thalach</th>\n",
              "      <th>oldpeak</th>\n",
              "      <th>target</th>\n",
              "      <th>ca_0</th>\n",
              "      <th>ca_1</th>\n",
              "      <th>ca_2</th>\n",
              "      <th>ca_3</th>\n",
              "      <th>...</th>\n",
              "      <th>restecg_2</th>\n",
              "      <th>exang_0</th>\n",
              "      <th>exang_1</th>\n",
              "      <th>slope_0</th>\n",
              "      <th>slope_1</th>\n",
              "      <th>slope_2</th>\n",
              "      <th>thal_0</th>\n",
              "      <th>thal_1</th>\n",
              "      <th>thal_2</th>\n",
              "      <th>thal_3</th>\n",
              "    </tr>\n",
              "  </thead>\n",
              "  <tbody>\n",
              "    <tr>\n",
              "      <th>0</th>\n",
              "      <td>63</td>\n",
              "      <td>145</td>\n",
              "      <td>233</td>\n",
              "      <td>150</td>\n",
              "      <td>2.3</td>\n",
              "      <td>1</td>\n",
              "      <td>1</td>\n",
              "      <td>0</td>\n",
              "      <td>0</td>\n",
              "      <td>0</td>\n",
              "      <td>...</td>\n",
              "      <td>0</td>\n",
              "      <td>1</td>\n",
              "      <td>0</td>\n",
              "      <td>1</td>\n",
              "      <td>0</td>\n",
              "      <td>0</td>\n",
              "      <td>0</td>\n",
              "      <td>1</td>\n",
              "      <td>0</td>\n",
              "      <td>0</td>\n",
              "    </tr>\n",
              "    <tr>\n",
              "      <th>1</th>\n",
              "      <td>37</td>\n",
              "      <td>130</td>\n",
              "      <td>250</td>\n",
              "      <td>187</td>\n",
              "      <td>3.5</td>\n",
              "      <td>1</td>\n",
              "      <td>1</td>\n",
              "      <td>0</td>\n",
              "      <td>0</td>\n",
              "      <td>0</td>\n",
              "      <td>...</td>\n",
              "      <td>0</td>\n",
              "      <td>1</td>\n",
              "      <td>0</td>\n",
              "      <td>1</td>\n",
              "      <td>0</td>\n",
              "      <td>0</td>\n",
              "      <td>0</td>\n",
              "      <td>0</td>\n",
              "      <td>1</td>\n",
              "      <td>0</td>\n",
              "    </tr>\n",
              "    <tr>\n",
              "      <th>2</th>\n",
              "      <td>41</td>\n",
              "      <td>130</td>\n",
              "      <td>204</td>\n",
              "      <td>172</td>\n",
              "      <td>1.4</td>\n",
              "      <td>1</td>\n",
              "      <td>1</td>\n",
              "      <td>0</td>\n",
              "      <td>0</td>\n",
              "      <td>0</td>\n",
              "      <td>...</td>\n",
              "      <td>0</td>\n",
              "      <td>1</td>\n",
              "      <td>0</td>\n",
              "      <td>0</td>\n",
              "      <td>0</td>\n",
              "      <td>1</td>\n",
              "      <td>0</td>\n",
              "      <td>0</td>\n",
              "      <td>1</td>\n",
              "      <td>0</td>\n",
              "    </tr>\n",
              "    <tr>\n",
              "      <th>3</th>\n",
              "      <td>56</td>\n",
              "      <td>120</td>\n",
              "      <td>236</td>\n",
              "      <td>178</td>\n",
              "      <td>0.8</td>\n",
              "      <td>1</td>\n",
              "      <td>1</td>\n",
              "      <td>0</td>\n",
              "      <td>0</td>\n",
              "      <td>0</td>\n",
              "      <td>...</td>\n",
              "      <td>0</td>\n",
              "      <td>1</td>\n",
              "      <td>0</td>\n",
              "      <td>0</td>\n",
              "      <td>0</td>\n",
              "      <td>1</td>\n",
              "      <td>0</td>\n",
              "      <td>0</td>\n",
              "      <td>1</td>\n",
              "      <td>0</td>\n",
              "    </tr>\n",
              "    <tr>\n",
              "      <th>4</th>\n",
              "      <td>57</td>\n",
              "      <td>120</td>\n",
              "      <td>354</td>\n",
              "      <td>163</td>\n",
              "      <td>0.6</td>\n",
              "      <td>1</td>\n",
              "      <td>1</td>\n",
              "      <td>0</td>\n",
              "      <td>0</td>\n",
              "      <td>0</td>\n",
              "      <td>...</td>\n",
              "      <td>0</td>\n",
              "      <td>0</td>\n",
              "      <td>1</td>\n",
              "      <td>0</td>\n",
              "      <td>0</td>\n",
              "      <td>1</td>\n",
              "      <td>0</td>\n",
              "      <td>0</td>\n",
              "      <td>1</td>\n",
              "      <td>0</td>\n",
              "    </tr>\n",
              "  </tbody>\n",
              "</table>\n",
              "<p>5 rows × 31 columns</p>\n",
              "</div>\n",
              "      <button class=\"colab-df-convert\" onclick=\"convertToInteractive('df-9a8a65dc-10d2-416b-a20a-52447b7af77d')\"\n",
              "              title=\"Convert this dataframe to an interactive table.\"\n",
              "              style=\"display:none;\">\n",
              "        \n",
              "  <svg xmlns=\"http://www.w3.org/2000/svg\" height=\"24px\"viewBox=\"0 0 24 24\"\n",
              "       width=\"24px\">\n",
              "    <path d=\"M0 0h24v24H0V0z\" fill=\"none\"/>\n",
              "    <path d=\"M18.56 5.44l.94 2.06.94-2.06 2.06-.94-2.06-.94-.94-2.06-.94 2.06-2.06.94zm-11 1L8.5 8.5l.94-2.06 2.06-.94-2.06-.94L8.5 2.5l-.94 2.06-2.06.94zm10 10l.94 2.06.94-2.06 2.06-.94-2.06-.94-.94-2.06-.94 2.06-2.06.94z\"/><path d=\"M17.41 7.96l-1.37-1.37c-.4-.4-.92-.59-1.43-.59-.52 0-1.04.2-1.43.59L10.3 9.45l-7.72 7.72c-.78.78-.78 2.05 0 2.83L4 21.41c.39.39.9.59 1.41.59.51 0 1.02-.2 1.41-.59l7.78-7.78 2.81-2.81c.8-.78.8-2.07 0-2.86zM5.41 20L4 18.59l7.72-7.72 1.47 1.35L5.41 20z\"/>\n",
              "  </svg>\n",
              "      </button>\n",
              "      \n",
              "  <style>\n",
              "    .colab-df-container {\n",
              "      display:flex;\n",
              "      flex-wrap:wrap;\n",
              "      gap: 12px;\n",
              "    }\n",
              "\n",
              "    .colab-df-convert {\n",
              "      background-color: #E8F0FE;\n",
              "      border: none;\n",
              "      border-radius: 50%;\n",
              "      cursor: pointer;\n",
              "      display: none;\n",
              "      fill: #1967D2;\n",
              "      height: 32px;\n",
              "      padding: 0 0 0 0;\n",
              "      width: 32px;\n",
              "    }\n",
              "\n",
              "    .colab-df-convert:hover {\n",
              "      background-color: #E2EBFA;\n",
              "      box-shadow: 0px 1px 2px rgba(60, 64, 67, 0.3), 0px 1px 3px 1px rgba(60, 64, 67, 0.15);\n",
              "      fill: #174EA6;\n",
              "    }\n",
              "\n",
              "    [theme=dark] .colab-df-convert {\n",
              "      background-color: #3B4455;\n",
              "      fill: #D2E3FC;\n",
              "    }\n",
              "\n",
              "    [theme=dark] .colab-df-convert:hover {\n",
              "      background-color: #434B5C;\n",
              "      box-shadow: 0px 1px 3px 1px rgba(0, 0, 0, 0.15);\n",
              "      filter: drop-shadow(0px 1px 2px rgba(0, 0, 0, 0.3));\n",
              "      fill: #FFFFFF;\n",
              "    }\n",
              "  </style>\n",
              "\n",
              "      <script>\n",
              "        const buttonEl =\n",
              "          document.querySelector('#df-9a8a65dc-10d2-416b-a20a-52447b7af77d button.colab-df-convert');\n",
              "        buttonEl.style.display =\n",
              "          google.colab.kernel.accessAllowed ? 'block' : 'none';\n",
              "\n",
              "        async function convertToInteractive(key) {\n",
              "          const element = document.querySelector('#df-9a8a65dc-10d2-416b-a20a-52447b7af77d');\n",
              "          const dataTable =\n",
              "            await google.colab.kernel.invokeFunction('convertToInteractive',\n",
              "                                                     [key], {});\n",
              "          if (!dataTable) return;\n",
              "\n",
              "          const docLinkHtml = 'Like what you see? Visit the ' +\n",
              "            '<a target=\"_blank\" href=https://colab.research.google.com/notebooks/data_table.ipynb>data table notebook</a>'\n",
              "            + ' to learn more about interactive tables.';\n",
              "          element.innerHTML = '';\n",
              "          dataTable['output_type'] = 'display_data';\n",
              "          await google.colab.output.renderOutput(dataTable, element);\n",
              "          const docLink = document.createElement('div');\n",
              "          docLink.innerHTML = docLinkHtml;\n",
              "          element.appendChild(docLink);\n",
              "        }\n",
              "      </script>\n",
              "    </div>\n",
              "  </div>\n",
              "  "
            ]
          },
          "metadata": {},
          "execution_count": 9
        }
      ]
    },
    {
      "cell_type": "markdown",
      "source": [
        "# Ejercicio 3. División del dataset\n",
        "\n"
      ],
      "metadata": {
        "id": "NDVlC--Jq0OY"
      }
    },
    {
      "cell_type": "markdown",
      "source": [
        "## Ejercicio 3.1. División en entrenamiento y test\n",
        "**Divide el dataset de tal forma que el 80% sea de entrenamiento y el 20% para test**.\n",
        "\n"
      ],
      "metadata": {
        "id": "AyQWTXA1hQLb"
      }
    },
    {
      "cell_type": "code",
      "source": [
        "from sklearn.model_selection import train_test_split\n",
        "# División del dataset en las variables X_train, X_test, y_train, y_test\n",
        "df_train_y = df_train['target']\n",
        "df_train_x = df_train.drop('target', axis=1)\n",
        "\n",
        "X_train, X_test, y_train, y_test = train_test_split(df_train_x, df_train_y, train_size=0.80, shuffle=True, random_state=1, stratify=df_train['target'])"
      ],
      "metadata": {
        "trusted": true,
        "id": "4THrrojv55GD"
      },
      "execution_count": 10,
      "outputs": []
    },
    {
      "cell_type": "markdown",
      "source": [
        "## Ejercicio 3.2. Normalización del conjunto de entrenamiento y test\n",
        "\n",
        "**Normaliza los datos tanto de test como de entrenamiento**"
      ],
      "metadata": {
        "id": "fuM-HBI4h1-p"
      }
    },
    {
      "cell_type": "code",
      "source": [
        "from sklearn.preprocessing import MinMaxScaler\n",
        "#normalización\n",
        "scaler = MinMaxScaler()                                                 \n",
        "nomalized_train = scaler.fit_transform(X_train)                        \n",
        "nomalized_test = scaler.transform(X_test)                        \n",
        "X_train = pd.DataFrame(nomalized_train, columns=X_train.columns)\n",
        "X_test = pd.DataFrame(nomalized_test, columns=X_test.columns)"
      ],
      "metadata": {
        "trusted": true,
        "id": "aYfBzvas55GE"
      },
      "execution_count": 11,
      "outputs": []
    },
    {
      "cell_type": "code",
      "source": [
        "X_train.head()"
      ],
      "metadata": {
        "colab": {
          "base_uri": "https://localhost:8080/",
          "height": 235
        },
        "id": "MktIpj3XIKBu",
        "outputId": "b0d57541-f283-4d48-e9ed-27f4ac8b653f"
      },
      "execution_count": 12,
      "outputs": [
        {
          "output_type": "execute_result",
          "data": {
            "text/plain": [
              "        age  trestbps      chol   thalach   oldpeak  ca_0  ca_1  ca_2  ca_3  \\\n",
              "0  0.733333  0.415094  0.383562  0.267176  0.306452   0.0   0.0   0.0   1.0   \n",
              "1  0.800000  0.575472  0.326484  0.587786  0.129032   1.0   0.0   0.0   0.0   \n",
              "2  0.288889  0.509434  0.269406  0.816794  0.129032   0.0   0.0   1.0   0.0   \n",
              "3  0.755556  0.481132  0.244292  0.603053  0.370968   1.0   0.0   0.0   0.0   \n",
              "4  0.644444  0.245283  0.360731  0.679389  0.290323   1.0   0.0   0.0   0.0   \n",
              "\n",
              "   ca_4  ...  restecg_2  exang_0  exang_1  slope_0  slope_1  slope_2  thal_0  \\\n",
              "0   0.0  ...        0.0      1.0      0.0      0.0      1.0      0.0     0.0   \n",
              "1   0.0  ...        0.0      1.0      0.0      0.0      0.0      1.0     0.0   \n",
              "2   0.0  ...        0.0      1.0      0.0      0.0      0.0      1.0     0.0   \n",
              "3   0.0  ...        0.0      1.0      0.0      1.0      0.0      0.0     0.0   \n",
              "4   0.0  ...        0.0      1.0      0.0      0.0      1.0      0.0     0.0   \n",
              "\n",
              "   thal_1  thal_2  thal_3  \n",
              "0     0.0     1.0     0.0  \n",
              "1     0.0     1.0     0.0  \n",
              "2     0.0     1.0     0.0  \n",
              "3     1.0     0.0     0.0  \n",
              "4     0.0     1.0     0.0  \n",
              "\n",
              "[5 rows x 30 columns]"
            ],
            "text/html": [
              "\n",
              "  <div id=\"df-e143d592-17c1-4737-b5ce-f15f72d9d46b\">\n",
              "    <div class=\"colab-df-container\">\n",
              "      <div>\n",
              "<style scoped>\n",
              "    .dataframe tbody tr th:only-of-type {\n",
              "        vertical-align: middle;\n",
              "    }\n",
              "\n",
              "    .dataframe tbody tr th {\n",
              "        vertical-align: top;\n",
              "    }\n",
              "\n",
              "    .dataframe thead th {\n",
              "        text-align: right;\n",
              "    }\n",
              "</style>\n",
              "<table border=\"1\" class=\"dataframe\">\n",
              "  <thead>\n",
              "    <tr style=\"text-align: right;\">\n",
              "      <th></th>\n",
              "      <th>age</th>\n",
              "      <th>trestbps</th>\n",
              "      <th>chol</th>\n",
              "      <th>thalach</th>\n",
              "      <th>oldpeak</th>\n",
              "      <th>ca_0</th>\n",
              "      <th>ca_1</th>\n",
              "      <th>ca_2</th>\n",
              "      <th>ca_3</th>\n",
              "      <th>ca_4</th>\n",
              "      <th>...</th>\n",
              "      <th>restecg_2</th>\n",
              "      <th>exang_0</th>\n",
              "      <th>exang_1</th>\n",
              "      <th>slope_0</th>\n",
              "      <th>slope_1</th>\n",
              "      <th>slope_2</th>\n",
              "      <th>thal_0</th>\n",
              "      <th>thal_1</th>\n",
              "      <th>thal_2</th>\n",
              "      <th>thal_3</th>\n",
              "    </tr>\n",
              "  </thead>\n",
              "  <tbody>\n",
              "    <tr>\n",
              "      <th>0</th>\n",
              "      <td>0.733333</td>\n",
              "      <td>0.415094</td>\n",
              "      <td>0.383562</td>\n",
              "      <td>0.267176</td>\n",
              "      <td>0.306452</td>\n",
              "      <td>0.0</td>\n",
              "      <td>0.0</td>\n",
              "      <td>0.0</td>\n",
              "      <td>1.0</td>\n",
              "      <td>0.0</td>\n",
              "      <td>...</td>\n",
              "      <td>0.0</td>\n",
              "      <td>1.0</td>\n",
              "      <td>0.0</td>\n",
              "      <td>0.0</td>\n",
              "      <td>1.0</td>\n",
              "      <td>0.0</td>\n",
              "      <td>0.0</td>\n",
              "      <td>0.0</td>\n",
              "      <td>1.0</td>\n",
              "      <td>0.0</td>\n",
              "    </tr>\n",
              "    <tr>\n",
              "      <th>1</th>\n",
              "      <td>0.800000</td>\n",
              "      <td>0.575472</td>\n",
              "      <td>0.326484</td>\n",
              "      <td>0.587786</td>\n",
              "      <td>0.129032</td>\n",
              "      <td>1.0</td>\n",
              "      <td>0.0</td>\n",
              "      <td>0.0</td>\n",
              "      <td>0.0</td>\n",
              "      <td>0.0</td>\n",
              "      <td>...</td>\n",
              "      <td>0.0</td>\n",
              "      <td>1.0</td>\n",
              "      <td>0.0</td>\n",
              "      <td>0.0</td>\n",
              "      <td>0.0</td>\n",
              "      <td>1.0</td>\n",
              "      <td>0.0</td>\n",
              "      <td>0.0</td>\n",
              "      <td>1.0</td>\n",
              "      <td>0.0</td>\n",
              "    </tr>\n",
              "    <tr>\n",
              "      <th>2</th>\n",
              "      <td>0.288889</td>\n",
              "      <td>0.509434</td>\n",
              "      <td>0.269406</td>\n",
              "      <td>0.816794</td>\n",
              "      <td>0.129032</td>\n",
              "      <td>0.0</td>\n",
              "      <td>0.0</td>\n",
              "      <td>1.0</td>\n",
              "      <td>0.0</td>\n",
              "      <td>0.0</td>\n",
              "      <td>...</td>\n",
              "      <td>0.0</td>\n",
              "      <td>1.0</td>\n",
              "      <td>0.0</td>\n",
              "      <td>0.0</td>\n",
              "      <td>0.0</td>\n",
              "      <td>1.0</td>\n",
              "      <td>0.0</td>\n",
              "      <td>0.0</td>\n",
              "      <td>1.0</td>\n",
              "      <td>0.0</td>\n",
              "    </tr>\n",
              "    <tr>\n",
              "      <th>3</th>\n",
              "      <td>0.755556</td>\n",
              "      <td>0.481132</td>\n",
              "      <td>0.244292</td>\n",
              "      <td>0.603053</td>\n",
              "      <td>0.370968</td>\n",
              "      <td>1.0</td>\n",
              "      <td>0.0</td>\n",
              "      <td>0.0</td>\n",
              "      <td>0.0</td>\n",
              "      <td>0.0</td>\n",
              "      <td>...</td>\n",
              "      <td>0.0</td>\n",
              "      <td>1.0</td>\n",
              "      <td>0.0</td>\n",
              "      <td>1.0</td>\n",
              "      <td>0.0</td>\n",
              "      <td>0.0</td>\n",
              "      <td>0.0</td>\n",
              "      <td>1.0</td>\n",
              "      <td>0.0</td>\n",
              "      <td>0.0</td>\n",
              "    </tr>\n",
              "    <tr>\n",
              "      <th>4</th>\n",
              "      <td>0.644444</td>\n",
              "      <td>0.245283</td>\n",
              "      <td>0.360731</td>\n",
              "      <td>0.679389</td>\n",
              "      <td>0.290323</td>\n",
              "      <td>1.0</td>\n",
              "      <td>0.0</td>\n",
              "      <td>0.0</td>\n",
              "      <td>0.0</td>\n",
              "      <td>0.0</td>\n",
              "      <td>...</td>\n",
              "      <td>0.0</td>\n",
              "      <td>1.0</td>\n",
              "      <td>0.0</td>\n",
              "      <td>0.0</td>\n",
              "      <td>1.0</td>\n",
              "      <td>0.0</td>\n",
              "      <td>0.0</td>\n",
              "      <td>0.0</td>\n",
              "      <td>1.0</td>\n",
              "      <td>0.0</td>\n",
              "    </tr>\n",
              "  </tbody>\n",
              "</table>\n",
              "<p>5 rows × 30 columns</p>\n",
              "</div>\n",
              "      <button class=\"colab-df-convert\" onclick=\"convertToInteractive('df-e143d592-17c1-4737-b5ce-f15f72d9d46b')\"\n",
              "              title=\"Convert this dataframe to an interactive table.\"\n",
              "              style=\"display:none;\">\n",
              "        \n",
              "  <svg xmlns=\"http://www.w3.org/2000/svg\" height=\"24px\"viewBox=\"0 0 24 24\"\n",
              "       width=\"24px\">\n",
              "    <path d=\"M0 0h24v24H0V0z\" fill=\"none\"/>\n",
              "    <path d=\"M18.56 5.44l.94 2.06.94-2.06 2.06-.94-2.06-.94-.94-2.06-.94 2.06-2.06.94zm-11 1L8.5 8.5l.94-2.06 2.06-.94-2.06-.94L8.5 2.5l-.94 2.06-2.06.94zm10 10l.94 2.06.94-2.06 2.06-.94-2.06-.94-.94-2.06-.94 2.06-2.06.94z\"/><path d=\"M17.41 7.96l-1.37-1.37c-.4-.4-.92-.59-1.43-.59-.52 0-1.04.2-1.43.59L10.3 9.45l-7.72 7.72c-.78.78-.78 2.05 0 2.83L4 21.41c.39.39.9.59 1.41.59.51 0 1.02-.2 1.41-.59l7.78-7.78 2.81-2.81c.8-.78.8-2.07 0-2.86zM5.41 20L4 18.59l7.72-7.72 1.47 1.35L5.41 20z\"/>\n",
              "  </svg>\n",
              "      </button>\n",
              "      \n",
              "  <style>\n",
              "    .colab-df-container {\n",
              "      display:flex;\n",
              "      flex-wrap:wrap;\n",
              "      gap: 12px;\n",
              "    }\n",
              "\n",
              "    .colab-df-convert {\n",
              "      background-color: #E8F0FE;\n",
              "      border: none;\n",
              "      border-radius: 50%;\n",
              "      cursor: pointer;\n",
              "      display: none;\n",
              "      fill: #1967D2;\n",
              "      height: 32px;\n",
              "      padding: 0 0 0 0;\n",
              "      width: 32px;\n",
              "    }\n",
              "\n",
              "    .colab-df-convert:hover {\n",
              "      background-color: #E2EBFA;\n",
              "      box-shadow: 0px 1px 2px rgba(60, 64, 67, 0.3), 0px 1px 3px 1px rgba(60, 64, 67, 0.15);\n",
              "      fill: #174EA6;\n",
              "    }\n",
              "\n",
              "    [theme=dark] .colab-df-convert {\n",
              "      background-color: #3B4455;\n",
              "      fill: #D2E3FC;\n",
              "    }\n",
              "\n",
              "    [theme=dark] .colab-df-convert:hover {\n",
              "      background-color: #434B5C;\n",
              "      box-shadow: 0px 1px 3px 1px rgba(0, 0, 0, 0.15);\n",
              "      filter: drop-shadow(0px 1px 2px rgba(0, 0, 0, 0.3));\n",
              "      fill: #FFFFFF;\n",
              "    }\n",
              "  </style>\n",
              "\n",
              "      <script>\n",
              "        const buttonEl =\n",
              "          document.querySelector('#df-e143d592-17c1-4737-b5ce-f15f72d9d46b button.colab-df-convert');\n",
              "        buttonEl.style.display =\n",
              "          google.colab.kernel.accessAllowed ? 'block' : 'none';\n",
              "\n",
              "        async function convertToInteractive(key) {\n",
              "          const element = document.querySelector('#df-e143d592-17c1-4737-b5ce-f15f72d9d46b');\n",
              "          const dataTable =\n",
              "            await google.colab.kernel.invokeFunction('convertToInteractive',\n",
              "                                                     [key], {});\n",
              "          if (!dataTable) return;\n",
              "\n",
              "          const docLinkHtml = 'Like what you see? Visit the ' +\n",
              "            '<a target=\"_blank\" href=https://colab.research.google.com/notebooks/data_table.ipynb>data table notebook</a>'\n",
              "            + ' to learn more about interactive tables.';\n",
              "          element.innerHTML = '';\n",
              "          dataTable['output_type'] = 'display_data';\n",
              "          await google.colab.output.renderOutput(dataTable, element);\n",
              "          const docLink = document.createElement('div');\n",
              "          docLink.innerHTML = docLinkHtml;\n",
              "          element.appendChild(docLink);\n",
              "        }\n",
              "      </script>\n",
              "    </div>\n",
              "  </div>\n",
              "  "
            ]
          },
          "metadata": {},
          "execution_count": 12
        }
      ]
    },
    {
      "cell_type": "code",
      "source": [
        "X_test.head()"
      ],
      "metadata": {
        "colab": {
          "base_uri": "https://localhost:8080/",
          "height": 235
        },
        "id": "mv8xqSBYLmy2",
        "outputId": "b9d8d638-3be4-4fae-9274-5eb3c37bcd7d"
      },
      "execution_count": 13,
      "outputs": [
        {
          "output_type": "execute_result",
          "data": {
            "text/plain": [
              "        age  trestbps      chol   thalach   oldpeak  ca_0  ca_1  ca_2  ca_3  \\\n",
              "0  0.488889  0.056604  0.219178  0.549618  0.193548   1.0   0.0   0.0   0.0   \n",
              "1  0.333333  0.339623  0.212329  0.893130  0.000000   1.0   0.0   0.0   0.0   \n",
              "2  0.755556  0.339623  0.292237  0.580153  0.225806   0.0   1.0   0.0   0.0   \n",
              "3  0.666667  0.377358  0.178082  0.694656  0.129032   0.0   0.0   1.0   0.0   \n",
              "4  0.733333  0.320755  0.187215  0.526718  0.000000   1.0   0.0   0.0   0.0   \n",
              "\n",
              "   ca_4  ...  restecg_2  exang_0  exang_1  slope_0  slope_1  slope_2  thal_0  \\\n",
              "0   0.0  ...        0.0      0.0      1.0      0.0      1.0      0.0     0.0   \n",
              "1   0.0  ...        0.0      1.0      0.0      0.0      0.0      1.0     0.0   \n",
              "2   0.0  ...        0.0      1.0      0.0      0.0      1.0      0.0     0.0   \n",
              "3   0.0  ...        0.0      1.0      0.0      0.0      0.0      1.0     0.0   \n",
              "4   0.0  ...        0.0      1.0      0.0      0.0      0.0      1.0     0.0   \n",
              "\n",
              "   thal_1  thal_2  thal_3  \n",
              "0     0.0     1.0     0.0  \n",
              "1     0.0     1.0     0.0  \n",
              "2     0.0     0.0     1.0  \n",
              "3     0.0     1.0     0.0  \n",
              "4     0.0     1.0     0.0  \n",
              "\n",
              "[5 rows x 30 columns]"
            ],
            "text/html": [
              "\n",
              "  <div id=\"df-a1e08f4c-ae8e-42fe-bc9d-a58c898a9764\">\n",
              "    <div class=\"colab-df-container\">\n",
              "      <div>\n",
              "<style scoped>\n",
              "    .dataframe tbody tr th:only-of-type {\n",
              "        vertical-align: middle;\n",
              "    }\n",
              "\n",
              "    .dataframe tbody tr th {\n",
              "        vertical-align: top;\n",
              "    }\n",
              "\n",
              "    .dataframe thead th {\n",
              "        text-align: right;\n",
              "    }\n",
              "</style>\n",
              "<table border=\"1\" class=\"dataframe\">\n",
              "  <thead>\n",
              "    <tr style=\"text-align: right;\">\n",
              "      <th></th>\n",
              "      <th>age</th>\n",
              "      <th>trestbps</th>\n",
              "      <th>chol</th>\n",
              "      <th>thalach</th>\n",
              "      <th>oldpeak</th>\n",
              "      <th>ca_0</th>\n",
              "      <th>ca_1</th>\n",
              "      <th>ca_2</th>\n",
              "      <th>ca_3</th>\n",
              "      <th>ca_4</th>\n",
              "      <th>...</th>\n",
              "      <th>restecg_2</th>\n",
              "      <th>exang_0</th>\n",
              "      <th>exang_1</th>\n",
              "      <th>slope_0</th>\n",
              "      <th>slope_1</th>\n",
              "      <th>slope_2</th>\n",
              "      <th>thal_0</th>\n",
              "      <th>thal_1</th>\n",
              "      <th>thal_2</th>\n",
              "      <th>thal_3</th>\n",
              "    </tr>\n",
              "  </thead>\n",
              "  <tbody>\n",
              "    <tr>\n",
              "      <th>0</th>\n",
              "      <td>0.488889</td>\n",
              "      <td>0.056604</td>\n",
              "      <td>0.219178</td>\n",
              "      <td>0.549618</td>\n",
              "      <td>0.193548</td>\n",
              "      <td>1.0</td>\n",
              "      <td>0.0</td>\n",
              "      <td>0.0</td>\n",
              "      <td>0.0</td>\n",
              "      <td>0.0</td>\n",
              "      <td>...</td>\n",
              "      <td>0.0</td>\n",
              "      <td>0.0</td>\n",
              "      <td>1.0</td>\n",
              "      <td>0.0</td>\n",
              "      <td>1.0</td>\n",
              "      <td>0.0</td>\n",
              "      <td>0.0</td>\n",
              "      <td>0.0</td>\n",
              "      <td>1.0</td>\n",
              "      <td>0.0</td>\n",
              "    </tr>\n",
              "    <tr>\n",
              "      <th>1</th>\n",
              "      <td>0.333333</td>\n",
              "      <td>0.339623</td>\n",
              "      <td>0.212329</td>\n",
              "      <td>0.893130</td>\n",
              "      <td>0.000000</td>\n",
              "      <td>1.0</td>\n",
              "      <td>0.0</td>\n",
              "      <td>0.0</td>\n",
              "      <td>0.0</td>\n",
              "      <td>0.0</td>\n",
              "      <td>...</td>\n",
              "      <td>0.0</td>\n",
              "      <td>1.0</td>\n",
              "      <td>0.0</td>\n",
              "      <td>0.0</td>\n",
              "      <td>0.0</td>\n",
              "      <td>1.0</td>\n",
              "      <td>0.0</td>\n",
              "      <td>0.0</td>\n",
              "      <td>1.0</td>\n",
              "      <td>0.0</td>\n",
              "    </tr>\n",
              "    <tr>\n",
              "      <th>2</th>\n",
              "      <td>0.755556</td>\n",
              "      <td>0.339623</td>\n",
              "      <td>0.292237</td>\n",
              "      <td>0.580153</td>\n",
              "      <td>0.225806</td>\n",
              "      <td>0.0</td>\n",
              "      <td>1.0</td>\n",
              "      <td>0.0</td>\n",
              "      <td>0.0</td>\n",
              "      <td>0.0</td>\n",
              "      <td>...</td>\n",
              "      <td>0.0</td>\n",
              "      <td>1.0</td>\n",
              "      <td>0.0</td>\n",
              "      <td>0.0</td>\n",
              "      <td>1.0</td>\n",
              "      <td>0.0</td>\n",
              "      <td>0.0</td>\n",
              "      <td>0.0</td>\n",
              "      <td>0.0</td>\n",
              "      <td>1.0</td>\n",
              "    </tr>\n",
              "    <tr>\n",
              "      <th>3</th>\n",
              "      <td>0.666667</td>\n",
              "      <td>0.377358</td>\n",
              "      <td>0.178082</td>\n",
              "      <td>0.694656</td>\n",
              "      <td>0.129032</td>\n",
              "      <td>0.0</td>\n",
              "      <td>0.0</td>\n",
              "      <td>1.0</td>\n",
              "      <td>0.0</td>\n",
              "      <td>0.0</td>\n",
              "      <td>...</td>\n",
              "      <td>0.0</td>\n",
              "      <td>1.0</td>\n",
              "      <td>0.0</td>\n",
              "      <td>0.0</td>\n",
              "      <td>0.0</td>\n",
              "      <td>1.0</td>\n",
              "      <td>0.0</td>\n",
              "      <td>0.0</td>\n",
              "      <td>1.0</td>\n",
              "      <td>0.0</td>\n",
              "    </tr>\n",
              "    <tr>\n",
              "      <th>4</th>\n",
              "      <td>0.733333</td>\n",
              "      <td>0.320755</td>\n",
              "      <td>0.187215</td>\n",
              "      <td>0.526718</td>\n",
              "      <td>0.000000</td>\n",
              "      <td>1.0</td>\n",
              "      <td>0.0</td>\n",
              "      <td>0.0</td>\n",
              "      <td>0.0</td>\n",
              "      <td>0.0</td>\n",
              "      <td>...</td>\n",
              "      <td>0.0</td>\n",
              "      <td>1.0</td>\n",
              "      <td>0.0</td>\n",
              "      <td>0.0</td>\n",
              "      <td>0.0</td>\n",
              "      <td>1.0</td>\n",
              "      <td>0.0</td>\n",
              "      <td>0.0</td>\n",
              "      <td>1.0</td>\n",
              "      <td>0.0</td>\n",
              "    </tr>\n",
              "  </tbody>\n",
              "</table>\n",
              "<p>5 rows × 30 columns</p>\n",
              "</div>\n",
              "      <button class=\"colab-df-convert\" onclick=\"convertToInteractive('df-a1e08f4c-ae8e-42fe-bc9d-a58c898a9764')\"\n",
              "              title=\"Convert this dataframe to an interactive table.\"\n",
              "              style=\"display:none;\">\n",
              "        \n",
              "  <svg xmlns=\"http://www.w3.org/2000/svg\" height=\"24px\"viewBox=\"0 0 24 24\"\n",
              "       width=\"24px\">\n",
              "    <path d=\"M0 0h24v24H0V0z\" fill=\"none\"/>\n",
              "    <path d=\"M18.56 5.44l.94 2.06.94-2.06 2.06-.94-2.06-.94-.94-2.06-.94 2.06-2.06.94zm-11 1L8.5 8.5l.94-2.06 2.06-.94-2.06-.94L8.5 2.5l-.94 2.06-2.06.94zm10 10l.94 2.06.94-2.06 2.06-.94-2.06-.94-.94-2.06-.94 2.06-2.06.94z\"/><path d=\"M17.41 7.96l-1.37-1.37c-.4-.4-.92-.59-1.43-.59-.52 0-1.04.2-1.43.59L10.3 9.45l-7.72 7.72c-.78.78-.78 2.05 0 2.83L4 21.41c.39.39.9.59 1.41.59.51 0 1.02-.2 1.41-.59l7.78-7.78 2.81-2.81c.8-.78.8-2.07 0-2.86zM5.41 20L4 18.59l7.72-7.72 1.47 1.35L5.41 20z\"/>\n",
              "  </svg>\n",
              "      </button>\n",
              "      \n",
              "  <style>\n",
              "    .colab-df-container {\n",
              "      display:flex;\n",
              "      flex-wrap:wrap;\n",
              "      gap: 12px;\n",
              "    }\n",
              "\n",
              "    .colab-df-convert {\n",
              "      background-color: #E8F0FE;\n",
              "      border: none;\n",
              "      border-radius: 50%;\n",
              "      cursor: pointer;\n",
              "      display: none;\n",
              "      fill: #1967D2;\n",
              "      height: 32px;\n",
              "      padding: 0 0 0 0;\n",
              "      width: 32px;\n",
              "    }\n",
              "\n",
              "    .colab-df-convert:hover {\n",
              "      background-color: #E2EBFA;\n",
              "      box-shadow: 0px 1px 2px rgba(60, 64, 67, 0.3), 0px 1px 3px 1px rgba(60, 64, 67, 0.15);\n",
              "      fill: #174EA6;\n",
              "    }\n",
              "\n",
              "    [theme=dark] .colab-df-convert {\n",
              "      background-color: #3B4455;\n",
              "      fill: #D2E3FC;\n",
              "    }\n",
              "\n",
              "    [theme=dark] .colab-df-convert:hover {\n",
              "      background-color: #434B5C;\n",
              "      box-shadow: 0px 1px 3px 1px rgba(0, 0, 0, 0.15);\n",
              "      filter: drop-shadow(0px 1px 2px rgba(0, 0, 0, 0.3));\n",
              "      fill: #FFFFFF;\n",
              "    }\n",
              "  </style>\n",
              "\n",
              "      <script>\n",
              "        const buttonEl =\n",
              "          document.querySelector('#df-a1e08f4c-ae8e-42fe-bc9d-a58c898a9764 button.colab-df-convert');\n",
              "        buttonEl.style.display =\n",
              "          google.colab.kernel.accessAllowed ? 'block' : 'none';\n",
              "\n",
              "        async function convertToInteractive(key) {\n",
              "          const element = document.querySelector('#df-a1e08f4c-ae8e-42fe-bc9d-a58c898a9764');\n",
              "          const dataTable =\n",
              "            await google.colab.kernel.invokeFunction('convertToInteractive',\n",
              "                                                     [key], {});\n",
              "          if (!dataTable) return;\n",
              "\n",
              "          const docLinkHtml = 'Like what you see? Visit the ' +\n",
              "            '<a target=\"_blank\" href=https://colab.research.google.com/notebooks/data_table.ipynb>data table notebook</a>'\n",
              "            + ' to learn more about interactive tables.';\n",
              "          element.innerHTML = '';\n",
              "          dataTable['output_type'] = 'display_data';\n",
              "          await google.colab.output.renderOutput(dataTable, element);\n",
              "          const docLink = document.createElement('div');\n",
              "          docLink.innerHTML = docLinkHtml;\n",
              "          element.appendChild(docLink);\n",
              "        }\n",
              "      </script>\n",
              "    </div>\n",
              "  </div>\n",
              "  "
            ]
          },
          "metadata": {},
          "execution_count": 13
        }
      ]
    },
    {
      "cell_type": "markdown",
      "source": [
        "# Ejercicio 4. Generación de modelos"
      ],
      "metadata": {
        "id": "6F5yk0dRj6Lq"
      }
    },
    {
      "cell_type": "markdown",
      "source": [
        "### Ejercicio 4.1. Definición de función que muestre informe sobre una predicción\n"
      ],
      "metadata": {
        "id": "-hmLE_c-j9iS"
      }
    },
    {
      "cell_type": "markdown",
      "source": [
        "1.   Crea una función que reciba (1) un array con los valores que se deberían obtener de la predicción (y_test); y (2) un array con los valores predichos por un modelo concreto (y_pred). La función deberá generar un informe con:\n",
        "\n",
        "  1.1.   Muestra la exactitud, precisión, y recall del modelo generado. \n",
        "\n",
        "  1.2.   Visualiza la matriz de confusión del modelo.\n",
        "\n",
        "  1.3.   Visualiza un grafo con su curva ROC y área AUC\n",
        "\n",
        "Una posible cabecera de la función podría ser: \n",
        "\n",
        "```python\n",
        "def informe_modelo(y_test, y_pred):\n",
        "```\n"
      ],
      "metadata": {
        "id": "6vAuKkDnkb5z"
      }
    },
    {
      "cell_type": "markdown",
      "source": [
        "1.2 Funcion para mostar la matriz de confusion "
      ],
      "metadata": {
        "id": "_lvrMMaH7AUw"
      }
    },
    {
      "cell_type": "code",
      "source": [
        "from sklearn.metrics import confusion_matrix\n",
        "\n",
        "def mostar_matriz_confusion(pred, y_test):\n",
        "  cm = confusion_matrix(pred, y_test)\n",
        "  ax = plt.subplot()\n",
        "\n",
        "  sns.heatmap(cm, annot=True, ax=ax, cmap='Blues');\n",
        "  ax.set_xlabel('Valores Predichos');\n",
        "  ax.set_ylabel('Valores Reales');\n",
        "  ax.xaxis.set_ticklabels([1, 0]); \n",
        "  ax.yaxis.set_ticklabels([1, 0]);\n",
        "  plt.show()"
      ],
      "metadata": {
        "id": "_n_gDg8H0rIt"
      },
      "execution_count": 14,
      "outputs": []
    },
    {
      "cell_type": "markdown",
      "source": [
        "1.3 Funcion para mostar las curvas ROC y AUC"
      ],
      "metadata": {
        "id": "qlASC7ga7D94"
      }
    },
    {
      "cell_type": "code",
      "source": [
        "from sklearn.metrics import roc_curve, auc, RocCurveDisplay\n",
        "\n",
        "def mostrar_curva_roc_y_auc(pred, y_test):\n",
        "  #calculo el ratio de verdaderos positivos y falsos positivos. \n",
        "  fpr, tpr, _ = roc_curve(y_test, pred)\n",
        "  \n",
        "  #con estos valores obtengo el valor para la AUC\n",
        "  roc_auc = auc(fpr, tpr)\n",
        "  \n",
        "  display = RocCurveDisplay(fpr=fpr, tpr=tpr, roc_auc=roc_auc, estimator_name='RandomForestClassifier')\n",
        "  display.plot()\n",
        "  plt.show()"
      ],
      "metadata": {
        "id": "zywJv9tt6_Hc"
      },
      "execution_count": 15,
      "outputs": []
    },
    {
      "cell_type": "markdown",
      "source": [
        "Informe completo del modelo"
      ],
      "metadata": {
        "id": "S9oi1jbUBhAt"
      }
    },
    {
      "cell_type": "code",
      "source": [
        "from sklearn.metrics import classification_report\n",
        "\n",
        "def informe_modelo(y_test, predict):\n",
        "  clf_report = pd.DataFrame(classification_report(y_test, predict, output_dict=True))\n",
        " \n",
        "  print(\"Test Result:\\n================================================\")        \n",
        "  print(f\"1.1 Reporte de clasificacion:\\n{clf_report}\")\n",
        "  print(\"================================================\")\n",
        "  print(\"1.2 Matriz de confusion\")\n",
        "  mostar_matriz_confusion(predict, y_test)\n",
        "  print(\"================================================\")\n",
        "  print(\"1.3 Curva ROC y área AUC\")\n",
        "  mostrar_curva_roc_y_auc(predict, y_test)\n",
        "  "
      ],
      "metadata": {
        "id": "yrX3oKDtlUJa"
      },
      "execution_count": 16,
      "outputs": []
    },
    {
      "cell_type": "markdown",
      "source": [
        "## Ejercicio 4.2. Crear modelo: RandomForestClassifier\n",
        "\n",
        "1.  Crea un modelo utilizando **RandomForestClassifier** (anterior Unidad Didáctica). \n",
        "\n",
        "2.  Utilizando la función del ejercicio 4.1, muestra el informe de este modelo entrenado con el conjunto de entrenamiento obtenido en el ejercicio 3.1."
      ],
      "metadata": {
        "id": "NiRHQwzvqHtD"
      }
    },
    {
      "cell_type": "code",
      "source": [
        "from sklearn.ensemble import  RandomForestClassifier\n",
        "# Creo el modelo\n",
        "\n",
        "model = RandomForestClassifier()\n",
        "model.fit(X_train, y_train)"
      ],
      "metadata": {
        "id": "ggizHUROk7Sa",
        "colab": {
          "base_uri": "https://localhost:8080/"
        },
        "outputId": "0ffe3672-d792-4876-bd9a-f2cac165e2d1"
      },
      "execution_count": 17,
      "outputs": [
        {
          "output_type": "execute_result",
          "data": {
            "text/plain": [
              "RandomForestClassifier()"
            ]
          },
          "metadata": {},
          "execution_count": 17
        }
      ]
    },
    {
      "cell_type": "code",
      "source": [
        "#muestro el informe\n",
        "informe_modelo(y_test, model.predict(X_test))"
      ],
      "metadata": {
        "id": "TZzerq71uxPx",
        "colab": {
          "base_uri": "https://localhost:8080/",
          "height": 749
        },
        "outputId": "2b6ae50c-3834-4afd-d090-23a129ceeabd"
      },
      "execution_count": 18,
      "outputs": [
        {
          "output_type": "stream",
          "name": "stdout",
          "text": [
            "Test Result:\n",
            "================================================\n",
            "1.1 Reporte de clasificacion:\n",
            "                   0          1  accuracy  macro avg  weighted avg\n",
            "precision   0.875000   0.852941  0.863636   0.863971      0.863971\n",
            "recall      0.848485   0.878788  0.863636   0.863636      0.863636\n",
            "f1-score    0.861538   0.865672  0.863636   0.863605      0.863605\n",
            "support    33.000000  33.000000  0.863636  66.000000     66.000000\n",
            "================================================\n",
            "1.2 Matriz de confusion\n"
          ]
        },
        {
          "output_type": "display_data",
          "data": {
            "text/plain": [
              "<Figure size 432x288 with 2 Axes>"
            ],
            "image/png": "[encoded data removed]"
          },
          "metadata": {
            "needs_background": "light"
          }
        },
        {
          "output_type": "stream",
          "name": "stdout",
          "text": [
            "================================================\n",
            "1.3 Curva ROC y área AUC\n"
          ]
        },
        {
          "output_type": "display_data",
          "data": {
            "text/plain": [
              "<Figure size 432x288 with 1 Axes>"
            ],
            "image/png": "[encoded data removed]"
          },
          "metadata": {
            "needs_background": "light"
          }
        }
      ]
    },
    {
      "cell_type": "markdown",
      "source": [
        "## Ejercicio 4.3. Validación cruzada del anterior modelo"
      ],
      "metadata": {
        "id": "GSc_7ySGnlsM"
      }
    },
    {
      "cell_type": "markdown",
      "source": [
        "1.   Valida en anterior modelo utilizando Cross Validation (con KFold). Muestra la exactitud, precisión, y recall del modelo tras la validación cruzada. \n",
        "\n"
      ],
      "metadata": {
        "id": "JCF0kJ3gnMIa"
      }
    },
    {
      "cell_type": "code",
      "source": [
        "from sklearn.metrics import make_scorer, accuracy_score, precision_score, recall_score, f1_score\n",
        "from sklearn import model_selection\n",
        "\n",
        "scoring = {'accuracy' : make_scorer(accuracy_score), \n",
        "           'precision' : make_scorer(precision_score),\n",
        "           'recall' : make_scorer(recall_score)}\n",
        "\n",
        "kfold = model_selection.KFold(n_splits=5)\n",
        "\n",
        "results = model_selection.cross_validate(estimator=model,\n",
        "                                          X=X_test,\n",
        "                                          y=y_test,\n",
        "                                          cv=kfold,\n",
        "                                          scoring=scoring)\n",
        "\n",
        "print(f\"Accuracy: {results['test_accuracy'].mean():.3f}\")\n",
        "print(f\"Precission: {results['test_precision'].mean():.3f}\")\n",
        "print(f\"Recall: {results['test_recall'].mean():.3f}\")"
      ],
      "metadata": {
        "id": "pDQKAZ95rhJi",
        "colab": {
          "base_uri": "https://localhost:8080/"
        },
        "outputId": "355e2014-9b7b-4055-b568-4fc52d5b5cbb"
      },
      "execution_count": 19,
      "outputs": [
        {
          "output_type": "stream",
          "name": "stdout",
          "text": [
            "Accuracy: 0.727\n",
            "Precission: 0.715\n",
            "Recall: 0.736\n"
          ]
        }
      ]
    },
    {
      "cell_type": "markdown",
      "source": [
        "2.   Valida en anterior modelo utilizando Cross Validation (con StratifiedKFold). Muestra la exactitud, precisión, y recall del modelo tras la validación cruzada. \n"
      ],
      "metadata": {
        "id": "GswkGRmXnkUr"
      }
    },
    {
      "cell_type": "code",
      "source": [
        "from sklearn.model_selection import StratifiedKFold\n",
        "\n",
        "kfold = model_selection.StratifiedKFold(n_splits=5)\n",
        "\n",
        "results = model_selection.cross_validate(estimator=model,\n",
        "                                          X=X_test,\n",
        "                                          y=y_test,\n",
        "                                          cv=kfold,\n",
        "                                          scoring=scoring)\n",
        "\n",
        "print(f\"Accuracy: {results['test_accuracy'].mean():.3f}\")\n",
        "print(f\"Precission: {results['test_precision'].mean():.3f}\")\n",
        "print(f\"Recall: {results['test_recall'].mean():.3f}\")"
      ],
      "metadata": {
        "id": "ud1JXqRXu7Tv",
        "colab": {
          "base_uri": "https://localhost:8080/"
        },
        "outputId": "a17dc758-47d2-4e0c-8fda-797220bc1ab4"
      },
      "execution_count": 20,
      "outputs": [
        {
          "output_type": "stream",
          "name": "stdout",
          "text": [
            "Accuracy: 0.729\n",
            "Precission: 0.725\n",
            "Recall: 0.719\n"
          ]
        }
      ]
    },
    {
      "cell_type": "markdown",
      "source": [
        "\n",
        "3.   Comenta qué diferencias han existido entre uno y otro ¿Por qué?\n",
        "\n",
        "La principal caracteristica que diferencia KFold y StratifiedKFold es que StratifiedKFold asegura que, en el proceso de validacion los grupos empleados (folds) en el test tienen la misma proporcion de datos con cierta etiqueta.\n",
        "\n",
        "Es decir en un caso con 16 filas y (12 con etiqueta \"A\" y 4 con etiqueta \"B\") en cada iteracion usara la misma proporcion de clases.\n",
        "2/3 de la clase \"A\" y 1/3 de la clase \"B\" en la validacion\n",
        "\n",
        "\n",
        "\n",
        "\n"
      ],
      "metadata": {
        "id": "rH8m42E4nlub"
      }
    },
    {
      "cell_type": "markdown",
      "source": [
        "![10-K-Fold-Cross-Validation-424618033.png](data:image/png;base64,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)"
      ],
      "metadata": {
        "id": "Ku13NNzZpS7z"
      }
    },
    {
      "cell_type": "markdown",
      "source": [
        "# Ejercicio 5. Generación de modelos utilizando redes neuronales"
      ],
      "metadata": {
        "id": "Q0w3p5Mk55GF"
      }
    },
    {
      "cell_type": "code",
      "source": [
        "#importa las librerías necesarias\n",
        "import tensorflow as tf\n",
        "from tensorflow import keras\n",
        "from keras.models import Sequential\n",
        "from keras.layers.core import Dense"
      ],
      "metadata": {
        "trusted": true,
        "id": "kkedd1gJ55GG"
      },
      "execution_count": 21,
      "outputs": []
    },
    {
      "cell_type": "markdown",
      "source": [
        "## Ejercicio 5.1. Desarrolla la arquitectura de la red neuronal. \n",
        "\n",
        "Desarrolla la arquitectura necesaria para crear una red neuronal que pueda predecir el riesgo de sufrir un problema cardiaco ante una entrada determinada. \n",
        "\n"
      ],
      "metadata": {
        "id": "lJQiv-p655GH"
      }
    },
    {
      "cell_type": "code",
      "source": [
        "df_train.shape"
      ],
      "metadata": {
        "colab": {
          "base_uri": "https://localhost:8080/"
        },
        "id": "PQmtxxOd5-k4",
        "outputId": "456509c5-ce48-4873-b6e5-3d732a2f2716"
      },
      "execution_count": 22,
      "outputs": [
        {
          "output_type": "execute_result",
          "data": {
            "text/plain": [
              "(330, 31)"
            ]
          },
          "metadata": {},
          "execution_count": 22
        }
      ]
    },
    {
      "cell_type": "code",
      "source": [
        "#arquitectura red neuronal y compilación\n",
        "neural_network = Sequential()\n",
        "\n",
        "neural_network.add(Dense(14, activation=\"relu\", input_shape=(30,)))\n",
        "neural_network.add(Dense(1, activation=\"sigmoid\"))\n",
        "\n",
        "neural_network.compile(loss=\"binary_crossentropy\",\n",
        "                       optimizer=\"adam\",\n",
        "                       metrics=\"binary_accuracy\")\n",
        "\n",
        "neural_network.summary()"
      ],
      "metadata": {
        "trusted": true,
        "id": "yu36ybRz55GI",
        "colab": {
          "base_uri": "https://localhost:8080/"
        },
        "outputId": "ac6b348b-5d00-47bc-c7a3-a8b502af032e"
      },
      "execution_count": 45,
      "outputs": [
        {
          "output_type": "stream",
          "name": "stdout",
          "text": [
            "Model: \"sequential_3\"\n",
            "_________________________________________________________________\n",
            " Layer (type)                Output Shape              Param #   \n",
            "=================================================================\n",
            " dense_6 (Dense)             (None, 14)                434       \n",
            "                                                                 \n",
            " dense_7 (Dense)             (None, 1)                 15        \n",
            "                                                                 \n",
            "=================================================================\n",
            "Total params: 449\n",
            "Trainable params: 449\n",
            "Non-trainable params: 0\n",
            "_________________________________________________________________\n"
          ]
        }
      ]
    },
    {
      "cell_type": "markdown",
      "source": [
        "## Ejercicio 5.2. Entrena la red neuronal con el conjunto de test\n",
        "\n",
        "Entrena la red utilizando 0.1 para la validación del modelo"
      ],
      "metadata": {
        "id": "fXuBogL455GL"
      }
    },
    {
      "cell_type": "code",
      "source": [
        "#Entrenamiento de la red neuronal\n",
        "history = neural_network.fit(X_train, y_train, batch_size=64, epochs=8, validation_split=0.1)"
      ],
      "metadata": {
        "id": "d8yHbIBPDMOB",
        "colab": {
          "base_uri": "https://localhost:8080/"
        },
        "outputId": "e40f1b98-e733-4f1c-e99e-4d7cb99b9634"
      },
      "execution_count": 46,
      "outputs": [
        {
          "output_type": "stream",
          "name": "stdout",
          "text": [
            "Epoch 1/8\n",
            "4/4 [==============================] - 1s 101ms/step - loss: 0.6334 - binary_accuracy: 0.7046 - val_loss: 0.5854 - val_binary_accuracy: 0.8889\n",
            "Epoch 2/8\n",
            "4/4 [==============================] - 0s 23ms/step - loss: 0.6217 - binary_accuracy: 0.7511 - val_loss: 0.5769 - val_binary_accuracy: 0.8889\n",
            "Epoch 3/8\n",
            "4/4 [==============================] - 0s 19ms/step - loss: 0.6106 - binary_accuracy: 0.7806 - val_loss: 0.5685 - val_binary_accuracy: 0.8889\n",
            "Epoch 4/8\n",
            "4/4 [==============================] - 0s 22ms/step - loss: 0.5993 - binary_accuracy: 0.7975 - val_loss: 0.5607 - val_binary_accuracy: 0.8889\n",
            "Epoch 5/8\n",
            "4/4 [==============================] - 0s 17ms/step - loss: 0.5881 - binary_accuracy: 0.7932 - val_loss: 0.5530 - val_binary_accuracy: 0.8889\n",
            "Epoch 6/8\n",
            "4/4 [==============================] - 0s 18ms/step - loss: 0.5775 - binary_accuracy: 0.8143 - val_loss: 0.5448 - val_binary_accuracy: 0.8889\n",
            "Epoch 7/8\n",
            "4/4 [==============================] - 0s 18ms/step - loss: 0.5664 - binary_accuracy: 0.8228 - val_loss: 0.5366 - val_binary_accuracy: 0.8889\n",
            "Epoch 8/8\n",
            "4/4 [==============================] - 0s 26ms/step - loss: 0.5555 - binary_accuracy: 0.8228 - val_loss: 0.5287 - val_binary_accuracy: 0.8889\n"
          ]
        }
      ]
    },
    {
      "cell_type": "code",
      "source": [
        "plt.figure(figsize=(10, 4))\n",
        "plt.title('Model performance')\n",
        "plt.plot(np.arange(1, 9), history.history['loss'], label='Loss', lw=3)\n",
        "plt.plot(np.arange(1, 9), history.history['binary_accuracy'], label='Accuracy', lw=3)\n",
        "plt.plot(np.arange(1, 9), history.history['val_binary_accuracy'], label='Validation accuracy', lw=3)\n",
        "plt.xlabel(\"Epoch\")\n",
        "plt.legend()"
      ],
      "metadata": {
        "colab": {
          "base_uri": "https://localhost:8080/",
          "height": 312
        },
        "id": "sLN-SJIq8cU1",
        "outputId": "c59f1a71-6f5c-4fb3-df69-afe7e9d21453"
      },
      "execution_count": 48,
      "outputs": [
        {
          "output_type": "execute_result",
          "data": {
            "text/plain": [
              "<matplotlib.legend.Legend at 0x7f3d5031bdc0>"
            ]
          },
          "metadata": {},
          "execution_count": 48
        },
        {
          "output_type": "display_data",
          "data": {
            "text/plain": [
              "<Figure size 720x288 with 1 Axes>"
            ],
            "image/png": "[encoded data removed]"
          },
          "metadata": {
            "needs_background": "light"
          }
        }
      ]
    },
    {
      "cell_type": "markdown",
      "source": [
        "## Ejercicio 5.3. Evaluación del modelo de red neuronal\n",
        "\n",
        "1.   Realiza una predicción para el conjunto de datos reservados para test. \n"
      ],
      "metadata": {
        "id": "iurIOxPdEoLN"
      }
    },
    {
      "cell_type": "code",
      "source": [
        "pred = neural_network.predict(X_test)\n",
        "pred = np.round(pred)"
      ],
      "metadata": {
        "trusted": true,
        "id": "MwjKdRJm55GM",
        "colab": {
          "base_uri": "https://localhost:8080/"
        },
        "outputId": "1680a2ca-b7bf-41ea-bdf2-8c332792d640"
      },
      "execution_count": 56,
      "outputs": [
        {
          "output_type": "stream",
          "name": "stdout",
          "text": [
            "3/3 [==============================] - 0s 3ms/step\n"
          ]
        }
      ]
    },
    {
      "cell_type": "markdown",
      "source": [
        "2.   Utiliza la función ```informe_modelo``` para mostrar las diferentes métricas para validar el modelo. \n",
        "\n",
        "\n"
      ],
      "metadata": {
        "id": "r6YxrBjpCXnr"
      }
    },
    {
      "cell_type": "code",
      "source": [
        "#mostrar informe\n",
        "informe_modelo(y_test, pred)"
      ],
      "metadata": {
        "id": "ddSMF_AkETZU",
        "colab": {
          "base_uri": "https://localhost:8080/",
          "height": 753
        },
        "outputId": "683c3cec-1bdb-46bc-d719-610c19a7547a"
      },
      "execution_count": 57,
      "outputs": [
        {
          "output_type": "stream",
          "name": "stdout",
          "text": [
            "Test Result:\n",
            "================================================\n",
            "1.1 Reporte de clasificacion:\n",
            "                   0          1  accuracy  macro avg  weighted avg\n",
            "precision   0.833333   0.900000  0.863636   0.866667      0.866667\n",
            "recall      0.909091   0.818182  0.863636   0.863636      0.863636\n",
            "f1-score    0.869565   0.857143  0.863636   0.863354      0.863354\n",
            "support    33.000000  33.000000  0.863636  66.000000     66.000000\n",
            "================================================\n",
            "1.2 Matriz de confusion\n"
          ]
        },
        {
          "output_type": "display_data",
          "data": {
            "text/plain": [
              "<Figure size 432x288 with 2 Axes>"
            ],
            "image/png": "[encoded data removed]"
          },
          "metadata": {
            "needs_background": "light"
          }
        },
        {
          "output_type": "stream",
          "name": "stdout",
          "text": [
            "================================================\n",
            "1.3 Curva ROC y área AUC\n"
          ]
        },
        {
          "output_type": "display_data",
          "data": {
            "text/plain": [
              "<Figure size 432x288 with 1 Axes>"
            ],
            "image/png": "[encoded data removed]"
          },
          "metadata": {
            "needs_background": "light"
          }
        }
      ]
    }
  ]
}