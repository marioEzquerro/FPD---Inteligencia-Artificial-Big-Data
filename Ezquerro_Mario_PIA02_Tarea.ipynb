{
  "nbformat": 4,
  "nbformat_minor": 0,
  "metadata": {
    "colab": {
      "provenance": [],
      "collapsed_sections": [
        "cMH6sBqrN3Jx",
        "XNA-U8FwmuY8",
        "JAY2B2kwmS5_",
        "_ZiIpSodbruZ",
        "sS-s-SIBzEw6"
      ]
    },
    "kernelspec": {
      "name": "python3",
      "display_name": "Python 3"
    },
    "language_info": {
      "name": "python"
    }
  },
  "cells": [
    {
      "cell_type": "markdown",
      "source": [
        "# Tarea UD02. Introducción desarrollo de aplicaciones de IA"
      ],
      "metadata": {
        "id": "iqGCPmHQzmOZ"
      }
    },
    {
      "cell_type": "markdown",
      "source": [
        "# Descargar el dataset\n",
        "\n",
        "El dataset que utilizaremos se ha obtenido a partir de dos datasets publicados en la siguiente web: \n",
        "\n",
        "https://archive.ics.uci.edu/ml/machine-learning-databases/wine-quality/\n",
        "\n",
        "La información detallada de dicho dataset la puedes encontrar en esta referencia:\n",
        " \n",
        "\n",
        "*  P. Cortez, A. Cerdeira, F. Almeida, T. Matos and J. Reis. Modeling wine preferences by data mining from physicochemical properties. In Decision Support Systems, Elsevier, 47(4):547-553. ISSN: 0167-9236."
      ],
      "metadata": {
        "id": "k8ZU9YfVvuv0"
      }
    },
    {
      "cell_type": "code",
      "source": [
        "#@title\n",
        "# Libraries to handle data\n",
        "import matplotlib.pyplot as plt\n",
        "import pandas as pd\n",
        "import numpy as np\n",
        "import seaborn as sns\n",
        "\n",
        "import io\n",
        "from statistics import mean\n",
        "from sklearn.utils import shuffle\n",
        "from sklearn.utils import resample\n",
        "from sklearn.preprocessing import MinMaxScaler\n",
        "from sklearn.model_selection import train_test_split\n",
        "from sklearn.model_selection import cross_val_score\n",
        "\n",
        "\n",
        "# URL: https://drive.google.com/file/d/1ODVR1V3kKMhhGg925Rm_sMdF53AVi9s0\n",
        "!gdown --id 1ODVR1V3kKMhhGg925Rm_sMdF53AVi9s0\n",
        "\n",
        "## Carga del fichero en Python\n",
        "df_train = pd.read_csv('winequality.csv', delimiter=',')"
      ],
      "metadata": {
        "id": "YnhpsjDovuFS",
        "colab": {
          "base_uri": "https://localhost:8080/"
        },
        "outputId": "2697ee58-7034-41c1-d72e-cc7307b379d4"
      },
      "execution_count": 370,
      "outputs": [
        {
          "output_type": "stream",
          "name": "stdout",
          "text": [
            "/usr/local/lib/python3.8/dist-packages/gdown/cli.py:127: FutureWarning: Option `--id` was deprecated in version 4.3.1 and will be removed in 5.0. You don't need to pass it anymore to use a file ID.\n",
            "  warnings.warn(\n",
            "Downloading...\n",
            "From: https://drive.google.com/uc?id=1ODVR1V3kKMhhGg925Rm_sMdF53AVi9s0\n",
            "To: /content/winequality.csv\n",
            "100% 551k/551k [00:00<00:00, 111MB/s]\n"
          ]
        }
      ]
    },
    {
      "cell_type": "markdown",
      "source": [
        "# Ejercicio 1. Identifica el número de ocurrencias de vino tinto (Red) y blanco (White)\n",
        "\n",
        "\n",
        "\n",
        "1.   Muestra el número de ocurrencias de vino tinto y vino blanco. \n",
        "\n",
        "\n"
      ],
      "metadata": {
        "id": "cMH6sBqrN3Jx"
      }
    },
    {
      "cell_type": "code",
      "source": [
        "num_red_wines = df_train[df_train[\"type\"] == \"Red\"].shape[0]\n",
        "num_white_wines = df_train[df_train[\"type\"] == \"White\"].shape[0]\n",
        "print(\"Number of red wine:\", num_red_wines)\n",
        "print(\"Number of white wine:\", num_white_wines)"
      ],
      "metadata": {
        "id": "QoaKcxP0xi1d",
        "colab": {
          "base_uri": "https://localhost:8080/"
        },
        "outputId": "a8ae28a5-b6d0-49bc-8942-a14880a29cb2"
      },
      "execution_count": 371,
      "outputs": [
        {
          "output_type": "stream",
          "name": "stdout",
          "text": [
            "Number of red wine: 1599\n",
            "Number of white wine: 4898\n"
          ]
        }
      ]
    },
    {
      "cell_type": "markdown",
      "source": [
        "2.   Muestra estos datos utilizando un diagrama de barras.\n",
        "\n",
        "\n",
        "\n"
      ],
      "metadata": {
        "id": "ZBEBW_Zm42ry"
      }
    },
    {
      "cell_type": "code",
      "source": [
        "plt.bar([\"Red wine\", \" White wine\"], [num_red_wines, num_white_wines])"
      ],
      "metadata": {
        "id": "b8cI3Z1nxiqb",
        "colab": {
          "base_uri": "https://localhost:8080/",
          "height": 141
        },
        "outputId": "a32d6ea1-f2d3-4f93-fdcc-fd7e7f9612e8"
      },
      "execution_count": 372,
      "outputs": [
        {
          "output_type": "execute_result",
          "data": {
            "text/plain": [
              "<BarContainer object of 2 artists>"
            ]
          },
          "metadata": {},
          "execution_count": 372
        },
        {
          "output_type": "display_data",
          "data": {
            "text/plain": [
              "<Figure size 432x288 with 1 Axes>"
            ],
            "image/png": "[encoded data removed]"
          },
          "metadata": {
            "needs_background": "light"
          }
        }
      ]
    },
    {
      "cell_type": "markdown",
      "source": [
        "3.   Muestra estos datos utilizando un diagrama de secciones. "
      ],
      "metadata": {
        "id": "CNPIkcPk43wL"
      }
    },
    {
      "cell_type": "code",
      "source": [
        "plt.pie([num_red_wines, num_white_wines], labels=[\"Red wine\", \"White wine\"])"
      ],
      "metadata": {
        "id": "NRtoyaUTzOQL",
        "colab": {
          "base_uri": "https://localhost:8080/",
          "height": 350
        },
        "outputId": "b3debd9a-847f-4afb-ceea-922535cfc18c"
      },
      "execution_count": 373,
      "outputs": [
        {
          "output_type": "execute_result",
          "data": {
            "text/plain": [
              "([<matplotlib.patches.Wedge at 0x7fcb52806e50>,\n",
              "  <matplotlib.patches.Wedge at 0x7fcb4a53e3a0>],\n",
              " [Text(0.7872560399476721, 0.7682629286682453, 'Red wine'),\n",
              "  Text(-0.7872560759126548, -0.7682628918141292, 'White wine')])"
            ]
          },
          "metadata": {},
          "execution_count": 373
        },
        {
          "output_type": "display_data",
          "data": {
            "text/plain": [
              "<Figure size 432x288 with 1 Axes>"
            ],
            "image/png": "[encoded data removed]"
          },
          "metadata": {}
        }
      ]
    },
    {
      "cell_type": "markdown",
      "source": [
        "# Ejercicio 2. Mostrar información del dataset\n",
        "\n",
        "1.   Mostrar las primeras 10 filas del dataset. \n",
        "\n",
        "\n"
      ],
      "metadata": {
        "id": "XNA-U8FwmuY8"
      }
    },
    {
      "cell_type": "code",
      "source": [
        "df_train.head(10)"
      ],
      "metadata": {
        "id": "KVpLXGCYzOp4",
        "colab": {
          "base_uri": "https://localhost:8080/",
          "height": 601
        },
        "outputId": "8708d13b-b9c0-4983-8983-08f088fcb6fc"
      },
      "execution_count": 374,
      "outputs": [
        {
          "output_type": "execute_result",
          "data": {
            "text/plain": [
              "   Unnamed: 0  fixed acidity  volatile acidity  citric acid  residual sugar  \\\n",
              "0           0            7.4              0.70         0.00             1.9   \n",
              "1           1            7.8              0.88         0.00             2.6   \n",
              "2           2            7.8              0.76         0.04             2.3   \n",
              "3           3           11.2              0.28         0.56             1.9   \n",
              "4           4            7.4              0.70         0.00             1.9   \n",
              "5           5            7.4              0.66         0.00             1.8   \n",
              "6           6            7.9              0.60         0.06             1.6   \n",
              "7           7            7.3              0.65         0.00             1.2   \n",
              "8           8            7.8              0.58         0.02             2.0   \n",
              "9           9            7.5              0.50         0.36             6.1   \n",
              "\n",
              "   chlorides  free sulfur dioxide  total sulfur dioxide  density    pH  \\\n",
              "0      0.076                 11.0                  34.0   0.9978  3.51   \n",
              "1      0.098                 25.0                  67.0   0.9968  3.20   \n",
              "2      0.092                 15.0                  54.0   0.9970  3.26   \n",
              "3      0.075                 17.0                  60.0   0.9980  3.16   \n",
              "4      0.076                 11.0                  34.0   0.9978  3.51   \n",
              "5      0.075                 13.0                  40.0   0.9978  3.51   \n",
              "6      0.069                 15.0                  59.0   0.9964  3.30   \n",
              "7      0.065                 15.0                  21.0   0.9946  3.39   \n",
              "8      0.073                  9.0                  18.0   0.9968  3.36   \n",
              "9      0.071                 17.0                 102.0   0.9978  3.35   \n",
              "\n",
              "   sulphates alcohol quality type date            origin  \n",
              "0       0.56    bajo    baja  Red  NaN               NaN  \n",
              "1       0.68   medio    baja  Red  NaN               NaN  \n",
              "2       0.65   medio    baja  Red  NaN  Ribera del Duero  \n",
              "3       0.58   medio   media  Red  NaN               NaN  \n",
              "4       0.56    bajo    baja  Red  NaN               NaN  \n",
              "5       0.56    bajo    baja  Red  NaN               NaN  \n",
              "6       0.46    bajo    baja  Red  NaN  Ribera del Duero  \n",
              "7       0.47   medio    alta  Red  NaN  Ribera del Duero  \n",
              "8       0.57    bajo    alta  Red  NaN  Ribera del Duero  \n",
              "9       0.80    alto    baja  Red  NaN               NaN  "
            ],
            "text/html": [
              "\n",
              "  <div id=\"df-4c53397f-e5bd-409e-9256-e335d58c6ea7\">\n",
              "    <div class=\"colab-df-container\">\n",
              "      <div>\n",
              "<style scoped>\n",
              "    .dataframe tbody tr th:only-of-type {\n",
              "        vertical-align: middle;\n",
              "    }\n",
              "\n",
              "    .dataframe tbody tr th {\n",
              "        vertical-align: top;\n",
              "    }\n",
              "\n",
              "    .dataframe thead th {\n",
              "        text-align: right;\n",
              "    }\n",
              "</style>\n",
              "<table border=\"1\" class=\"dataframe\">\n",
              "  <thead>\n",
              "    <tr style=\"text-align: right;\">\n",
              "      <th></th>\n",
              "      <th>Unnamed: 0</th>\n",
              "      <th>fixed acidity</th>\n",
              "      <th>volatile acidity</th>\n",
              "      <th>citric acid</th>\n",
              "      <th>residual sugar</th>\n",
              "      <th>chlorides</th>\n",
              "      <th>free sulfur dioxide</th>\n",
              "      <th>total sulfur dioxide</th>\n",
              "      <th>density</th>\n",
              "      <th>pH</th>\n",
              "      <th>sulphates</th>\n",
              "      <th>alcohol</th>\n",
              "      <th>quality</th>\n",
              "      <th>type</th>\n",
              "      <th>date</th>\n",
              "      <th>origin</th>\n",
              "    </tr>\n",
              "  </thead>\n",
              "  <tbody>\n",
              "    <tr>\n",
              "      <th>0</th>\n",
              "      <td>0</td>\n",
              "      <td>7.4</td>\n",
              "      <td>0.70</td>\n",
              "      <td>0.00</td>\n",
              "      <td>1.9</td>\n",
              "      <td>0.076</td>\n",
              "      <td>11.0</td>\n",
              "      <td>34.0</td>\n",
              "      <td>0.9978</td>\n",
              "      <td>3.51</td>\n",
              "      <td>0.56</td>\n",
              "      <td>bajo</td>\n",
              "      <td>baja</td>\n",
              "      <td>Red</td>\n",
              "      <td>NaN</td>\n",
              "      <td>NaN</td>\n",
              "    </tr>\n",
              "    <tr>\n",
              "      <th>1</th>\n",
              "      <td>1</td>\n",
              "      <td>7.8</td>\n",
              "      <td>0.88</td>\n",
              "      <td>0.00</td>\n",
              "      <td>2.6</td>\n",
              "      <td>0.098</td>\n",
              "      <td>25.0</td>\n",
              "      <td>67.0</td>\n",
              "      <td>0.9968</td>\n",
              "      <td>3.20</td>\n",
              "      <td>0.68</td>\n",
              "      <td>medio</td>\n",
              "      <td>baja</td>\n",
              "      <td>Red</td>\n",
              "      <td>NaN</td>\n",
              "      <td>NaN</td>\n",
              "    </tr>\n",
              "    <tr>\n",
              "      <th>2</th>\n",
              "      <td>2</td>\n",
              "      <td>7.8</td>\n",
              "      <td>0.76</td>\n",
              "      <td>0.04</td>\n",
              "      <td>2.3</td>\n",
              "      <td>0.092</td>\n",
              "      <td>15.0</td>\n",
              "      <td>54.0</td>\n",
              "      <td>0.9970</td>\n",
              "      <td>3.26</td>\n",
              "      <td>0.65</td>\n",
              "      <td>medio</td>\n",
              "      <td>baja</td>\n",
              "      <td>Red</td>\n",
              "      <td>NaN</td>\n",
              "      <td>Ribera del Duero</td>\n",
              "    </tr>\n",
              "    <tr>\n",
              "      <th>3</th>\n",
              "      <td>3</td>\n",
              "      <td>11.2</td>\n",
              "      <td>0.28</td>\n",
              "      <td>0.56</td>\n",
              "      <td>1.9</td>\n",
              "      <td>0.075</td>\n",
              "      <td>17.0</td>\n",
              "      <td>60.0</td>\n",
              "      <td>0.9980</td>\n",
              "      <td>3.16</td>\n",
              "      <td>0.58</td>\n",
              "      <td>medio</td>\n",
              "      <td>media</td>\n",
              "      <td>Red</td>\n",
              "      <td>NaN</td>\n",
              "      <td>NaN</td>\n",
              "    </tr>\n",
              "    <tr>\n",
              "      <th>4</th>\n",
              "      <td>4</td>\n",
              "      <td>7.4</td>\n",
              "      <td>0.70</td>\n",
              "      <td>0.00</td>\n",
              "      <td>1.9</td>\n",
              "      <td>0.076</td>\n",
              "      <td>11.0</td>\n",
              "      <td>34.0</td>\n",
              "      <td>0.9978</td>\n",
              "      <td>3.51</td>\n",
              "      <td>0.56</td>\n",
              "      <td>bajo</td>\n",
              "      <td>baja</td>\n",
              "      <td>Red</td>\n",
              "      <td>NaN</td>\n",
              "      <td>NaN</td>\n",
              "    </tr>\n",
              "    <tr>\n",
              "      <th>5</th>\n",
              "      <td>5</td>\n",
              "      <td>7.4</td>\n",
              "      <td>0.66</td>\n",
              "      <td>0.00</td>\n",
              "      <td>1.8</td>\n",
              "      <td>0.075</td>\n",
              "      <td>13.0</td>\n",
              "      <td>40.0</td>\n",
              "      <td>0.9978</td>\n",
              "      <td>3.51</td>\n",
              "      <td>0.56</td>\n",
              "      <td>bajo</td>\n",
              "      <td>baja</td>\n",
              "      <td>Red</td>\n",
              "      <td>NaN</td>\n",
              "      <td>NaN</td>\n",
              "    </tr>\n",
              "    <tr>\n",
              "      <th>6</th>\n",
              "      <td>6</td>\n",
              "      <td>7.9</td>\n",
              "      <td>0.60</td>\n",
              "      <td>0.06</td>\n",
              "      <td>1.6</td>\n",
              "      <td>0.069</td>\n",
              "      <td>15.0</td>\n",
              "      <td>59.0</td>\n",
              "      <td>0.9964</td>\n",
              "      <td>3.30</td>\n",
              "      <td>0.46</td>\n",
              "      <td>bajo</td>\n",
              "      <td>baja</td>\n",
              "      <td>Red</td>\n",
              "      <td>NaN</td>\n",
              "      <td>Ribera del Duero</td>\n",
              "    </tr>\n",
              "    <tr>\n",
              "      <th>7</th>\n",
              "      <td>7</td>\n",
              "      <td>7.3</td>\n",
              "      <td>0.65</td>\n",
              "      <td>0.00</td>\n",
              "      <td>1.2</td>\n",
              "      <td>0.065</td>\n",
              "      <td>15.0</td>\n",
              "      <td>21.0</td>\n",
              "      <td>0.9946</td>\n",
              "      <td>3.39</td>\n",
              "      <td>0.47</td>\n",
              "      <td>medio</td>\n",
              "      <td>alta</td>\n",
              "      <td>Red</td>\n",
              "      <td>NaN</td>\n",
              "      <td>Ribera del Duero</td>\n",
              "    </tr>\n",
              "    <tr>\n",
              "      <th>8</th>\n",
              "      <td>8</td>\n",
              "      <td>7.8</td>\n",
              "      <td>0.58</td>\n",
              "      <td>0.02</td>\n",
              "      <td>2.0</td>\n",
              "      <td>0.073</td>\n",
              "      <td>9.0</td>\n",
              "      <td>18.0</td>\n",
              "      <td>0.9968</td>\n",
              "      <td>3.36</td>\n",
              "      <td>0.57</td>\n",
              "      <td>bajo</td>\n",
              "      <td>alta</td>\n",
              "      <td>Red</td>\n",
              "      <td>NaN</td>\n",
              "      <td>Ribera del Duero</td>\n",
              "    </tr>\n",
              "    <tr>\n",
              "      <th>9</th>\n",
              "      <td>9</td>\n",
              "      <td>7.5</td>\n",
              "      <td>0.50</td>\n",
              "      <td>0.36</td>\n",
              "      <td>6.1</td>\n",
              "      <td>0.071</td>\n",
              "      <td>17.0</td>\n",
              "      <td>102.0</td>\n",
              "      <td>0.9978</td>\n",
              "      <td>3.35</td>\n",
              "      <td>0.80</td>\n",
              "      <td>alto</td>\n",
              "      <td>baja</td>\n",
              "      <td>Red</td>\n",
              "      <td>NaN</td>\n",
              "      <td>NaN</td>\n",
              "    </tr>\n",
              "  </tbody>\n",
              "</table>\n",
              "</div>\n",
              "      <button class=\"colab-df-convert\" onclick=\"convertToInteractive('df-4c53397f-e5bd-409e-9256-e335d58c6ea7')\"\n",
              "              title=\"Convert this dataframe to an interactive table.\"\n",
              "              style=\"display:none;\">\n",
              "        \n",
              "  <svg xmlns=\"http://www.w3.org/2000/svg\" height=\"24px\"viewBox=\"0 0 24 24\"\n",
              "       width=\"24px\">\n",
              "    <path d=\"M0 0h24v24H0V0z\" fill=\"none\"/>\n",
              "    <path d=\"M18.56 5.44l.94 2.06.94-2.06 2.06-.94-2.06-.94-.94-2.06-.94 2.06-2.06.94zm-11 1L8.5 8.5l.94-2.06 2.06-.94-2.06-.94L8.5 2.5l-.94 2.06-2.06.94zm10 10l.94 2.06.94-2.06 2.06-.94-2.06-.94-.94-2.06-.94 2.06-2.06.94z\"/><path d=\"M17.41 7.96l-1.37-1.37c-.4-.4-.92-.59-1.43-.59-.52 0-1.04.2-1.43.59L10.3 9.45l-7.72 7.72c-.78.78-.78 2.05 0 2.83L4 21.41c.39.39.9.59 1.41.59.51 0 1.02-.2 1.41-.59l7.78-7.78 2.81-2.81c.8-.78.8-2.07 0-2.86zM5.41 20L4 18.59l7.72-7.72 1.47 1.35L5.41 20z\"/>\n",
              "  </svg>\n",
              "      </button>\n",
              "      \n",
              "  <style>\n",
              "    .colab-df-container {\n",
              "      display:flex;\n",
              "      flex-wrap:wrap;\n",
              "      gap: 12px;\n",
              "    }\n",
              "\n",
              "    .colab-df-convert {\n",
              "      background-color: #E8F0FE;\n",
              "      border: none;\n",
              "      border-radius: 50%;\n",
              "      cursor: pointer;\n",
              "      display: none;\n",
              "      fill: #1967D2;\n",
              "      height: 32px;\n",
              "      padding: 0 0 0 0;\n",
              "      width: 32px;\n",
              "    }\n",
              "\n",
              "    .colab-df-convert:hover {\n",
              "      background-color: #E2EBFA;\n",
              "      box-shadow: 0px 1px 2px rgba(60, 64, 67, 0.3), 0px 1px 3px 1px rgba(60, 64, 67, 0.15);\n",
              "      fill: #174EA6;\n",
              "    }\n",
              "\n",
              "    [theme=dark] .colab-df-convert {\n",
              "      background-color: #3B4455;\n",
              "      fill: #D2E3FC;\n",
              "    }\n",
              "\n",
              "    [theme=dark] .colab-df-convert:hover {\n",
              "      background-color: #434B5C;\n",
              "      box-shadow: 0px 1px 3px 1px rgba(0, 0, 0, 0.15);\n",
              "      filter: drop-shadow(0px 1px 2px rgba(0, 0, 0, 0.3));\n",
              "      fill: #FFFFFF;\n",
              "    }\n",
              "  </style>\n",
              "\n",
              "      <script>\n",
              "        const buttonEl =\n",
              "          document.querySelector('#df-4c53397f-e5bd-409e-9256-e335d58c6ea7 button.colab-df-convert');\n",
              "        buttonEl.style.display =\n",
              "          google.colab.kernel.accessAllowed ? 'block' : 'none';\n",
              "\n",
              "        async function convertToInteractive(key) {\n",
              "          const element = document.querySelector('#df-4c53397f-e5bd-409e-9256-e335d58c6ea7');\n",
              "          const dataTable =\n",
              "            await google.colab.kernel.invokeFunction('convertToInteractive',\n",
              "                                                     [key], {});\n",
              "          if (!dataTable) return;\n",
              "\n",
              "          const docLinkHtml = 'Like what you see? Visit the ' +\n",
              "            '<a target=\"_blank\" href=https://colab.research.google.com/notebooks/data_table.ipynb>data table notebook</a>'\n",
              "            + ' to learn more about interactive tables.';\n",
              "          element.innerHTML = '';\n",
              "          dataTable['output_type'] = 'display_data';\n",
              "          await google.colab.output.renderOutput(dataTable, element);\n",
              "          const docLink = document.createElement('div');\n",
              "          docLink.innerHTML = docLinkHtml;\n",
              "          element.appendChild(docLink);\n",
              "        }\n",
              "      </script>\n",
              "    </div>\n",
              "  </div>\n",
              "  "
            ]
          },
          "metadata": {},
          "execution_count": 374
        }
      ]
    },
    {
      "cell_type": "markdown",
      "source": [
        "2.   Mostrar información básica del dataframe con las columnas que lo componen, número valores no nulos, número valores nulos y tipo de datos de la columna. \n"
      ],
      "metadata": {
        "id": "ZCTmpGn44vky"
      }
    },
    {
      "cell_type": "code",
      "source": [
        "print(df_train.info())"
      ],
      "metadata": {
        "colab": {
          "base_uri": "https://localhost:8080/"
        },
        "id": "7vNiS8WRxs2_",
        "outputId": "48a9ba4c-ed0f-4ccd-907e-58542fda23c5"
      },
      "execution_count": 375,
      "outputs": [
        {
          "output_type": "stream",
          "name": "stdout",
          "text": [
            "<class 'pandas.core.frame.DataFrame'>\n",
            "RangeIndex: 6497 entries, 0 to 6496\n",
            "Data columns (total 16 columns):\n",
            " #   Column                Non-Null Count  Dtype  \n",
            "---  ------                --------------  -----  \n",
            " 0   Unnamed: 0            6497 non-null   int64  \n",
            " 1   fixed acidity         6497 non-null   float64\n",
            " 2   volatile acidity      6497 non-null   float64\n",
            " 3   citric acid           6497 non-null   float64\n",
            " 4   residual sugar        6497 non-null   float64\n",
            " 5   chlorides             6497 non-null   float64\n",
            " 6   free sulfur dioxide   6497 non-null   float64\n",
            " 7   total sulfur dioxide  6497 non-null   float64\n",
            " 8   density               6497 non-null   float64\n",
            " 9   pH                    6497 non-null   float64\n",
            " 10  sulphates             6497 non-null   float64\n",
            " 11  alcohol               6497 non-null   object \n",
            " 12  quality               6497 non-null   object \n",
            " 13  type                  6497 non-null   object \n",
            " 14  date                  1556 non-null   object \n",
            " 15  origin                4218 non-null   object \n",
            "dtypes: float64(10), int64(1), object(5)\n",
            "memory usage: 812.2+ KB\n",
            "None\n"
          ]
        }
      ]
    },
    {
      "cell_type": "markdown",
      "source": [
        "3.   Mostrar información básica de cada columna (numero ocurrencias, media, desviación típica, valor mínimo, el valor máximo, y los límites de los cuartiles 25%, 50% y 75%)\n",
        "\n"
      ],
      "metadata": {
        "id": "peizxRe04xCb"
      }
    },
    {
      "cell_type": "code",
      "source": [
        "df_train.describe()"
      ],
      "metadata": {
        "colab": {
          "base_uri": "https://localhost:8080/",
          "height": 399
        },
        "id": "3TKk4ewGxssY",
        "outputId": "68653320-5faa-4155-fec2-a4b094ac3247"
      },
      "execution_count": 376,
      "outputs": [
        {
          "output_type": "execute_result",
          "data": {
            "text/plain": [
              "        Unnamed: 0  fixed acidity  volatile acidity  citric acid  \\\n",
              "count  6497.000000    6497.000000       6497.000000  6497.000000   \n",
              "mean   2042.535632       7.215307          0.339666     0.318633   \n",
              "std    1436.926393       1.296434          0.164636     0.145318   \n",
              "min       0.000000       3.800000          0.080000     0.000000   \n",
              "25%     812.000000       6.400000          0.230000     0.250000   \n",
              "50%    1649.000000       7.000000          0.290000     0.310000   \n",
              "75%    3273.000000       7.700000          0.400000     0.390000   \n",
              "max    4897.000000      15.900000          1.580000     1.660000   \n",
              "\n",
              "       residual sugar    chlorides  free sulfur dioxide  total sulfur dioxide  \\\n",
              "count     6497.000000  6497.000000          6497.000000           6497.000000   \n",
              "mean         5.443235     0.056034            30.525319            115.744574   \n",
              "std          4.757804     0.035034            17.749400             56.521855   \n",
              "min          0.600000     0.009000             1.000000              6.000000   \n",
              "25%          1.800000     0.038000            17.000000             77.000000   \n",
              "50%          3.000000     0.047000            29.000000            118.000000   \n",
              "75%          8.100000     0.065000            41.000000            156.000000   \n",
              "max         65.800000     0.611000           289.000000            440.000000   \n",
              "\n",
              "           density           pH    sulphates  \n",
              "count  6497.000000  6497.000000  6497.000000  \n",
              "mean      0.994697     3.218501     0.531268  \n",
              "std       0.002999     0.160787     0.148806  \n",
              "min       0.987110     2.720000     0.220000  \n",
              "25%       0.992340     3.110000     0.430000  \n",
              "50%       0.994890     3.210000     0.510000  \n",
              "75%       0.996990     3.320000     0.600000  \n",
              "max       1.038980     4.010000     2.000000  "
            ],
            "text/html": [
              "\n",
              "  <div id=\"df-4a1b9e8c-28db-4c55-a612-e6ba7b370f04\">\n",
              "    <div class=\"colab-df-container\">\n",
              "      <div>\n",
              "<style scoped>\n",
              "    .dataframe tbody tr th:only-of-type {\n",
              "        vertical-align: middle;\n",
              "    }\n",
              "\n",
              "    .dataframe tbody tr th {\n",
              "        vertical-align: top;\n",
              "    }\n",
              "\n",
              "    .dataframe thead th {\n",
              "        text-align: right;\n",
              "    }\n",
              "</style>\n",
              "<table border=\"1\" class=\"dataframe\">\n",
              "  <thead>\n",
              "    <tr style=\"text-align: right;\">\n",
              "      <th></th>\n",
              "      <th>Unnamed: 0</th>\n",
              "      <th>fixed acidity</th>\n",
              "      <th>volatile acidity</th>\n",
              "      <th>citric acid</th>\n",
              "      <th>residual sugar</th>\n",
              "      <th>chlorides</th>\n",
              "      <th>free sulfur dioxide</th>\n",
              "      <th>total sulfur dioxide</th>\n",
              "      <th>density</th>\n",
              "      <th>pH</th>\n",
              "      <th>sulphates</th>\n",
              "    </tr>\n",
              "  </thead>\n",
              "  <tbody>\n",
              "    <tr>\n",
              "      <th>count</th>\n",
              "      <td>6497.000000</td>\n",
              "      <td>6497.000000</td>\n",
              "      <td>6497.000000</td>\n",
              "      <td>6497.000000</td>\n",
              "      <td>6497.000000</td>\n",
              "      <td>6497.000000</td>\n",
              "      <td>6497.000000</td>\n",
              "      <td>6497.000000</td>\n",
              "      <td>6497.000000</td>\n",
              "      <td>6497.000000</td>\n",
              "      <td>6497.000000</td>\n",
              "    </tr>\n",
              "    <tr>\n",
              "      <th>mean</th>\n",
              "      <td>2042.535632</td>\n",
              "      <td>7.215307</td>\n",
              "      <td>0.339666</td>\n",
              "      <td>0.318633</td>\n",
              "      <td>5.443235</td>\n",
              "      <td>0.056034</td>\n",
              "      <td>30.525319</td>\n",
              "      <td>115.744574</td>\n",
              "      <td>0.994697</td>\n",
              "      <td>3.218501</td>\n",
              "      <td>0.531268</td>\n",
              "    </tr>\n",
              "    <tr>\n",
              "      <th>std</th>\n",
              "      <td>1436.926393</td>\n",
              "      <td>1.296434</td>\n",
              "      <td>0.164636</td>\n",
              "      <td>0.145318</td>\n",
              "      <td>4.757804</td>\n",
              "      <td>0.035034</td>\n",
              "      <td>17.749400</td>\n",
              "      <td>56.521855</td>\n",
              "      <td>0.002999</td>\n",
              "      <td>0.160787</td>\n",
              "      <td>0.148806</td>\n",
              "    </tr>\n",
              "    <tr>\n",
              "      <th>min</th>\n",
              "      <td>0.000000</td>\n",
              "      <td>3.800000</td>\n",
              "      <td>0.080000</td>\n",
              "      <td>0.000000</td>\n",
              "      <td>0.600000</td>\n",
              "      <td>0.009000</td>\n",
              "      <td>1.000000</td>\n",
              "      <td>6.000000</td>\n",
              "      <td>0.987110</td>\n",
              "      <td>2.720000</td>\n",
              "      <td>0.220000</td>\n",
              "    </tr>\n",
              "    <tr>\n",
              "      <th>25%</th>\n",
              "      <td>812.000000</td>\n",
              "      <td>6.400000</td>\n",
              "      <td>0.230000</td>\n",
              "      <td>0.250000</td>\n",
              "      <td>1.800000</td>\n",
              "      <td>0.038000</td>\n",
              "      <td>17.000000</td>\n",
              "      <td>77.000000</td>\n",
              "      <td>0.992340</td>\n",
              "      <td>3.110000</td>\n",
              "      <td>0.430000</td>\n",
              "    </tr>\n",
              "    <tr>\n",
              "      <th>50%</th>\n",
              "      <td>1649.000000</td>\n",
              "      <td>7.000000</td>\n",
              "      <td>0.290000</td>\n",
              "      <td>0.310000</td>\n",
              "      <td>3.000000</td>\n",
              "      <td>0.047000</td>\n",
              "      <td>29.000000</td>\n",
              "      <td>118.000000</td>\n",
              "      <td>0.994890</td>\n",
              "      <td>3.210000</td>\n",
              "      <td>0.510000</td>\n",
              "    </tr>\n",
              "    <tr>\n",
              "      <th>75%</th>\n",
              "      <td>3273.000000</td>\n",
              "      <td>7.700000</td>\n",
              "      <td>0.400000</td>\n",
              "      <td>0.390000</td>\n",
              "      <td>8.100000</td>\n",
              "      <td>0.065000</td>\n",
              "      <td>41.000000</td>\n",
              "      <td>156.000000</td>\n",
              "      <td>0.996990</td>\n",
              "      <td>3.320000</td>\n",
              "      <td>0.600000</td>\n",
              "    </tr>\n",
              "    <tr>\n",
              "      <th>max</th>\n",
              "      <td>4897.000000</td>\n",
              "      <td>15.900000</td>\n",
              "      <td>1.580000</td>\n",
              "      <td>1.660000</td>\n",
              "      <td>65.800000</td>\n",
              "      <td>0.611000</td>\n",
              "      <td>289.000000</td>\n",
              "      <td>440.000000</td>\n",
              "      <td>1.038980</td>\n",
              "      <td>4.010000</td>\n",
              "      <td>2.000000</td>\n",
              "    </tr>\n",
              "  </tbody>\n",
              "</table>\n",
              "</div>\n",
              "      <button class=\"colab-df-convert\" onclick=\"convertToInteractive('df-4a1b9e8c-28db-4c55-a612-e6ba7b370f04')\"\n",
              "              title=\"Convert this dataframe to an interactive table.\"\n",
              "              style=\"display:none;\">\n",
              "        \n",
              "  <svg xmlns=\"http://www.w3.org/2000/svg\" height=\"24px\"viewBox=\"0 0 24 24\"\n",
              "       width=\"24px\">\n",
              "    <path d=\"M0 0h24v24H0V0z\" fill=\"none\"/>\n",
              "    <path d=\"M18.56 5.44l.94 2.06.94-2.06 2.06-.94-2.06-.94-.94-2.06-.94 2.06-2.06.94zm-11 1L8.5 8.5l.94-2.06 2.06-.94-2.06-.94L8.5 2.5l-.94 2.06-2.06.94zm10 10l.94 2.06.94-2.06 2.06-.94-2.06-.94-.94-2.06-.94 2.06-2.06.94z\"/><path d=\"M17.41 7.96l-1.37-1.37c-.4-.4-.92-.59-1.43-.59-.52 0-1.04.2-1.43.59L10.3 9.45l-7.72 7.72c-.78.78-.78 2.05 0 2.83L4 21.41c.39.39.9.59 1.41.59.51 0 1.02-.2 1.41-.59l7.78-7.78 2.81-2.81c.8-.78.8-2.07 0-2.86zM5.41 20L4 18.59l7.72-7.72 1.47 1.35L5.41 20z\"/>\n",
              "  </svg>\n",
              "      </button>\n",
              "      \n",
              "  <style>\n",
              "    .colab-df-container {\n",
              "      display:flex;\n",
              "      flex-wrap:wrap;\n",
              "      gap: 12px;\n",
              "    }\n",
              "\n",
              "    .colab-df-convert {\n",
              "      background-color: #E8F0FE;\n",
              "      border: none;\n",
              "      border-radius: 50%;\n",
              "      cursor: pointer;\n",
              "      display: none;\n",
              "      fill: #1967D2;\n",
              "      height: 32px;\n",
              "      padding: 0 0 0 0;\n",
              "      width: 32px;\n",
              "    }\n",
              "\n",
              "    .colab-df-convert:hover {\n",
              "      background-color: #E2EBFA;\n",
              "      box-shadow: 0px 1px 2px rgba(60, 64, 67, 0.3), 0px 1px 3px 1px rgba(60, 64, 67, 0.15);\n",
              "      fill: #174EA6;\n",
              "    }\n",
              "\n",
              "    [theme=dark] .colab-df-convert {\n",
              "      background-color: #3B4455;\n",
              "      fill: #D2E3FC;\n",
              "    }\n",
              "\n",
              "    [theme=dark] .colab-df-convert:hover {\n",
              "      background-color: #434B5C;\n",
              "      box-shadow: 0px 1px 3px 1px rgba(0, 0, 0, 0.15);\n",
              "      filter: drop-shadow(0px 1px 2px rgba(0, 0, 0, 0.3));\n",
              "      fill: #FFFFFF;\n",
              "    }\n",
              "  </style>\n",
              "\n",
              "      <script>\n",
              "        const buttonEl =\n",
              "          document.querySelector('#df-4a1b9e8c-28db-4c55-a612-e6ba7b370f04 button.colab-df-convert');\n",
              "        buttonEl.style.display =\n",
              "          google.colab.kernel.accessAllowed ? 'block' : 'none';\n",
              "\n",
              "        async function convertToInteractive(key) {\n",
              "          const element = document.querySelector('#df-4a1b9e8c-28db-4c55-a612-e6ba7b370f04');\n",
              "          const dataTable =\n",
              "            await google.colab.kernel.invokeFunction('convertToInteractive',\n",
              "                                                     [key], {});\n",
              "          if (!dataTable) return;\n",
              "\n",
              "          const docLinkHtml = 'Like what you see? Visit the ' +\n",
              "            '<a target=\"_blank\" href=https://colab.research.google.com/notebooks/data_table.ipynb>data table notebook</a>'\n",
              "            + ' to learn more about interactive tables.';\n",
              "          element.innerHTML = '';\n",
              "          dataTable['output_type'] = 'display_data';\n",
              "          await google.colab.output.renderOutput(dataTable, element);\n",
              "          const docLink = document.createElement('div');\n",
              "          docLink.innerHTML = docLinkHtml;\n",
              "          element.appendChild(docLink);\n",
              "        }\n",
              "      </script>\n",
              "    </div>\n",
              "  </div>\n",
              "  "
            ]
          },
          "metadata": {},
          "execution_count": 376
        }
      ]
    },
    {
      "cell_type": "markdown",
      "source": [
        "4.   Mostrar una lista con el nombre de columnas que son categóricas"
      ],
      "metadata": {
        "id": "NEkM6r6a4y1j"
      }
    },
    {
      "cell_type": "code",
      "source": [
        "# Almacenar columnas categoricas\n",
        "categorical_columns = df_train.select_dtypes(include='object').columns.tolist()\n",
        "print(categorical_columns)"
      ],
      "metadata": {
        "colab": {
          "base_uri": "https://localhost:8080/"
        },
        "id": "qQd_8lP6xsiT",
        "outputId": "e7b1bfad-9758-4853-ef9e-ad4dd7e001ef"
      },
      "execution_count": 377,
      "outputs": [
        {
          "output_type": "stream",
          "name": "stdout",
          "text": [
            "['alcohol', 'quality', 'type', 'date', 'origin']\n"
          ]
        }
      ]
    },
    {
      "cell_type": "markdown",
      "source": [
        "# Ejercicio 3. Unificar las ocurrencias de vino tinto y blanco\n",
        "\n",
        "Crea un dataframe en el que iguales las ocurrencias con el que más tiene y otro dataframe donde las iguales con el que menor tiene.\n",
        "\n",
        "El dataframe con más ocurrencias se deberá llamar **df_train_may** y el de menos **df_train_min**.\n",
        "\n",
        "Continuaremos trabajando con **df_train_may** después de este ejercicio. Puedes copiarlo a una variable que se llame **df_train**"
      ],
      "metadata": {
        "id": "2wq_EHVsiEUN"
      }
    },
    {
      "cell_type": "code",
      "source": [
        "# Almacenar cada clase\n",
        "df_may = df_train[df_train[\"type\"] == \"Red\"]\n",
        "df_min = df_train[df_train[\"type\"] == \"White\"]"
      ],
      "metadata": {
        "id": "_ZX56wolzNJW"
      },
      "execution_count": 378,
      "outputs": []
    },
    {
      "cell_type": "code",
      "source": [
        "# Upsample hacia vino blanco (el que tiene mas ocurrencias)\n",
        "df_majority_upsampled = resample(df_may, \n",
        "                                 n_samples=len(df_min),\n",
        "                                 replace=True,      \n",
        "                                 random_state=42) \n",
        "\n",
        "df_train = pd.concat([df_min, df_majority_upsampled])"
      ],
      "metadata": {
        "id": "HB249nrtvBVo"
      },
      "execution_count": 379,
      "outputs": []
    },
    {
      "cell_type": "code",
      "source": [
        "# Downsample hacia vino tinto (el que tiene menos ocurrencias)\n",
        "df_majority_downsampled = resample(df_min, \n",
        "                                 n_samples=len(df_may),\n",
        "                                 replace=True,      \n",
        "                                 random_state=42) \n",
        "\n",
        "df_train_min = pd.concat([df_may, df_majority_downsampled])"
      ],
      "metadata": {
        "id": "ypkM9EB_xzfl"
      },
      "execution_count": 380,
      "outputs": []
    },
    {
      "cell_type": "markdown",
      "source": [
        "## Mostrar la información del dataset otra vez\n",
        "\n",
        "Comprueba de la forma que consideres que el dataset tiene las mismas ocurrencias de vino blanco y tinto"
      ],
      "metadata": {
        "id": "zHsOjTRMqgdT"
      }
    },
    {
      "cell_type": "code",
      "source": [
        "print(f\"(Upsampled) Number of red wine: {len( df_train[df_train['type'] == 'Red'])}\")\n",
        "print(f\"(Upsampled) Number of white wine: {len( df_train[df_train['type'] == 'White'])}\")\n",
        "\n",
        "print(f\"(Downsampled) Number of red wine: {len( df_train_min[df_train_min['type'] == 'Red'])}\")\n",
        "print(f\"(Downsampled) Number of white wine: {len( df_train_min[df_train_min['type'] == 'White'])}\")"
      ],
      "metadata": {
        "id": "t_nFhCYaz29P",
        "colab": {
          "base_uri": "https://localhost:8080/"
        },
        "outputId": "a6137cf2-e612-4a4c-f66f-dcebbdd78aae"
      },
      "execution_count": 381,
      "outputs": [
        {
          "output_type": "stream",
          "name": "stdout",
          "text": [
            "(Upsampled) Number of red wine: 4898\n",
            "(Upsampled) Number of white wine: 4898\n",
            "(Downsampled) Number of red wine: 1599\n",
            "(Downsampled) Number of white wine: 1599\n"
          ]
        }
      ]
    },
    {
      "cell_type": "markdown",
      "source": [
        "# Ejercicio 4. Eliminar columna innecesaria\n",
        "\n",
        "Elimina las columnas: \n",
        "\n",
        "\n",
        "*   Unnamed: 0\n",
        "*   Density\n",
        "\n"
      ],
      "metadata": {
        "id": "JAY2B2kwmS5_"
      }
    },
    {
      "cell_type": "code",
      "source": [
        "df_train.pop(\"Unnamed: 0\")\n",
        "df_train.pop(\"density\")"
      ],
      "metadata": {
        "id": "v4719UXj5X7n",
        "colab": {
          "base_uri": "https://localhost:8080/"
        },
        "outputId": "af9e6f65-2e50-4b2e-837d-3ff3a92deb75"
      },
      "execution_count": 382,
      "outputs": [
        {
          "output_type": "execute_result",
          "data": {
            "text/plain": [
              "1599    1.00100\n",
              "1600    0.99400\n",
              "1601    0.99510\n",
              "1602    0.99560\n",
              "1603    0.99560\n",
              "         ...   \n",
              "444     0.99340\n",
              "1593    0.99651\n",
              "362     0.99920\n",
              "122     0.99800\n",
              "1211    0.99570\n",
              "Name: density, Length: 9796, dtype: float64"
            ]
          },
          "metadata": {},
          "execution_count": 382
        }
      ]
    },
    {
      "cell_type": "markdown",
      "source": [
        "# Ejercicio 5. Eliminar nulos\n",
        "\n",
        "Identifica en el dataset que columnas tienen más del 30% de sus datos nulos y eliminalas"
      ],
      "metadata": {
        "id": "_ZiIpSodbruZ"
      }
    },
    {
      "cell_type": "code",
      "source": [
        "'''\n",
        "inplace - Modificar el dataframe en lugar de crear uno nuevo\n",
        "threshint - Requerir al menos X valores nulos'''\n",
        "df_train.dropna(axis=\"columns\", inplace=True, thresh=0.7*len(df_train))"
      ],
      "metadata": {
        "id": "3-jl2lwlbys8"
      },
      "execution_count": 383,
      "outputs": []
    },
    {
      "cell_type": "code",
      "source": [
        "df_train.sample(5)"
      ],
      "metadata": {
        "colab": {
          "base_uri": "https://localhost:8080/",
          "height": 305
        },
        "id": "TXXN3icOZwbE",
        "outputId": "2ee41754-55f6-475d-8d56-1a5233bb1a8d"
      },
      "execution_count": 384,
      "outputs": [
        {
          "output_type": "execute_result",
          "data": {
            "text/plain": [
              "      fixed acidity  volatile acidity  citric acid  residual sugar  chlorides  \\\n",
              "6384            6.9              0.25         0.29             2.4      0.038   \n",
              "2228            5.8              0.31         0.33             1.2      0.036   \n",
              "2163            6.8              0.51         0.30             4.2      0.066   \n",
              "920             9.6              0.41         0.37             2.3      0.091   \n",
              "3701            6.2              0.34         0.30            11.1      0.047   \n",
              "\n",
              "      free sulfur dioxide  total sulfur dioxide    pH  sulphates   alcohol  \\\n",
              "6384                 28.0                  76.0  3.01       0.36  muy alto   \n",
              "2228                 23.0                  99.0  3.18       0.60      alto   \n",
              "2163                 38.0                 165.0  3.20       0.42      bajo   \n",
              "920                  10.0                  23.0  3.24       0.56      alto   \n",
              "3701                 28.0                 237.0  3.18       0.49      bajo   \n",
              "\n",
              "     quality   type  \n",
              "6384    alta  White  \n",
              "2228   media  White  \n",
              "2163    baja  White  \n",
              "920     baja    Red  \n",
              "3701    baja  White  "
            ],
            "text/html": [
              "\n",
              "  <div id=\"df-ddecf110-2310-48f9-901f-573f7991c17e\">\n",
              "    <div class=\"colab-df-container\">\n",
              "      <div>\n",
              "<style scoped>\n",
              "    .dataframe tbody tr th:only-of-type {\n",
              "        vertical-align: middle;\n",
              "    }\n",
              "\n",
              "    .dataframe tbody tr th {\n",
              "        vertical-align: top;\n",
              "    }\n",
              "\n",
              "    .dataframe thead th {\n",
              "        text-align: right;\n",
              "    }\n",
              "</style>\n",
              "<table border=\"1\" class=\"dataframe\">\n",
              "  <thead>\n",
              "    <tr style=\"text-align: right;\">\n",
              "      <th></th>\n",
              "      <th>fixed acidity</th>\n",
              "      <th>volatile acidity</th>\n",
              "      <th>citric acid</th>\n",
              "      <th>residual sugar</th>\n",
              "      <th>chlorides</th>\n",
              "      <th>free sulfur dioxide</th>\n",
              "      <th>total sulfur dioxide</th>\n",
              "      <th>pH</th>\n",
              "      <th>sulphates</th>\n",
              "      <th>alcohol</th>\n",
              "      <th>quality</th>\n",
              "      <th>type</th>\n",
              "    </tr>\n",
              "  </thead>\n",
              "  <tbody>\n",
              "    <tr>\n",
              "      <th>6384</th>\n",
              "      <td>6.9</td>\n",
              "      <td>0.25</td>\n",
              "      <td>0.29</td>\n",
              "      <td>2.4</td>\n",
              "      <td>0.038</td>\n",
              "      <td>28.0</td>\n",
              "      <td>76.0</td>\n",
              "      <td>3.01</td>\n",
              "      <td>0.36</td>\n",
              "      <td>muy alto</td>\n",
              "      <td>alta</td>\n",
              "      <td>White</td>\n",
              "    </tr>\n",
              "    <tr>\n",
              "      <th>2228</th>\n",
              "      <td>5.8</td>\n",
              "      <td>0.31</td>\n",
              "      <td>0.33</td>\n",
              "      <td>1.2</td>\n",
              "      <td>0.036</td>\n",
              "      <td>23.0</td>\n",
              "      <td>99.0</td>\n",
              "      <td>3.18</td>\n",
              "      <td>0.60</td>\n",
              "      <td>alto</td>\n",
              "      <td>media</td>\n",
              "      <td>White</td>\n",
              "    </tr>\n",
              "    <tr>\n",
              "      <th>2163</th>\n",
              "      <td>6.8</td>\n",
              "      <td>0.51</td>\n",
              "      <td>0.30</td>\n",
              "      <td>4.2</td>\n",
              "      <td>0.066</td>\n",
              "      <td>38.0</td>\n",
              "      <td>165.0</td>\n",
              "      <td>3.20</td>\n",
              "      <td>0.42</td>\n",
              "      <td>bajo</td>\n",
              "      <td>baja</td>\n",
              "      <td>White</td>\n",
              "    </tr>\n",
              "    <tr>\n",
              "      <th>920</th>\n",
              "      <td>9.6</td>\n",
              "      <td>0.41</td>\n",
              "      <td>0.37</td>\n",
              "      <td>2.3</td>\n",
              "      <td>0.091</td>\n",
              "      <td>10.0</td>\n",
              "      <td>23.0</td>\n",
              "      <td>3.24</td>\n",
              "      <td>0.56</td>\n",
              "      <td>alto</td>\n",
              "      <td>baja</td>\n",
              "      <td>Red</td>\n",
              "    </tr>\n",
              "    <tr>\n",
              "      <th>3701</th>\n",
              "      <td>6.2</td>\n",
              "      <td>0.34</td>\n",
              "      <td>0.30</td>\n",
              "      <td>11.1</td>\n",
              "      <td>0.047</td>\n",
              "      <td>28.0</td>\n",
              "      <td>237.0</td>\n",
              "      <td>3.18</td>\n",
              "      <td>0.49</td>\n",
              "      <td>bajo</td>\n",
              "      <td>baja</td>\n",
              "      <td>White</td>\n",
              "    </tr>\n",
              "  </tbody>\n",
              "</table>\n",
              "</div>\n",
              "      <button class=\"colab-df-convert\" onclick=\"convertToInteractive('df-ddecf110-2310-48f9-901f-573f7991c17e')\"\n",
              "              title=\"Convert this dataframe to an interactive table.\"\n",
              "              style=\"display:none;\">\n",
              "        \n",
              "  <svg xmlns=\"http://www.w3.org/2000/svg\" height=\"24px\"viewBox=\"0 0 24 24\"\n",
              "       width=\"24px\">\n",
              "    <path d=\"M0 0h24v24H0V0z\" fill=\"none\"/>\n",
              "    <path d=\"M18.56 5.44l.94 2.06.94-2.06 2.06-.94-2.06-.94-.94-2.06-.94 2.06-2.06.94zm-11 1L8.5 8.5l.94-2.06 2.06-.94-2.06-.94L8.5 2.5l-.94 2.06-2.06.94zm10 10l.94 2.06.94-2.06 2.06-.94-2.06-.94-.94-2.06-.94 2.06-2.06.94z\"/><path d=\"M17.41 7.96l-1.37-1.37c-.4-.4-.92-.59-1.43-.59-.52 0-1.04.2-1.43.59L10.3 9.45l-7.72 7.72c-.78.78-.78 2.05 0 2.83L4 21.41c.39.39.9.59 1.41.59.51 0 1.02-.2 1.41-.59l7.78-7.78 2.81-2.81c.8-.78.8-2.07 0-2.86zM5.41 20L4 18.59l7.72-7.72 1.47 1.35L5.41 20z\"/>\n",
              "  </svg>\n",
              "      </button>\n",
              "      \n",
              "  <style>\n",
              "    .colab-df-container {\n",
              "      display:flex;\n",
              "      flex-wrap:wrap;\n",
              "      gap: 12px;\n",
              "    }\n",
              "\n",
              "    .colab-df-convert {\n",
              "      background-color: #E8F0FE;\n",
              "      border: none;\n",
              "      border-radius: 50%;\n",
              "      cursor: pointer;\n",
              "      display: none;\n",
              "      fill: #1967D2;\n",
              "      height: 32px;\n",
              "      padding: 0 0 0 0;\n",
              "      width: 32px;\n",
              "    }\n",
              "\n",
              "    .colab-df-convert:hover {\n",
              "      background-color: #E2EBFA;\n",
              "      box-shadow: 0px 1px 2px rgba(60, 64, 67, 0.3), 0px 1px 3px 1px rgba(60, 64, 67, 0.15);\n",
              "      fill: #174EA6;\n",
              "    }\n",
              "\n",
              "    [theme=dark] .colab-df-convert {\n",
              "      background-color: #3B4455;\n",
              "      fill: #D2E3FC;\n",
              "    }\n",
              "\n",
              "    [theme=dark] .colab-df-convert:hover {\n",
              "      background-color: #434B5C;\n",
              "      box-shadow: 0px 1px 3px 1px rgba(0, 0, 0, 0.15);\n",
              "      filter: drop-shadow(0px 1px 2px rgba(0, 0, 0, 0.3));\n",
              "      fill: #FFFFFF;\n",
              "    }\n",
              "  </style>\n",
              "\n",
              "      <script>\n",
              "        const buttonEl =\n",
              "          document.querySelector('#df-ddecf110-2310-48f9-901f-573f7991c17e button.colab-df-convert');\n",
              "        buttonEl.style.display =\n",
              "          google.colab.kernel.accessAllowed ? 'block' : 'none';\n",
              "\n",
              "        async function convertToInteractive(key) {\n",
              "          const element = document.querySelector('#df-ddecf110-2310-48f9-901f-573f7991c17e');\n",
              "          const dataTable =\n",
              "            await google.colab.kernel.invokeFunction('convertToInteractive',\n",
              "                                                     [key], {});\n",
              "          if (!dataTable) return;\n",
              "\n",
              "          const docLinkHtml = 'Like what you see? Visit the ' +\n",
              "            '<a target=\"_blank\" href=https://colab.research.google.com/notebooks/data_table.ipynb>data table notebook</a>'\n",
              "            + ' to learn more about interactive tables.';\n",
              "          element.innerHTML = '';\n",
              "          dataTable['output_type'] = 'display_data';\n",
              "          await google.colab.output.renderOutput(dataTable, element);\n",
              "          const docLink = document.createElement('div');\n",
              "          docLink.innerHTML = docLinkHtml;\n",
              "          element.appendChild(docLink);\n",
              "        }\n",
              "      </script>\n",
              "    </div>\n",
              "  </div>\n",
              "  "
            ]
          },
          "metadata": {},
          "execution_count": 384
        }
      ]
    },
    {
      "cell_type": "markdown",
      "source": [
        "# Ejercicio 6. Transformar variables categóricas a numéricas\n",
        "\n",
        "Debes transformar todas las variables categóricas a numéricas.\n",
        "\n",
        "\n",
        "1.   Obten una lista con todas las variables categóricas\n",
        "\n",
        "\n"
      ],
      "metadata": {
        "id": "J7-dOoWAiwCu"
      }
    },
    {
      "cell_type": "code",
      "source": [
        "# Buscar donde dtypes == object\n",
        "categorical_columns = list(df_train.dtypes[df_train.dtypes == 'object'].index)\n",
        "\n",
        "print(\"Categorical columns:\", categorical_columns)"
      ],
      "metadata": {
        "colab": {
          "base_uri": "https://localhost:8080/"
        },
        "id": "Ji0Rr5LstQuX",
        "outputId": "5831b066-2bdd-4bab-e9d7-9145a64fd568"
      },
      "execution_count": 385,
      "outputs": [
        {
          "output_type": "stream",
          "name": "stdout",
          "text": [
            "Categorical columns: ['alcohol', 'quality', 'type']\n"
          ]
        }
      ]
    },
    {
      "cell_type": "markdown",
      "source": [
        "2.   Convierte en numérica cada una de las anteriores variables"
      ],
      "metadata": {
        "id": "LIHc7nJ6tMs-"
      }
    },
    {
      "cell_type": "code",
      "source": [
        "def onehot_encode(df, column):\n",
        "    for name in column:\n",
        "      df = df.copy()\n",
        "      dummies = pd.get_dummies(df[name], prefix=name) \n",
        "\n",
        "      df = pd.concat([df, dummies], axis=1)\n",
        "      df = df.drop(name, axis=1)         \n",
        "    return df\n",
        "    \n",
        "\n",
        "df_train = onehot_encode(df_train, categorical_columns)\n",
        "df_train.describe()"
      ],
      "metadata": {
        "id": "hfI7RmA8jNEy",
        "colab": {
          "base_uri": "https://localhost:8080/",
          "height": 399
        },
        "outputId": "ab381c86-2599-4193-8957-abe16f56411b"
      },
      "execution_count": 386,
      "outputs": [
        {
          "output_type": "execute_result",
          "data": {
            "text/plain": [
              "       fixed acidity  volatile acidity  citric acid  residual sugar  \\\n",
              "count    9796.000000       9796.000000  9796.000000     9796.000000   \n",
              "mean        7.577720          0.402407     0.302667        4.471427   \n",
              "std         1.541659          0.190336     0.165438        4.193698   \n",
              "min         3.800000          0.080000     0.000000        0.600000   \n",
              "25%         6.600000          0.260000     0.210000        1.900000   \n",
              "50%         7.200000          0.352500     0.300000        2.400000   \n",
              "75%         8.200000          0.530000     0.400000        5.900000   \n",
              "max        15.900000          1.580000     1.660000       65.800000   \n",
              "\n",
              "         chlorides  free sulfur dioxide  total sulfur dioxide           pH  \\\n",
              "count  9796.000000          9796.000000           9796.000000  9796.000000   \n",
              "mean      0.066411            25.562066             92.228920     3.250052   \n",
              "std       0.041269            17.168102             59.686264     0.163806   \n",
              "min       0.009000             1.000000              6.000000     2.720000   \n",
              "25%       0.043000            12.000000             37.000000     3.140000   \n",
              "50%       0.059000            22.000000             90.000000     3.240000   \n",
              "75%       0.080000            35.000000            136.000000     3.360000   \n",
              "max       0.611000           289.000000            440.000000     4.010000   \n",
              "\n",
              "         sulphates  alcohol_alto  alcohol_bajo  alcohol_medio  \\\n",
              "count  9796.000000   9796.000000   9796.000000    9796.000000   \n",
              "mean      0.575695      0.256942      0.273071       0.240098   \n",
              "std       0.170143      0.436969      0.445560       0.427165   \n",
              "min       0.220000      0.000000      0.000000       0.000000   \n",
              "25%       0.460000      0.000000      0.000000       0.000000   \n",
              "50%       0.550000      0.000000      0.000000       0.000000   \n",
              "75%       0.650000      1.000000      1.000000       0.000000   \n",
              "max       2.000000      1.000000      1.000000       1.000000   \n",
              "\n",
              "       alcohol_muy alto  quality_alta  quality_baja  quality_media  \\\n",
              "count       9796.000000   9796.000000   9796.000000    9796.000000   \n",
              "mean           0.229890      0.180686      0.399040       0.420274   \n",
              "std            0.420783      0.384777      0.489726       0.493628   \n",
              "min            0.000000      0.000000      0.000000       0.000000   \n",
              "25%            0.000000      0.000000      0.000000       0.000000   \n",
              "50%            0.000000      0.000000      0.000000       0.000000   \n",
              "75%            0.000000      0.000000      1.000000       1.000000   \n",
              "max            1.000000      1.000000      1.000000       1.000000   \n",
              "\n",
              "          type_Red   type_White  \n",
              "count  9796.000000  9796.000000  \n",
              "mean      0.500000     0.500000  \n",
              "std       0.500026     0.500026  \n",
              "min       0.000000     0.000000  \n",
              "25%       0.000000     0.000000  \n",
              "50%       0.500000     0.500000  \n",
              "75%       1.000000     1.000000  \n",
              "max       1.000000     1.000000  "
            ],
            "text/html": [
              "\n",
              "  <div id=\"df-127d05da-6f75-4d7f-9b29-3ccd6c3474ac\">\n",
              "    <div class=\"colab-df-container\">\n",
              "      <div>\n",
              "<style scoped>\n",
              "    .dataframe tbody tr th:only-of-type {\n",
              "        vertical-align: middle;\n",
              "    }\n",
              "\n",
              "    .dataframe tbody tr th {\n",
              "        vertical-align: top;\n",
              "    }\n",
              "\n",
              "    .dataframe thead th {\n",
              "        text-align: right;\n",
              "    }\n",
              "</style>\n",
              "<table border=\"1\" class=\"dataframe\">\n",
              "  <thead>\n",
              "    <tr style=\"text-align: right;\">\n",
              "      <th></th>\n",
              "      <th>fixed acidity</th>\n",
              "      <th>volatile acidity</th>\n",
              "      <th>citric acid</th>\n",
              "      <th>residual sugar</th>\n",
              "      <th>chlorides</th>\n",
              "      <th>free sulfur dioxide</th>\n",
              "      <th>total sulfur dioxide</th>\n",
              "      <th>pH</th>\n",
              "      <th>sulphates</th>\n",
              "      <th>alcohol_alto</th>\n",
              "      <th>alcohol_bajo</th>\n",
              "      <th>alcohol_medio</th>\n",
              "      <th>alcohol_muy alto</th>\n",
              "      <th>quality_alta</th>\n",
              "      <th>quality_baja</th>\n",
              "      <th>quality_media</th>\n",
              "      <th>type_Red</th>\n",
              "      <th>type_White</th>\n",
              "    </tr>\n",
              "  </thead>\n",
              "  <tbody>\n",
              "    <tr>\n",
              "      <th>count</th>\n",
              "      <td>9796.000000</td>\n",
              "      <td>9796.000000</td>\n",
              "      <td>9796.000000</td>\n",
              "      <td>9796.000000</td>\n",
              "      <td>9796.000000</td>\n",
              "      <td>9796.000000</td>\n",
              "      <td>9796.000000</td>\n",
              "      <td>9796.000000</td>\n",
              "      <td>9796.000000</td>\n",
              "      <td>9796.000000</td>\n",
              "      <td>9796.000000</td>\n",
              "      <td>9796.000000</td>\n",
              "      <td>9796.000000</td>\n",
              "      <td>9796.000000</td>\n",
              "      <td>9796.000000</td>\n",
              "      <td>9796.000000</td>\n",
              "      <td>9796.000000</td>\n",
              "      <td>9796.000000</td>\n",
              "    </tr>\n",
              "    <tr>\n",
              "      <th>mean</th>\n",
              "      <td>7.577720</td>\n",
              "      <td>0.402407</td>\n",
              "      <td>0.302667</td>\n",
              "      <td>4.471427</td>\n",
              "      <td>0.066411</td>\n",
              "      <td>25.562066</td>\n",
              "      <td>92.228920</td>\n",
              "      <td>3.250052</td>\n",
              "      <td>0.575695</td>\n",
              "      <td>0.256942</td>\n",
              "      <td>0.273071</td>\n",
              "      <td>0.240098</td>\n",
              "      <td>0.229890</td>\n",
              "      <td>0.180686</td>\n",
              "      <td>0.399040</td>\n",
              "      <td>0.420274</td>\n",
              "      <td>0.500000</td>\n",
              "      <td>0.500000</td>\n",
              "    </tr>\n",
              "    <tr>\n",
              "      <th>std</th>\n",
              "      <td>1.541659</td>\n",
              "      <td>0.190336</td>\n",
              "      <td>0.165438</td>\n",
              "      <td>4.193698</td>\n",
              "      <td>0.041269</td>\n",
              "      <td>17.168102</td>\n",
              "      <td>59.686264</td>\n",
              "      <td>0.163806</td>\n",
              "      <td>0.170143</td>\n",
              "      <td>0.436969</td>\n",
              "      <td>0.445560</td>\n",
              "      <td>0.427165</td>\n",
              "      <td>0.420783</td>\n",
              "      <td>0.384777</td>\n",
              "      <td>0.489726</td>\n",
              "      <td>0.493628</td>\n",
              "      <td>0.500026</td>\n",
              "      <td>0.500026</td>\n",
              "    </tr>\n",
              "    <tr>\n",
              "      <th>min</th>\n",
              "      <td>3.800000</td>\n",
              "      <td>0.080000</td>\n",
              "      <td>0.000000</td>\n",
              "      <td>0.600000</td>\n",
              "      <td>0.009000</td>\n",
              "      <td>1.000000</td>\n",
              "      <td>6.000000</td>\n",
              "      <td>2.720000</td>\n",
              "      <td>0.220000</td>\n",
              "      <td>0.000000</td>\n",
              "      <td>0.000000</td>\n",
              "      <td>0.000000</td>\n",
              "      <td>0.000000</td>\n",
              "      <td>0.000000</td>\n",
              "      <td>0.000000</td>\n",
              "      <td>0.000000</td>\n",
              "      <td>0.000000</td>\n",
              "      <td>0.000000</td>\n",
              "    </tr>\n",
              "    <tr>\n",
              "      <th>25%</th>\n",
              "      <td>6.600000</td>\n",
              "      <td>0.260000</td>\n",
              "      <td>0.210000</td>\n",
              "      <td>1.900000</td>\n",
              "      <td>0.043000</td>\n",
              "      <td>12.000000</td>\n",
              "      <td>37.000000</td>\n",
              "      <td>3.140000</td>\n",
              "      <td>0.460000</td>\n",
              "      <td>0.000000</td>\n",
              "      <td>0.000000</td>\n",
              "      <td>0.000000</td>\n",
              "      <td>0.000000</td>\n",
              "      <td>0.000000</td>\n",
              "      <td>0.000000</td>\n",
              "      <td>0.000000</td>\n",
              "      <td>0.000000</td>\n",
              "      <td>0.000000</td>\n",
              "    </tr>\n",
              "    <tr>\n",
              "      <th>50%</th>\n",
              "      <td>7.200000</td>\n",
              "      <td>0.352500</td>\n",
              "      <td>0.300000</td>\n",
              "      <td>2.400000</td>\n",
              "      <td>0.059000</td>\n",
              "      <td>22.000000</td>\n",
              "      <td>90.000000</td>\n",
              "      <td>3.240000</td>\n",
              "      <td>0.550000</td>\n",
              "      <td>0.000000</td>\n",
              "      <td>0.000000</td>\n",
              "      <td>0.000000</td>\n",
              "      <td>0.000000</td>\n",
              "      <td>0.000000</td>\n",
              "      <td>0.000000</td>\n",
              "      <td>0.000000</td>\n",
              "      <td>0.500000</td>\n",
              "      <td>0.500000</td>\n",
              "    </tr>\n",
              "    <tr>\n",
              "      <th>75%</th>\n",
              "      <td>8.200000</td>\n",
              "      <td>0.530000</td>\n",
              "      <td>0.400000</td>\n",
              "      <td>5.900000</td>\n",
              "      <td>0.080000</td>\n",
              "      <td>35.000000</td>\n",
              "      <td>136.000000</td>\n",
              "      <td>3.360000</td>\n",
              "      <td>0.650000</td>\n",
              "      <td>1.000000</td>\n",
              "      <td>1.000000</td>\n",
              "      <td>0.000000</td>\n",
              "      <td>0.000000</td>\n",
              "      <td>0.000000</td>\n",
              "      <td>1.000000</td>\n",
              "      <td>1.000000</td>\n",
              "      <td>1.000000</td>\n",
              "      <td>1.000000</td>\n",
              "    </tr>\n",
              "    <tr>\n",
              "      <th>max</th>\n",
              "      <td>15.900000</td>\n",
              "      <td>1.580000</td>\n",
              "      <td>1.660000</td>\n",
              "      <td>65.800000</td>\n",
              "      <td>0.611000</td>\n",
              "      <td>289.000000</td>\n",
              "      <td>440.000000</td>\n",
              "      <td>4.010000</td>\n",
              "      <td>2.000000</td>\n",
              "      <td>1.000000</td>\n",
              "      <td>1.000000</td>\n",
              "      <td>1.000000</td>\n",
              "      <td>1.000000</td>\n",
              "      <td>1.000000</td>\n",
              "      <td>1.000000</td>\n",
              "      <td>1.000000</td>\n",
              "      <td>1.000000</td>\n",
              "      <td>1.000000</td>\n",
              "    </tr>\n",
              "  </tbody>\n",
              "</table>\n",
              "</div>\n",
              "      <button class=\"colab-df-convert\" onclick=\"convertToInteractive('df-127d05da-6f75-4d7f-9b29-3ccd6c3474ac')\"\n",
              "              title=\"Convert this dataframe to an interactive table.\"\n",
              "              style=\"display:none;\">\n",
              "        \n",
              "  <svg xmlns=\"http://www.w3.org/2000/svg\" height=\"24px\"viewBox=\"0 0 24 24\"\n",
              "       width=\"24px\">\n",
              "    <path d=\"M0 0h24v24H0V0z\" fill=\"none\"/>\n",
              "    <path d=\"M18.56 5.44l.94 2.06.94-2.06 2.06-.94-2.06-.94-.94-2.06-.94 2.06-2.06.94zm-11 1L8.5 8.5l.94-2.06 2.06-.94-2.06-.94L8.5 2.5l-.94 2.06-2.06.94zm10 10l.94 2.06.94-2.06 2.06-.94-2.06-.94-.94-2.06-.94 2.06-2.06.94z\"/><path d=\"M17.41 7.96l-1.37-1.37c-.4-.4-.92-.59-1.43-.59-.52 0-1.04.2-1.43.59L10.3 9.45l-7.72 7.72c-.78.78-.78 2.05 0 2.83L4 21.41c.39.39.9.59 1.41.59.51 0 1.02-.2 1.41-.59l7.78-7.78 2.81-2.81c.8-.78.8-2.07 0-2.86zM5.41 20L4 18.59l7.72-7.72 1.47 1.35L5.41 20z\"/>\n",
              "  </svg>\n",
              "      </button>\n",
              "      \n",
              "  <style>\n",
              "    .colab-df-container {\n",
              "      display:flex;\n",
              "      flex-wrap:wrap;\n",
              "      gap: 12px;\n",
              "    }\n",
              "\n",
              "    .colab-df-convert {\n",
              "      background-color: #E8F0FE;\n",
              "      border: none;\n",
              "      border-radius: 50%;\n",
              "      cursor: pointer;\n",
              "      display: none;\n",
              "      fill: #1967D2;\n",
              "      height: 32px;\n",
              "      padding: 0 0 0 0;\n",
              "      width: 32px;\n",
              "    }\n",
              "\n",
              "    .colab-df-convert:hover {\n",
              "      background-color: #E2EBFA;\n",
              "      box-shadow: 0px 1px 2px rgba(60, 64, 67, 0.3), 0px 1px 3px 1px rgba(60, 64, 67, 0.15);\n",
              "      fill: #174EA6;\n",
              "    }\n",
              "\n",
              "    [theme=dark] .colab-df-convert {\n",
              "      background-color: #3B4455;\n",
              "      fill: #D2E3FC;\n",
              "    }\n",
              "\n",
              "    [theme=dark] .colab-df-convert:hover {\n",
              "      background-color: #434B5C;\n",
              "      box-shadow: 0px 1px 3px 1px rgba(0, 0, 0, 0.15);\n",
              "      filter: drop-shadow(0px 1px 2px rgba(0, 0, 0, 0.3));\n",
              "      fill: #FFFFFF;\n",
              "    }\n",
              "  </style>\n",
              "\n",
              "      <script>\n",
              "        const buttonEl =\n",
              "          document.querySelector('#df-127d05da-6f75-4d7f-9b29-3ccd6c3474ac button.colab-df-convert');\n",
              "        buttonEl.style.display =\n",
              "          google.colab.kernel.accessAllowed ? 'block' : 'none';\n",
              "\n",
              "        async function convertToInteractive(key) {\n",
              "          const element = document.querySelector('#df-127d05da-6f75-4d7f-9b29-3ccd6c3474ac');\n",
              "          const dataTable =\n",
              "            await google.colab.kernel.invokeFunction('convertToInteractive',\n",
              "                                                     [key], {});\n",
              "          if (!dataTable) return;\n",
              "\n",
              "          const docLinkHtml = 'Like what you see? Visit the ' +\n",
              "            '<a target=\"_blank\" href=https://colab.research.google.com/notebooks/data_table.ipynb>data table notebook</a>'\n",
              "            + ' to learn more about interactive tables.';\n",
              "          element.innerHTML = '';\n",
              "          dataTable['output_type'] = 'display_data';\n",
              "          await google.colab.output.renderOutput(dataTable, element);\n",
              "          const docLink = document.createElement('div');\n",
              "          docLink.innerHTML = docLinkHtml;\n",
              "          element.appendChild(docLink);\n",
              "        }\n",
              "      </script>\n",
              "    </div>\n",
              "  </div>\n",
              "  "
            ]
          },
          "metadata": {},
          "execution_count": 386
        }
      ]
    },
    {
      "cell_type": "markdown",
      "source": [
        "## Comprueba que todas las columnas son numéricas"
      ],
      "metadata": {
        "id": "-nxDqsKx6U2d"
      }
    },
    {
      "cell_type": "code",
      "source": [
        "print(df_train.info())"
      ],
      "metadata": {
        "id": "h_f69bWCzW1C",
        "colab": {
          "base_uri": "https://localhost:8080/"
        },
        "outputId": "ba200387-1ed7-448c-b40e-5731b00908e2"
      },
      "execution_count": 387,
      "outputs": [
        {
          "output_type": "stream",
          "name": "stdout",
          "text": [
            "<class 'pandas.core.frame.DataFrame'>\n",
            "Int64Index: 9796 entries, 1599 to 1211\n",
            "Data columns (total 18 columns):\n",
            " #   Column                Non-Null Count  Dtype  \n",
            "---  ------                --------------  -----  \n",
            " 0   fixed acidity         9796 non-null   float64\n",
            " 1   volatile acidity      9796 non-null   float64\n",
            " 2   citric acid           9796 non-null   float64\n",
            " 3   residual sugar        9796 non-null   float64\n",
            " 4   chlorides             9796 non-null   float64\n",
            " 5   free sulfur dioxide   9796 non-null   float64\n",
            " 6   total sulfur dioxide  9796 non-null   float64\n",
            " 7   pH                    9796 non-null   float64\n",
            " 8   sulphates             9796 non-null   float64\n",
            " 9   alcohol_alto          9796 non-null   uint8  \n",
            " 10  alcohol_bajo          9796 non-null   uint8  \n",
            " 11  alcohol_medio         9796 non-null   uint8  \n",
            " 12  alcohol_muy alto      9796 non-null   uint8  \n",
            " 13  quality_alta          9796 non-null   uint8  \n",
            " 14  quality_baja          9796 non-null   uint8  \n",
            " 15  quality_media         9796 non-null   uint8  \n",
            " 16  type_Red              9796 non-null   uint8  \n",
            " 17  type_White            9796 non-null   uint8  \n",
            "dtypes: float64(9), uint8(9)\n",
            "memory usage: 851.4 KB\n",
            "None\n"
          ]
        }
      ]
    },
    {
      "cell_type": "markdown",
      "source": [
        "## Unificar la variable tipo en una sola columna\n",
        "\n",
        "Hemos transformado la variable categórica tipo (Red, White) a numérica, generando las columnas 'type_Red' y 'type_White'. Para la obtención del model queremos una única columna con valor 0 en caso de que sea 'white' y 1 en caso de ser 'red'.\n",
        "\n",
        "**Notas**: \n",
        "\n",
        "*    Investiga el uso de la función loc de la clase DataFrame\n",
        "*    Es posible que tengas que cambiar el tipo de dato de una columna, porque se ha vuelto categórica. Para transformar el tipo de dato puedes usar la función **astype** de DataFrame. Se utiliza de la siguiente forma. \n",
        "\n",
        "`df['nombreColumna'] = df['nombreColumna'].astype('float64')`\n",
        "\n",
        "\n"
      ],
      "metadata": {
        "id": "W30emUT1sAja"
      }
    },
    {
      "cell_type": "code",
      "source": [
        "# Añadir columna 'type' y combinar 'type_Red' y 'type_White' segun sun valores dentro de 'type'\n",
        "df_train.loc[:, 'type'] = np.where(df_train['type_Red']==1, 1, \n",
        "                                       np.where(df_train['type_White']==1, 0, np.nan))\n",
        "\n",
        "df_train.pop('type_White')\n",
        "df_train.pop('type_Red')"
      ],
      "metadata": {
        "colab": {
          "base_uri": "https://localhost:8080/"
        },
        "id": "02GhJ6kWgfho",
        "outputId": "397cfefb-8f50-49ce-8a77-42c98689db0d"
      },
      "execution_count": 388,
      "outputs": [
        {
          "output_type": "execute_result",
          "data": {
            "text/plain": [
              "1599    0\n",
              "1600    0\n",
              "1601    0\n",
              "1602    0\n",
              "1603    0\n",
              "       ..\n",
              "444     1\n",
              "1593    1\n",
              "362     1\n",
              "122     1\n",
              "1211    1\n",
              "Name: type_Red, Length: 9796, dtype: uint8"
            ]
          },
          "metadata": {},
          "execution_count": 388
        }
      ]
    },
    {
      "cell_type": "markdown",
      "source": [
        "# Ejercicio 7. Normalización de variables\n",
        "\n",
        "1.  Haz una copia del dataframe que estás utilizando \n",
        "2.  Normaliza la copia del dataframe\n",
        "\n",
        "Como resultado deberás de tener dos dataframes, uno normalizado y otro sin normalizar. \n"
      ],
      "metadata": {
        "id": "tYMizPNaieJa"
      }
    },
    {
      "cell_type": "code",
      "source": [
        "df_train_normalized = df_train"
      ],
      "metadata": {
        "id": "6g7zmL5mzbOG"
      },
      "execution_count": 389,
      "outputs": []
    },
    {
      "cell_type": "code",
      "source": [
        "#si quiero normalizar un dataset completo\n",
        "scaler = MinMaxScaler()                                                 \n",
        "data_normalized = scaler.fit_transform(df_train)                        \n",
        "df_train_normalized = pd.DataFrame(data_normalized, columns= df_train.columns)"
      ],
      "metadata": {
        "id": "WWMLySHJuEMs"
      },
      "execution_count": 390,
      "outputs": []
    },
    {
      "cell_type": "code",
      "source": [
        "df_train_normalized.describe()"
      ],
      "metadata": {
        "colab": {
          "base_uri": "https://localhost:8080/",
          "height": 399
        },
        "id": "nfceTFsSwmXL",
        "outputId": "6d91b83f-a93d-4674-e28d-bba109e90dd3"
      },
      "execution_count": 391,
      "outputs": [
        {
          "output_type": "execute_result",
          "data": {
            "text/plain": [
              "       fixed acidity  volatile acidity  citric acid  residual sugar  \\\n",
              "count    9796.000000       9796.000000  9796.000000     9796.000000   \n",
              "mean        0.312208          0.214938     0.182330        0.059378   \n",
              "std         0.127410          0.126891     0.099661        0.064321   \n",
              "min         0.000000          0.000000     0.000000        0.000000   \n",
              "25%         0.231405          0.120000     0.126506        0.019939   \n",
              "50%         0.280992          0.181667     0.180723        0.027607   \n",
              "75%         0.363636          0.300000     0.240964        0.081288   \n",
              "max         1.000000          1.000000     1.000000        1.000000   \n",
              "\n",
              "         chlorides  free sulfur dioxide  total sulfur dioxide           pH  \\\n",
              "count  9796.000000          9796.000000           9796.000000  9796.000000   \n",
              "mean      0.095368             0.085285              0.198684     0.410893   \n",
              "std       0.068553             0.059611              0.137526     0.126981   \n",
              "min       0.000000             0.000000              0.000000     0.000000   \n",
              "25%       0.056478             0.038194              0.071429     0.325581   \n",
              "50%       0.083056             0.072917              0.193548     0.403101   \n",
              "75%       0.117940             0.118056              0.299539     0.496124   \n",
              "max       1.000000             1.000000              1.000000     1.000000   \n",
              "\n",
              "         sulphates  alcohol_alto  alcohol_bajo  alcohol_medio  \\\n",
              "count  9796.000000   9796.000000   9796.000000    9796.000000   \n",
              "mean      0.199829      0.256942      0.273071       0.240098   \n",
              "std       0.095586      0.436969      0.445560       0.427165   \n",
              "min       0.000000      0.000000      0.000000       0.000000   \n",
              "25%       0.134831      0.000000      0.000000       0.000000   \n",
              "50%       0.185393      0.000000      0.000000       0.000000   \n",
              "75%       0.241573      1.000000      1.000000       0.000000   \n",
              "max       1.000000      1.000000      1.000000       1.000000   \n",
              "\n",
              "       alcohol_muy alto  quality_alta  quality_baja  quality_media  \\\n",
              "count       9796.000000   9796.000000   9796.000000    9796.000000   \n",
              "mean           0.229890      0.180686      0.399040       0.420274   \n",
              "std            0.420783      0.384777      0.489726       0.493628   \n",
              "min            0.000000      0.000000      0.000000       0.000000   \n",
              "25%            0.000000      0.000000      0.000000       0.000000   \n",
              "50%            0.000000      0.000000      0.000000       0.000000   \n",
              "75%            0.000000      0.000000      1.000000       1.000000   \n",
              "max            1.000000      1.000000      1.000000       1.000000   \n",
              "\n",
              "              type  \n",
              "count  9796.000000  \n",
              "mean      0.500000  \n",
              "std       0.500026  \n",
              "min       0.000000  \n",
              "25%       0.000000  \n",
              "50%       0.500000  \n",
              "75%       1.000000  \n",
              "max       1.000000  "
            ],
            "text/html": [
              "\n",
              "  <div id=\"df-6ee941a6-0126-4d7b-bb13-39c566a08499\">\n",
              "    <div class=\"colab-df-container\">\n",
              "      <div>\n",
              "<style scoped>\n",
              "    .dataframe tbody tr th:only-of-type {\n",
              "        vertical-align: middle;\n",
              "    }\n",
              "\n",
              "    .dataframe tbody tr th {\n",
              "        vertical-align: top;\n",
              "    }\n",
              "\n",
              "    .dataframe thead th {\n",
              "        text-align: right;\n",
              "    }\n",
              "</style>\n",
              "<table border=\"1\" class=\"dataframe\">\n",
              "  <thead>\n",
              "    <tr style=\"text-align: right;\">\n",
              "      <th></th>\n",
              "      <th>fixed acidity</th>\n",
              "      <th>volatile acidity</th>\n",
              "      <th>citric acid</th>\n",
              "      <th>residual sugar</th>\n",
              "      <th>chlorides</th>\n",
              "      <th>free sulfur dioxide</th>\n",
              "      <th>total sulfur dioxide</th>\n",
              "      <th>pH</th>\n",
              "      <th>sulphates</th>\n",
              "      <th>alcohol_alto</th>\n",
              "      <th>alcohol_bajo</th>\n",
              "      <th>alcohol_medio</th>\n",
              "      <th>alcohol_muy alto</th>\n",
              "      <th>quality_alta</th>\n",
              "      <th>quality_baja</th>\n",
              "      <th>quality_media</th>\n",
              "      <th>type</th>\n",
              "    </tr>\n",
              "  </thead>\n",
              "  <tbody>\n",
              "    <tr>\n",
              "      <th>count</th>\n",
              "      <td>9796.000000</td>\n",
              "      <td>9796.000000</td>\n",
              "      <td>9796.000000</td>\n",
              "      <td>9796.000000</td>\n",
              "      <td>9796.000000</td>\n",
              "      <td>9796.000000</td>\n",
              "      <td>9796.000000</td>\n",
              "      <td>9796.000000</td>\n",
              "      <td>9796.000000</td>\n",
              "      <td>9796.000000</td>\n",
              "      <td>9796.000000</td>\n",
              "      <td>9796.000000</td>\n",
              "      <td>9796.000000</td>\n",
              "      <td>9796.000000</td>\n",
              "      <td>9796.000000</td>\n",
              "      <td>9796.000000</td>\n",
              "      <td>9796.000000</td>\n",
              "    </tr>\n",
              "    <tr>\n",
              "      <th>mean</th>\n",
              "      <td>0.312208</td>\n",
              "      <td>0.214938</td>\n",
              "      <td>0.182330</td>\n",
              "      <td>0.059378</td>\n",
              "      <td>0.095368</td>\n",
              "      <td>0.085285</td>\n",
              "      <td>0.198684</td>\n",
              "      <td>0.410893</td>\n",
              "      <td>0.199829</td>\n",
              "      <td>0.256942</td>\n",
              "      <td>0.273071</td>\n",
              "      <td>0.240098</td>\n",
              "      <td>0.229890</td>\n",
              "      <td>0.180686</td>\n",
              "      <td>0.399040</td>\n",
              "      <td>0.420274</td>\n",
              "      <td>0.500000</td>\n",
              "    </tr>\n",
              "    <tr>\n",
              "      <th>std</th>\n",
              "      <td>0.127410</td>\n",
              "      <td>0.126891</td>\n",
              "      <td>0.099661</td>\n",
              "      <td>0.064321</td>\n",
              "      <td>0.068553</td>\n",
              "      <td>0.059611</td>\n",
              "      <td>0.137526</td>\n",
              "      <td>0.126981</td>\n",
              "      <td>0.095586</td>\n",
              "      <td>0.436969</td>\n",
              "      <td>0.445560</td>\n",
              "      <td>0.427165</td>\n",
              "      <td>0.420783</td>\n",
              "      <td>0.384777</td>\n",
              "      <td>0.489726</td>\n",
              "      <td>0.493628</td>\n",
              "      <td>0.500026</td>\n",
              "    </tr>\n",
              "    <tr>\n",
              "      <th>min</th>\n",
              "      <td>0.000000</td>\n",
              "      <td>0.000000</td>\n",
              "      <td>0.000000</td>\n",
              "      <td>0.000000</td>\n",
              "      <td>0.000000</td>\n",
              "      <td>0.000000</td>\n",
              "      <td>0.000000</td>\n",
              "      <td>0.000000</td>\n",
              "      <td>0.000000</td>\n",
              "      <td>0.000000</td>\n",
              "      <td>0.000000</td>\n",
              "      <td>0.000000</td>\n",
              "      <td>0.000000</td>\n",
              "      <td>0.000000</td>\n",
              "      <td>0.000000</td>\n",
              "      <td>0.000000</td>\n",
              "      <td>0.000000</td>\n",
              "    </tr>\n",
              "    <tr>\n",
              "      <th>25%</th>\n",
              "      <td>0.231405</td>\n",
              "      <td>0.120000</td>\n",
              "      <td>0.126506</td>\n",
              "      <td>0.019939</td>\n",
              "      <td>0.056478</td>\n",
              "      <td>0.038194</td>\n",
              "      <td>0.071429</td>\n",
              "      <td>0.325581</td>\n",
              "      <td>0.134831</td>\n",
              "      <td>0.000000</td>\n",
              "      <td>0.000000</td>\n",
              "      <td>0.000000</td>\n",
              "      <td>0.000000</td>\n",
              "      <td>0.000000</td>\n",
              "      <td>0.000000</td>\n",
              "      <td>0.000000</td>\n",
              "      <td>0.000000</td>\n",
              "    </tr>\n",
              "    <tr>\n",
              "      <th>50%</th>\n",
              "      <td>0.280992</td>\n",
              "      <td>0.181667</td>\n",
              "      <td>0.180723</td>\n",
              "      <td>0.027607</td>\n",
              "      <td>0.083056</td>\n",
              "      <td>0.072917</td>\n",
              "      <td>0.193548</td>\n",
              "      <td>0.403101</td>\n",
              "      <td>0.185393</td>\n",
              "      <td>0.000000</td>\n",
              "      <td>0.000000</td>\n",
              "      <td>0.000000</td>\n",
              "      <td>0.000000</td>\n",
              "      <td>0.000000</td>\n",
              "      <td>0.000000</td>\n",
              "      <td>0.000000</td>\n",
              "      <td>0.500000</td>\n",
              "    </tr>\n",
              "    <tr>\n",
              "      <th>75%</th>\n",
              "      <td>0.363636</td>\n",
              "      <td>0.300000</td>\n",
              "      <td>0.240964</td>\n",
              "      <td>0.081288</td>\n",
              "      <td>0.117940</td>\n",
              "      <td>0.118056</td>\n",
              "      <td>0.299539</td>\n",
              "      <td>0.496124</td>\n",
              "      <td>0.241573</td>\n",
              "      <td>1.000000</td>\n",
              "      <td>1.000000</td>\n",
              "      <td>0.000000</td>\n",
              "      <td>0.000000</td>\n",
              "      <td>0.000000</td>\n",
              "      <td>1.000000</td>\n",
              "      <td>1.000000</td>\n",
              "      <td>1.000000</td>\n",
              "    </tr>\n",
              "    <tr>\n",
              "      <th>max</th>\n",
              "      <td>1.000000</td>\n",
              "      <td>1.000000</td>\n",
              "      <td>1.000000</td>\n",
              "      <td>1.000000</td>\n",
              "      <td>1.000000</td>\n",
              "      <td>1.000000</td>\n",
              "      <td>1.000000</td>\n",
              "      <td>1.000000</td>\n",
              "      <td>1.000000</td>\n",
              "      <td>1.000000</td>\n",
              "      <td>1.000000</td>\n",
              "      <td>1.000000</td>\n",
              "      <td>1.000000</td>\n",
              "      <td>1.000000</td>\n",
              "      <td>1.000000</td>\n",
              "      <td>1.000000</td>\n",
              "      <td>1.000000</td>\n",
              "    </tr>\n",
              "  </tbody>\n",
              "</table>\n",
              "</div>\n",
              "      <button class=\"colab-df-convert\" onclick=\"convertToInteractive('df-6ee941a6-0126-4d7b-bb13-39c566a08499')\"\n",
              "              title=\"Convert this dataframe to an interactive table.\"\n",
              "              style=\"display:none;\">\n",
              "        \n",
              "  <svg xmlns=\"http://www.w3.org/2000/svg\" height=\"24px\"viewBox=\"0 0 24 24\"\n",
              "       width=\"24px\">\n",
              "    <path d=\"M0 0h24v24H0V0z\" fill=\"none\"/>\n",
              "    <path d=\"M18.56 5.44l.94 2.06.94-2.06 2.06-.94-2.06-.94-.94-2.06-.94 2.06-2.06.94zm-11 1L8.5 8.5l.94-2.06 2.06-.94-2.06-.94L8.5 2.5l-.94 2.06-2.06.94zm10 10l.94 2.06.94-2.06 2.06-.94-2.06-.94-.94-2.06-.94 2.06-2.06.94z\"/><path d=\"M17.41 7.96l-1.37-1.37c-.4-.4-.92-.59-1.43-.59-.52 0-1.04.2-1.43.59L10.3 9.45l-7.72 7.72c-.78.78-.78 2.05 0 2.83L4 21.41c.39.39.9.59 1.41.59.51 0 1.02-.2 1.41-.59l7.78-7.78 2.81-2.81c.8-.78.8-2.07 0-2.86zM5.41 20L4 18.59l7.72-7.72 1.47 1.35L5.41 20z\"/>\n",
              "  </svg>\n",
              "      </button>\n",
              "      \n",
              "  <style>\n",
              "    .colab-df-container {\n",
              "      display:flex;\n",
              "      flex-wrap:wrap;\n",
              "      gap: 12px;\n",
              "    }\n",
              "\n",
              "    .colab-df-convert {\n",
              "      background-color: #E8F0FE;\n",
              "      border: none;\n",
              "      border-radius: 50%;\n",
              "      cursor: pointer;\n",
              "      display: none;\n",
              "      fill: #1967D2;\n",
              "      height: 32px;\n",
              "      padding: 0 0 0 0;\n",
              "      width: 32px;\n",
              "    }\n",
              "\n",
              "    .colab-df-convert:hover {\n",
              "      background-color: #E2EBFA;\n",
              "      box-shadow: 0px 1px 2px rgba(60, 64, 67, 0.3), 0px 1px 3px 1px rgba(60, 64, 67, 0.15);\n",
              "      fill: #174EA6;\n",
              "    }\n",
              "\n",
              "    [theme=dark] .colab-df-convert {\n",
              "      background-color: #3B4455;\n",
              "      fill: #D2E3FC;\n",
              "    }\n",
              "\n",
              "    [theme=dark] .colab-df-convert:hover {\n",
              "      background-color: #434B5C;\n",
              "      box-shadow: 0px 1px 3px 1px rgba(0, 0, 0, 0.15);\n",
              "      filter: drop-shadow(0px 1px 2px rgba(0, 0, 0, 0.3));\n",
              "      fill: #FFFFFF;\n",
              "    }\n",
              "  </style>\n",
              "\n",
              "      <script>\n",
              "        const buttonEl =\n",
              "          document.querySelector('#df-6ee941a6-0126-4d7b-bb13-39c566a08499 button.colab-df-convert');\n",
              "        buttonEl.style.display =\n",
              "          google.colab.kernel.accessAllowed ? 'block' : 'none';\n",
              "\n",
              "        async function convertToInteractive(key) {\n",
              "          const element = document.querySelector('#df-6ee941a6-0126-4d7b-bb13-39c566a08499');\n",
              "          const dataTable =\n",
              "            await google.colab.kernel.invokeFunction('convertToInteractive',\n",
              "                                                     [key], {});\n",
              "          if (!dataTable) return;\n",
              "\n",
              "          const docLinkHtml = 'Like what you see? Visit the ' +\n",
              "            '<a target=\"_blank\" href=https://colab.research.google.com/notebooks/data_table.ipynb>data table notebook</a>'\n",
              "            + ' to learn more about interactive tables.';\n",
              "          element.innerHTML = '';\n",
              "          dataTable['output_type'] = 'display_data';\n",
              "          await google.colab.output.renderOutput(dataTable, element);\n",
              "          const docLink = document.createElement('div');\n",
              "          docLink.innerHTML = docLinkHtml;\n",
              "          element.appendChild(docLink);\n",
              "        }\n",
              "      </script>\n",
              "    </div>\n",
              "  </div>\n",
              "  "
            ]
          },
          "metadata": {},
          "execution_count": 391
        }
      ]
    },
    {
      "cell_type": "code",
      "source": [
        "df_train.describe()"
      ],
      "metadata": {
        "colab": {
          "base_uri": "https://localhost:8080/",
          "height": 399
        },
        "id": "mRiwgg2vw82N",
        "outputId": "dab17f57-9db6-4d71-c800-4a05414552c9"
      },
      "execution_count": 392,
      "outputs": [
        {
          "output_type": "execute_result",
          "data": {
            "text/plain": [
              "       fixed acidity  volatile acidity  citric acid  residual sugar  \\\n",
              "count    9796.000000       9796.000000  9796.000000     9796.000000   \n",
              "mean        7.577720          0.402407     0.302667        4.471427   \n",
              "std         1.541659          0.190336     0.165438        4.193698   \n",
              "min         3.800000          0.080000     0.000000        0.600000   \n",
              "25%         6.600000          0.260000     0.210000        1.900000   \n",
              "50%         7.200000          0.352500     0.300000        2.400000   \n",
              "75%         8.200000          0.530000     0.400000        5.900000   \n",
              "max        15.900000          1.580000     1.660000       65.800000   \n",
              "\n",
              "         chlorides  free sulfur dioxide  total sulfur dioxide           pH  \\\n",
              "count  9796.000000          9796.000000           9796.000000  9796.000000   \n",
              "mean      0.066411            25.562066             92.228920     3.250052   \n",
              "std       0.041269            17.168102             59.686264     0.163806   \n",
              "min       0.009000             1.000000              6.000000     2.720000   \n",
              "25%       0.043000            12.000000             37.000000     3.140000   \n",
              "50%       0.059000            22.000000             90.000000     3.240000   \n",
              "75%       0.080000            35.000000            136.000000     3.360000   \n",
              "max       0.611000           289.000000            440.000000     4.010000   \n",
              "\n",
              "         sulphates  alcohol_alto  alcohol_bajo  alcohol_medio  \\\n",
              "count  9796.000000   9796.000000   9796.000000    9796.000000   \n",
              "mean      0.575695      0.256942      0.273071       0.240098   \n",
              "std       0.170143      0.436969      0.445560       0.427165   \n",
              "min       0.220000      0.000000      0.000000       0.000000   \n",
              "25%       0.460000      0.000000      0.000000       0.000000   \n",
              "50%       0.550000      0.000000      0.000000       0.000000   \n",
              "75%       0.650000      1.000000      1.000000       0.000000   \n",
              "max       2.000000      1.000000      1.000000       1.000000   \n",
              "\n",
              "       alcohol_muy alto  quality_alta  quality_baja  quality_media  \\\n",
              "count       9796.000000   9796.000000   9796.000000    9796.000000   \n",
              "mean           0.229890      0.180686      0.399040       0.420274   \n",
              "std            0.420783      0.384777      0.489726       0.493628   \n",
              "min            0.000000      0.000000      0.000000       0.000000   \n",
              "25%            0.000000      0.000000      0.000000       0.000000   \n",
              "50%            0.000000      0.000000      0.000000       0.000000   \n",
              "75%            0.000000      0.000000      1.000000       1.000000   \n",
              "max            1.000000      1.000000      1.000000       1.000000   \n",
              "\n",
              "              type  \n",
              "count  9796.000000  \n",
              "mean      0.500000  \n",
              "std       0.500026  \n",
              "min       0.000000  \n",
              "25%       0.000000  \n",
              "50%       0.500000  \n",
              "75%       1.000000  \n",
              "max       1.000000  "
            ],
            "text/html": [
              "\n",
              "  <div id=\"df-29f3772b-79a9-4b7e-b5cc-fe15d5e1cde0\">\n",
              "    <div class=\"colab-df-container\">\n",
              "      <div>\n",
              "<style scoped>\n",
              "    .dataframe tbody tr th:only-of-type {\n",
              "        vertical-align: middle;\n",
              "    }\n",
              "\n",
              "    .dataframe tbody tr th {\n",
              "        vertical-align: top;\n",
              "    }\n",
              "\n",
              "    .dataframe thead th {\n",
              "        text-align: right;\n",
              "    }\n",
              "</style>\n",
              "<table border=\"1\" class=\"dataframe\">\n",
              "  <thead>\n",
              "    <tr style=\"text-align: right;\">\n",
              "      <th></th>\n",
              "      <th>fixed acidity</th>\n",
              "      <th>volatile acidity</th>\n",
              "      <th>citric acid</th>\n",
              "      <th>residual sugar</th>\n",
              "      <th>chlorides</th>\n",
              "      <th>free sulfur dioxide</th>\n",
              "      <th>total sulfur dioxide</th>\n",
              "      <th>pH</th>\n",
              "      <th>sulphates</th>\n",
              "      <th>alcohol_alto</th>\n",
              "      <th>alcohol_bajo</th>\n",
              "      <th>alcohol_medio</th>\n",
              "      <th>alcohol_muy alto</th>\n",
              "      <th>quality_alta</th>\n",
              "      <th>quality_baja</th>\n",
              "      <th>quality_media</th>\n",
              "      <th>type</th>\n",
              "    </tr>\n",
              "  </thead>\n",
              "  <tbody>\n",
              "    <tr>\n",
              "      <th>count</th>\n",
              "      <td>9796.000000</td>\n",
              "      <td>9796.000000</td>\n",
              "      <td>9796.000000</td>\n",
              "      <td>9796.000000</td>\n",
              "      <td>9796.000000</td>\n",
              "      <td>9796.000000</td>\n",
              "      <td>9796.000000</td>\n",
              "      <td>9796.000000</td>\n",
              "      <td>9796.000000</td>\n",
              "      <td>9796.000000</td>\n",
              "      <td>9796.000000</td>\n",
              "      <td>9796.000000</td>\n",
              "      <td>9796.000000</td>\n",
              "      <td>9796.000000</td>\n",
              "      <td>9796.000000</td>\n",
              "      <td>9796.000000</td>\n",
              "      <td>9796.000000</td>\n",
              "    </tr>\n",
              "    <tr>\n",
              "      <th>mean</th>\n",
              "      <td>7.577720</td>\n",
              "      <td>0.402407</td>\n",
              "      <td>0.302667</td>\n",
              "      <td>4.471427</td>\n",
              "      <td>0.066411</td>\n",
              "      <td>25.562066</td>\n",
              "      <td>92.228920</td>\n",
              "      <td>3.250052</td>\n",
              "      <td>0.575695</td>\n",
              "      <td>0.256942</td>\n",
              "      <td>0.273071</td>\n",
              "      <td>0.240098</td>\n",
              "      <td>0.229890</td>\n",
              "      <td>0.180686</td>\n",
              "      <td>0.399040</td>\n",
              "      <td>0.420274</td>\n",
              "      <td>0.500000</td>\n",
              "    </tr>\n",
              "    <tr>\n",
              "      <th>std</th>\n",
              "      <td>1.541659</td>\n",
              "      <td>0.190336</td>\n",
              "      <td>0.165438</td>\n",
              "      <td>4.193698</td>\n",
              "      <td>0.041269</td>\n",
              "      <td>17.168102</td>\n",
              "      <td>59.686264</td>\n",
              "      <td>0.163806</td>\n",
              "      <td>0.170143</td>\n",
              "      <td>0.436969</td>\n",
              "      <td>0.445560</td>\n",
              "      <td>0.427165</td>\n",
              "      <td>0.420783</td>\n",
              "      <td>0.384777</td>\n",
              "      <td>0.489726</td>\n",
              "      <td>0.493628</td>\n",
              "      <td>0.500026</td>\n",
              "    </tr>\n",
              "    <tr>\n",
              "      <th>min</th>\n",
              "      <td>3.800000</td>\n",
              "      <td>0.080000</td>\n",
              "      <td>0.000000</td>\n",
              "      <td>0.600000</td>\n",
              "      <td>0.009000</td>\n",
              "      <td>1.000000</td>\n",
              "      <td>6.000000</td>\n",
              "      <td>2.720000</td>\n",
              "      <td>0.220000</td>\n",
              "      <td>0.000000</td>\n",
              "      <td>0.000000</td>\n",
              "      <td>0.000000</td>\n",
              "      <td>0.000000</td>\n",
              "      <td>0.000000</td>\n",
              "      <td>0.000000</td>\n",
              "      <td>0.000000</td>\n",
              "      <td>0.000000</td>\n",
              "    </tr>\n",
              "    <tr>\n",
              "      <th>25%</th>\n",
              "      <td>6.600000</td>\n",
              "      <td>0.260000</td>\n",
              "      <td>0.210000</td>\n",
              "      <td>1.900000</td>\n",
              "      <td>0.043000</td>\n",
              "      <td>12.000000</td>\n",
              "      <td>37.000000</td>\n",
              "      <td>3.140000</td>\n",
              "      <td>0.460000</td>\n",
              "      <td>0.000000</td>\n",
              "      <td>0.000000</td>\n",
              "      <td>0.000000</td>\n",
              "      <td>0.000000</td>\n",
              "      <td>0.000000</td>\n",
              "      <td>0.000000</td>\n",
              "      <td>0.000000</td>\n",
              "      <td>0.000000</td>\n",
              "    </tr>\n",
              "    <tr>\n",
              "      <th>50%</th>\n",
              "      <td>7.200000</td>\n",
              "      <td>0.352500</td>\n",
              "      <td>0.300000</td>\n",
              "      <td>2.400000</td>\n",
              "      <td>0.059000</td>\n",
              "      <td>22.000000</td>\n",
              "      <td>90.000000</td>\n",
              "      <td>3.240000</td>\n",
              "      <td>0.550000</td>\n",
              "      <td>0.000000</td>\n",
              "      <td>0.000000</td>\n",
              "      <td>0.000000</td>\n",
              "      <td>0.000000</td>\n",
              "      <td>0.000000</td>\n",
              "      <td>0.000000</td>\n",
              "      <td>0.000000</td>\n",
              "      <td>0.500000</td>\n",
              "    </tr>\n",
              "    <tr>\n",
              "      <th>75%</th>\n",
              "      <td>8.200000</td>\n",
              "      <td>0.530000</td>\n",
              "      <td>0.400000</td>\n",
              "      <td>5.900000</td>\n",
              "      <td>0.080000</td>\n",
              "      <td>35.000000</td>\n",
              "      <td>136.000000</td>\n",
              "      <td>3.360000</td>\n",
              "      <td>0.650000</td>\n",
              "      <td>1.000000</td>\n",
              "      <td>1.000000</td>\n",
              "      <td>0.000000</td>\n",
              "      <td>0.000000</td>\n",
              "      <td>0.000000</td>\n",
              "      <td>1.000000</td>\n",
              "      <td>1.000000</td>\n",
              "      <td>1.000000</td>\n",
              "    </tr>\n",
              "    <tr>\n",
              "      <th>max</th>\n",
              "      <td>15.900000</td>\n",
              "      <td>1.580000</td>\n",
              "      <td>1.660000</td>\n",
              "      <td>65.800000</td>\n",
              "      <td>0.611000</td>\n",
              "      <td>289.000000</td>\n",
              "      <td>440.000000</td>\n",
              "      <td>4.010000</td>\n",
              "      <td>2.000000</td>\n",
              "      <td>1.000000</td>\n",
              "      <td>1.000000</td>\n",
              "      <td>1.000000</td>\n",
              "      <td>1.000000</td>\n",
              "      <td>1.000000</td>\n",
              "      <td>1.000000</td>\n",
              "      <td>1.000000</td>\n",
              "      <td>1.000000</td>\n",
              "    </tr>\n",
              "  </tbody>\n",
              "</table>\n",
              "</div>\n",
              "      <button class=\"colab-df-convert\" onclick=\"convertToInteractive('df-29f3772b-79a9-4b7e-b5cc-fe15d5e1cde0')\"\n",
              "              title=\"Convert this dataframe to an interactive table.\"\n",
              "              style=\"display:none;\">\n",
              "        \n",
              "  <svg xmlns=\"http://www.w3.org/2000/svg\" height=\"24px\"viewBox=\"0 0 24 24\"\n",
              "       width=\"24px\">\n",
              "    <path d=\"M0 0h24v24H0V0z\" fill=\"none\"/>\n",
              "    <path d=\"M18.56 5.44l.94 2.06.94-2.06 2.06-.94-2.06-.94-.94-2.06-.94 2.06-2.06.94zm-11 1L8.5 8.5l.94-2.06 2.06-.94-2.06-.94L8.5 2.5l-.94 2.06-2.06.94zm10 10l.94 2.06.94-2.06 2.06-.94-2.06-.94-.94-2.06-.94 2.06-2.06.94z\"/><path d=\"M17.41 7.96l-1.37-1.37c-.4-.4-.92-.59-1.43-.59-.52 0-1.04.2-1.43.59L10.3 9.45l-7.72 7.72c-.78.78-.78 2.05 0 2.83L4 21.41c.39.39.9.59 1.41.59.51 0 1.02-.2 1.41-.59l7.78-7.78 2.81-2.81c.8-.78.8-2.07 0-2.86zM5.41 20L4 18.59l7.72-7.72 1.47 1.35L5.41 20z\"/>\n",
              "  </svg>\n",
              "      </button>\n",
              "      \n",
              "  <style>\n",
              "    .colab-df-container {\n",
              "      display:flex;\n",
              "      flex-wrap:wrap;\n",
              "      gap: 12px;\n",
              "    }\n",
              "\n",
              "    .colab-df-convert {\n",
              "      background-color: #E8F0FE;\n",
              "      border: none;\n",
              "      border-radius: 50%;\n",
              "      cursor: pointer;\n",
              "      display: none;\n",
              "      fill: #1967D2;\n",
              "      height: 32px;\n",
              "      padding: 0 0 0 0;\n",
              "      width: 32px;\n",
              "    }\n",
              "\n",
              "    .colab-df-convert:hover {\n",
              "      background-color: #E2EBFA;\n",
              "      box-shadow: 0px 1px 2px rgba(60, 64, 67, 0.3), 0px 1px 3px 1px rgba(60, 64, 67, 0.15);\n",
              "      fill: #174EA6;\n",
              "    }\n",
              "\n",
              "    [theme=dark] .colab-df-convert {\n",
              "      background-color: #3B4455;\n",
              "      fill: #D2E3FC;\n",
              "    }\n",
              "\n",
              "    [theme=dark] .colab-df-convert:hover {\n",
              "      background-color: #434B5C;\n",
              "      box-shadow: 0px 1px 3px 1px rgba(0, 0, 0, 0.15);\n",
              "      filter: drop-shadow(0px 1px 2px rgba(0, 0, 0, 0.3));\n",
              "      fill: #FFFFFF;\n",
              "    }\n",
              "  </style>\n",
              "\n",
              "      <script>\n",
              "        const buttonEl =\n",
              "          document.querySelector('#df-29f3772b-79a9-4b7e-b5cc-fe15d5e1cde0 button.colab-df-convert');\n",
              "        buttonEl.style.display =\n",
              "          google.colab.kernel.accessAllowed ? 'block' : 'none';\n",
              "\n",
              "        async function convertToInteractive(key) {\n",
              "          const element = document.querySelector('#df-29f3772b-79a9-4b7e-b5cc-fe15d5e1cde0');\n",
              "          const dataTable =\n",
              "            await google.colab.kernel.invokeFunction('convertToInteractive',\n",
              "                                                     [key], {});\n",
              "          if (!dataTable) return;\n",
              "\n",
              "          const docLinkHtml = 'Like what you see? Visit the ' +\n",
              "            '<a target=\"_blank\" href=https://colab.research.google.com/notebooks/data_table.ipynb>data table notebook</a>'\n",
              "            + ' to learn more about interactive tables.';\n",
              "          element.innerHTML = '';\n",
              "          dataTable['output_type'] = 'display_data';\n",
              "          await google.colab.output.renderOutput(dataTable, element);\n",
              "          const docLink = document.createElement('div');\n",
              "          docLink.innerHTML = docLinkHtml;\n",
              "          element.appendChild(docLink);\n",
              "        }\n",
              "      </script>\n",
              "    </div>\n",
              "  </div>\n",
              "  "
            ]
          },
          "metadata": {},
          "execution_count": 392
        }
      ]
    },
    {
      "cell_type": "markdown",
      "source": [
        "# Tareas creación de modelos"
      ],
      "metadata": {
        "id": "b5voLLZAasl7"
      }
    },
    {
      "cell_type": "markdown",
      "source": [
        "## Ejercicio 1\n",
        "\n",
        "Por cada uno de los algoritmos que se han explicado (regresión lineal, regresión logistica, SVM, Random Forest, y KNN):\n",
        "\n",
        "\n",
        "*   Utilizando el dataframe sin normalizar, genera dos modelos diferentes por cada algoritmo explicado. Utiliza diferentes parámetros de configuración. \n",
        "\n"
      ],
      "metadata": {
        "id": "sS-s-SIBzEw6"
      }
    },
    {
      "cell_type": "markdown",
      "source": [
        "**Separacion de columnas del dataset**\n",
        "\n",
        "\n",
        "---\n",
        "\n",
        "\n",
        "Separamos la variable dependiente del resto y la almacenamos en `df_train_y` el resto de columnas pasan a `df_train_x`.\n",
        "Luego hacemos un split de todo el dataset en un 80% para entrenamiento, 20% para validacion. Tambien barajamos las filas controlando la semilla del radomizador con `random_state`. "
      ],
      "metadata": {
        "id": "MkKTv7jGCghg"
      }
    },
    {
      "cell_type": "code",
      "source": [
        "df_train_y = df_train['type']\n",
        "df_train_x = df_train.drop('type', axis='columns')\n",
        "\n",
        "X_train, X_test, y_train, y_test = train_test_split(df_train_x, df_train_y, train_size=0.80, shuffle=True, random_state=1, stratify=df_train['type'])"
      ],
      "metadata": {
        "id": "9ppn693qCk7z"
      },
      "execution_count": 393,
      "outputs": []
    },
    {
      "cell_type": "markdown",
      "source": [
        "### Regresion linear\n",
        "\n"
      ],
      "metadata": {
        "id": "SeC-7OOaCfR-"
      }
    },
    {
      "cell_type": "markdown",
      "source": [
        "**LinearRegression model**"
      ],
      "metadata": {
        "id": "ktWX7EM2Gs4_"
      }
    },
    {
      "cell_type": "code",
      "source": [
        "from sklearn.linear_model import LinearRegression\n",
        "\n",
        "model = LinearRegression()\n",
        "model.fit(X_train,y_train)\n",
        "score = mean(cross_val_score(model, X_test,y_test, cv=5))\n",
        "\n",
        "print('Model score: ', score)"
      ],
      "metadata": {
        "id": "LHNRkw-KzepH",
        "colab": {
          "base_uri": "https://localhost:8080/"
        },
        "outputId": "476c585c-6f12-4d5a-e349-6be3bddb2b43"
      },
      "execution_count": 394,
      "outputs": [
        {
          "output_type": "stream",
          "name": "stdout",
          "text": [
            "Model score:  0.8239701102761189\n"
          ]
        }
      ]
    },
    {
      "cell_type": "markdown",
      "source": [
        "**Lasso model**\n",
        "*   `alpha` e utiliza para controlar el término de regularización en algunos modelos lineales, como la Regresión Ridge y la Regresión Lasso. Cuanto mayor es el valor de alpha, mayor es la penalización aplicada a los coeficientes del modelo y, por tanto, el modelo se vuelve menos complejo y menos propenso a sobreajuste"
      ],
      "metadata": {
        "id": "gxM2XarXGzof"
      }
    },
    {
      "cell_type": "code",
      "source": [
        "from sklearn.linear_model import Lasso\n",
        "\n",
        "model = Lasso(alpha=0.001)\n",
        "model.fit(X_train,y_train)\n",
        "score = mean(cross_val_score(model, X_test,y_test, cv=5))\n",
        "\n",
        "print('Model score: ', score)"
      ],
      "metadata": {
        "colab": {
          "base_uri": "https://localhost:8080/"
        },
        "id": "DlE6E4jaG34p",
        "outputId": "cd8bb2d3-89df-4d8e-a230-f2575474b138"
      },
      "execution_count": 395,
      "outputs": [
        {
          "output_type": "stream",
          "name": "stdout",
          "text": [
            "Model score:  0.8197913102299996\n"
          ]
        }
      ]
    },
    {
      "cell_type": "markdown",
      "source": [
        "### Regresion logistica"
      ],
      "metadata": {
        "id": "uNY1IlXXBmQS"
      }
    },
    {
      "cell_type": "markdown",
      "source": [
        "**LogisticRegression**\n",
        "* `max_iter` Numero maximo de iteraciones en el proceso de entrenamiento (defecto de 100 se quedaba corto para este dataset y arrojaba excepciones)\n",
        "\n",
        "\n",
        "```\n",
        "/usr/local/lib/python3.8/dist-packages/sklearn/linear_model/_logistic.py:814: ConvergenceWarning: lbfgs failed to converge (status=1):\n",
        "STOP: TOTAL NO. of ITERATIONS REACHED LIMIT.\n",
        "\n",
        "Increase the number of iterations (max_iter) or scale the data as shown in:\n",
        "    https://scikit-learn.org/stable/modules/preprocessing.html\n",
        "Please also refer to the documentation for alternative solver options:\n",
        "    https://scikit-learn.org/stable/modules/linear_model.html#logistic-regression\n",
        "n_iter_i = _check_optimize_result(\n",
        "```\n",
        "\n"
      ],
      "metadata": {
        "id": "pIgtzvX0IqNg"
      }
    },
    {
      "cell_type": "code",
      "source": [
        "from sklearn.linear_model import LogisticRegression\n",
        "\n",
        "model = LogisticRegression(max_iter=2000)\n",
        "score = model.fit(X_train,y_train)\n",
        "score = mean(cross_val_score(model, X_test,y_test, cv=5))\n",
        "\n",
        "print('Model score: ', score)"
      ],
      "metadata": {
        "colab": {
          "base_uri": "https://localhost:8080/"
        },
        "id": "r6Y8iLYFBo9b",
        "outputId": "39e9f93c-c2db-4a88-8203-2ace24c26d35"
      },
      "execution_count": 396,
      "outputs": [
        {
          "output_type": "stream",
          "name": "stdout",
          "text": [
            "Model score:  0.9785714285714285\n"
          ]
        }
      ]
    },
    {
      "cell_type": "markdown",
      "source": [
        "### SVM\n"
      ],
      "metadata": {
        "id": "2RbxcMlHBpOm"
      }
    },
    {
      "cell_type": "markdown",
      "source": [
        "**LinearSVC**\n",
        "* `c` El parámetro C controla la penalización aplicada a los errores durante el proceso de entrenamiento. Cuanto mayor es el valor de C, mayor es la penalización aplicada a los errores y, por tanto, el modelo se vuelve más propenso a sobreajuste.\n",
        "* `loss` hinge o squared_hinge especifican la funcion utilizada para cuantificar la incertidumbre de la prediccion, cuanto mas cercano es a 0 mejor.\n"
      ],
      "metadata": {
        "id": "1IAykhBeIxX8"
      }
    },
    {
      "cell_type": "code",
      "source": [
        "from sklearn.svm import LinearSVC\n",
        "\n",
        "model = LinearSVC(C=10, loss=\"hinge\")\n",
        "model.fit(X_train,y_train)\n",
        "score = mean(cross_val_score(model, X_test,y_test, cv=5))\n",
        "\n",
        "print('Model score: ', score)"
      ],
      "metadata": {
        "colab": {
          "base_uri": "https://localhost:8080/"
        },
        "id": "j4EvZ0iKBpjY",
        "outputId": "a3539048-03d0-413e-e2d8-98e14bae1cfc"
      },
      "execution_count": 397,
      "outputs": [
        {
          "output_type": "stream",
          "name": "stderr",
          "text": [
            "/usr/local/lib/python3.8/dist-packages/sklearn/svm/_base.py:1206: ConvergenceWarning: Liblinear failed to converge, increase the number of iterations.\n",
            "  warnings.warn(\n",
            "/usr/local/lib/python3.8/dist-packages/sklearn/svm/_base.py:1206: ConvergenceWarning: Liblinear failed to converge, increase the number of iterations.\n",
            "  warnings.warn(\n",
            "/usr/local/lib/python3.8/dist-packages/sklearn/svm/_base.py:1206: ConvergenceWarning: Liblinear failed to converge, increase the number of iterations.\n",
            "  warnings.warn(\n"
          ]
        },
        {
          "output_type": "stream",
          "name": "stdout",
          "text": [
            "Model score:  0.8760204081632653\n"
          ]
        },
        {
          "output_type": "stream",
          "name": "stderr",
          "text": [
            "/usr/local/lib/python3.8/dist-packages/sklearn/svm/_base.py:1206: ConvergenceWarning: Liblinear failed to converge, increase the number of iterations.\n",
            "  warnings.warn(\n",
            "/usr/local/lib/python3.8/dist-packages/sklearn/svm/_base.py:1206: ConvergenceWarning: Liblinear failed to converge, increase the number of iterations.\n",
            "  warnings.warn(\n",
            "/usr/local/lib/python3.8/dist-packages/sklearn/svm/_base.py:1206: ConvergenceWarning: Liblinear failed to converge, increase the number of iterations.\n",
            "  warnings.warn(\n"
          ]
        }
      ]
    },
    {
      "cell_type": "markdown",
      "source": [
        "**SVC**\n",
        "* `kernel` El parámetro kernel especifica el tipo de kernel que se debe utilizar en el modelo SVM. Los kernels comunes incluyen el kernel lineal, el kernel polinómico y el kernel radial. Cada uno de estos kernels se comporta de manera diferente y puede ser más adecuado para ciertos tipos de datos.\n",
        "* `degree` El parámetro degree se utiliza para especificar el grado del kernel polinómico cuando se utiliza el kernel polinómico.\n"
      ],
      "metadata": {
        "id": "l4uWypNyKlzi"
      }
    },
    {
      "cell_type": "code",
      "source": [
        "from sklearn.svm import SVC\n",
        "\n",
        "model = SVC(kernel=\"poly\", coef0=1, C=5)\n",
        "model.fit(X_train,y_train)\n",
        "score = mean(cross_val_score(model, X_test,y_test, cv=5))\n",
        "\n",
        "print('Model score: ', score)"
      ],
      "metadata": {
        "colab": {
          "base_uri": "https://localhost:8080/"
        },
        "id": "rAzBCenBKlfI",
        "outputId": "e66acae4-1ba8-4c54-9778-4d47d88d55d7"
      },
      "execution_count": 398,
      "outputs": [
        {
          "output_type": "stream",
          "name": "stdout",
          "text": [
            "Model score:  0.9249999999999999\n"
          ]
        }
      ]
    },
    {
      "cell_type": "markdown",
      "source": [
        "### Random forest"
      ],
      "metadata": {
        "id": "b28i8J98BtLn"
      }
    },
    {
      "cell_type": "code",
      "source": [
        "from sklearn.ensemble import  RandomForestClassifier\n",
        "\n",
        "model = RandomForestClassifier()\n",
        "model.fit(X_train,y_train)\n",
        "score = mean(cross_val_score(model, X_test,y_test, cv=5))\n",
        "\n",
        "print('Model score: ', score)\n"
      ],
      "metadata": {
        "colab": {
          "base_uri": "https://localhost:8080/"
        },
        "id": "faw_5vUeBsk7",
        "outputId": "1ab5dbc0-846f-4eea-cb2d-fda36daeb531"
      },
      "execution_count": 399,
      "outputs": [
        {
          "output_type": "stream",
          "name": "stdout",
          "text": [
            "Model score:  0.9974489795918368\n"
          ]
        }
      ]
    },
    {
      "cell_type": "code",
      "source": [
        "from sklearn.ensemble import GradientBoostingClassifier\n",
        "\n",
        "model = GradientBoostingClassifier()\n",
        "model.fit(X_train,y_train)\n",
        "score = mean(cross_val_score(model, X_test,y_test, cv=5))\n",
        "\n",
        "print('Model score: ', score)"
      ],
      "metadata": {
        "colab": {
          "base_uri": "https://localhost:8080/"
        },
        "id": "dFyItH_uQyol",
        "outputId": "97ef72b9-920b-4a90-c8ae-d1eaf0aecd26"
      },
      "execution_count": 400,
      "outputs": [
        {
          "output_type": "stream",
          "name": "stdout",
          "text": [
            "Model score:  0.9943877551020408\n"
          ]
        }
      ]
    },
    {
      "cell_type": "markdown",
      "source": [
        "### KNN\n",
        "KNeighborsClassifier\n",
        "* `n_neighbors` El parámetro n_neighbors especifica el número de vecinos más cercanos que se deben considerar para predecir la clase de una instancia. Por defecto, este parámetro tiene el valor 5.\n",
        "\n",
        "* `weights` Determina cómo se deben ponderar los vecinos más cercanos durante la predicción. Las opciones comunes incluyen \"uniforme\", que significa que todos los vecinos tienen el mismo peso, y \"distance\", que significa que los vecinos más cercanos tienen un mayor peso.\n",
        "\n",
        "* `algorithm` especifica el algoritmo que se debe utilizar para encontrar los vecinos más cercanos. Las opciones comunes incluyen \"brute force\" y \"kd-tree\". Por defecto, este parámetro tiene el valor \"auto\".\n",
        "\n",
        "* `p` Parámetro de potencia para la métrica de Minkowski. Cuando p = 1, esto es equivalente a usar manhattan_distance (l1) y euclidean_distance (l2) para p = 2. Para p arbitraria, se usa minkowski_distance (l_p)."
      ],
      "metadata": {
        "id": "3BSCrDLLBxC4"
      }
    },
    {
      "cell_type": "code",
      "source": [
        "from sklearn.neighbors import KNeighborsClassifier\n",
        "\n",
        "model = KNeighborsClassifier(n_neighbors=3,\n",
        "                             weights='uniform',\n",
        "                             algorithm='ball_tree',p=1)\n",
        "model.fit(X_train,y_train)\n",
        "score = mean(cross_val_score(model, X_test,y_test, cv=5))\n",
        "\n",
        "print('Model score: ', score)"
      ],
      "metadata": {
        "colab": {
          "base_uri": "https://localhost:8080/"
        },
        "id": "Li85aTt2BygG",
        "outputId": "ee66ee5c-c4d5-4867-8a93-62016ac7fbc6"
      },
      "execution_count": 401,
      "outputs": [
        {
          "output_type": "stream",
          "name": "stdout",
          "text": [
            "Model score:  0.9301020408163265\n"
          ]
        }
      ]
    },
    {
      "cell_type": "code",
      "source": [
        "model = KNeighborsClassifier(n_neighbors=5,\n",
        "                             weights='distance',\n",
        "                             algorithm='kd_tree',p=1)\n",
        "model.fit(X_train,y_train)\n",
        "score = mean(cross_val_score(model, X_test,y_test, cv=5))\n",
        "\n",
        "print('Model score: ', score)"
      ],
      "metadata": {
        "colab": {
          "base_uri": "https://localhost:8080/"
        },
        "id": "BsHHYpWcQ-eQ",
        "outputId": "afc2b63e-e16d-41d9-f927-842fbd75dd95"
      },
      "execution_count": 402,
      "outputs": [
        {
          "output_type": "stream",
          "name": "stdout",
          "text": [
            "Model score:  0.939795918367347\n"
          ]
        }
      ]
    },
    {
      "cell_type": "markdown",
      "source": [
        "*   Utilizando el dataframe normalizado, genera dos modelos diferents por cada algoritmo explicado. Utilizando los mismos parámetros de configuración de antes. \n",
        "\n"
      ],
      "metadata": {
        "id": "EM3Ak6aOBhcK"
      }
    },
    {
      "cell_type": "markdown",
      "source": [
        "**Separacion de columnas del dataset normalizado**\n",
        "\n",
        "---\n",
        "\n",
        "Separamos la variable dependiente del resto y la almacenamos en `df_train_normalized_y` el resto de columnas pasan a `df_train_normalized_x`. Luego hacemos un split de todo el dataset en un 80% para entrenamiento, 20% para validacion. Tambien barajamos las filas controlando la semilla del radomizador con random_state. "
      ],
      "metadata": {
        "id": "YkB2gmsTEk87"
      }
    },
    {
      "cell_type": "code",
      "source": [
        "df_train_normalized_y = df_train_normalized['type']\n",
        "df_train_normalized_x = df_train_normalized.drop('type', axis='columns')\n",
        "\n",
        "X_train_norm, X_test_norm, y_train_norm, y_test_norm = train_test_split(df_train_normalized_x, df_train_normalized_y, train_size=0.8, shuffle=True, random_state=1, stratify=df_train_normalized['type'])"
      ],
      "metadata": {
        "id": "1sWsfq_PEzfq"
      },
      "execution_count": 403,
      "outputs": []
    },
    {
      "cell_type": "markdown",
      "source": [
        "### Regresion linear (dataset normalizado)"
      ],
      "metadata": {
        "id": "VyiJoh7yEp-U"
      }
    },
    {
      "cell_type": "markdown",
      "source": [
        "**LinearRegression model**"
      ],
      "metadata": {
        "id": "E3Pq73GdVMZ-"
      }
    },
    {
      "cell_type": "code",
      "source": [
        "from sklearn.linear_model import LinearRegression\n",
        "\n",
        "model = LinearRegression()\n",
        "model.fit(X_train_norm,y_train_norm)\n",
        "score = mean(cross_val_score(model, X_test_norm, y_test_norm, cv=5))\n",
        "\n",
        "print('Model score: ', score)"
      ],
      "metadata": {
        "colab": {
          "base_uri": "https://localhost:8080/"
        },
        "outputId": "828b25cc-5e7f-4291-de01-96088174d53a",
        "id": "zOpKfvXnVMaA"
      },
      "execution_count": 404,
      "outputs": [
        {
          "output_type": "stream",
          "name": "stdout",
          "text": [
            "Model score:  0.8240970760088564\n"
          ]
        }
      ]
    },
    {
      "cell_type": "markdown",
      "source": [
        "**Lasso model**\n",
        "*   `alpha` e utiliza para controlar el término de regularización en algunos modelos lineales, como la Regresión Ridge y la Regresión Lasso. Cuanto mayor es el valor de alpha, mayor es la penalización aplicada a los coeficientes del modelo y, por tanto, el modelo se vuelve menos complejo y menos propenso a sobreajuste"
      ],
      "metadata": {
        "id": "ohF4F1f8V3MO"
      }
    },
    {
      "cell_type": "code",
      "source": [
        "from sklearn.linear_model import Lasso\n",
        "\n",
        "model = Lasso(alpha=0.001)\n",
        "model.fit(X_train_norm,y_train_norm)\n",
        "score = mean(cross_val_score(model, X_test_norm, y_test_norm, cv=5))\n",
        "\n",
        "print('Model score: ', score)"
      ],
      "metadata": {
        "colab": {
          "base_uri": "https://localhost:8080/"
        },
        "outputId": "4e214ee1-496f-42d5-f8d0-a8ec6eb9e0b4",
        "id": "Sw3FUzg-V3MQ"
      },
      "execution_count": 405,
      "outputs": [
        {
          "output_type": "stream",
          "name": "stdout",
          "text": [
            "Model score:  0.8182511691849164\n"
          ]
        }
      ]
    },
    {
      "cell_type": "markdown",
      "source": [
        "### Regresion logistica (dataset normalizado)"
      ],
      "metadata": {
        "id": "dybWpADuV3MS"
      }
    },
    {
      "cell_type": "markdown",
      "source": [
        "**LogisticRegression**\n",
        "* `max_iter` Numero maximo de iteraciones en el proceso de entrenamiento (el valor por defecto no recorria el dataset completo y arrojaba excepciones)\n",
        "\n",
        "\n",
        "```\n",
        "/usr/local/lib/python3.8/dist-packages/sklearn/linear_model/_logistic.py:814: ConvergenceWarning: lbfgs failed to converge (status=1):\n",
        "STOP: TOTAL NO. of ITERATIONS REACHED LIMIT.\n",
        "\n",
        "Increase the number of iterations (max_iter) or scale the data as shown in:\n",
        "    https://scikit-learn.org/stable/modules/preprocessing.html\n",
        "Please also refer to the documentation for alternative solver options:\n",
        "    https://scikit-learn.org/stable/modules/linear_model.html#logistic-regression\n",
        "n_iter_i = _check_optimize_result(\n",
        "```\n",
        "\n"
      ],
      "metadata": {
        "id": "EkZyd7qsV3MT"
      }
    },
    {
      "cell_type": "code",
      "source": [
        "from sklearn.linear_model import LogisticRegression\n",
        "\n",
        "model = LogisticRegression(max_iter=2000)\n",
        "model.fit(X_train_norm,y_train_norm)\n",
        "score = mean(cross_val_score(model, X_test_norm, y_test_norm, cv=5))\n",
        "\n",
        "print('Model score: ', score)"
      ],
      "metadata": {
        "colab": {
          "base_uri": "https://localhost:8080/"
        },
        "outputId": "5479cbaf-1ecd-47fe-8e66-3e65d3c754ad",
        "id": "pHBAFaH3V3MV"
      },
      "execution_count": 406,
      "outputs": [
        {
          "output_type": "stream",
          "name": "stdout",
          "text": [
            "Model score:  0.9836734693877551\n"
          ]
        }
      ]
    },
    {
      "cell_type": "markdown",
      "source": [
        "### SVM (dataset normalizado)\n"
      ],
      "metadata": {
        "id": "gm1Wj467V3MW"
      }
    },
    {
      "cell_type": "markdown",
      "source": [
        "**LinearSVC**\n",
        "* `c` El parámetro C controla la penalización aplicada a los errores durante el proceso de entrenamiento. Cuanto mayor es el valor de C, mayor es la penalización aplicada a los errores y, por tanto, el modelo se vuelve más propenso a sobreajuste.\n",
        "* `loss` hinge o squared_hinge especifican la funcion utilizada para cuantificar la incertidumbre de la prediccion, cuanto mas cercano es a 0 mejor.\n",
        "* `max_iter` Numero maximo de iteraciones\n",
        " "
      ],
      "metadata": {
        "id": "slaNy77jV3MX"
      }
    },
    {
      "cell_type": "code",
      "source": [
        "from sklearn.svm import LinearSVC\n",
        "\n",
        "model = LinearSVC(C=7, max_iter=2000, loss=\"hinge\")\n",
        "model.fit(X_train_norm,y_train_norm)\n",
        "score = mean(cross_val_score(model, X_test_norm, y_test_norm, cv=5))\n",
        "\n",
        "print('Model score: ', score)"
      ],
      "metadata": {
        "colab": {
          "base_uri": "https://localhost:8080/"
        },
        "outputId": "9789e5d1-e5d4-4f0e-84ae-6a58065fc833",
        "id": "HMbZL5PvV3MX"
      },
      "execution_count": 407,
      "outputs": [
        {
          "output_type": "stream",
          "name": "stdout",
          "text": [
            "Model score:  0.9887755102040816\n"
          ]
        },
        {
          "output_type": "stream",
          "name": "stderr",
          "text": [
            "/usr/local/lib/python3.8/dist-packages/sklearn/svm/_base.py:1206: ConvergenceWarning: Liblinear failed to converge, increase the number of iterations.\n",
            "  warnings.warn(\n",
            "/usr/local/lib/python3.8/dist-packages/sklearn/svm/_base.py:1206: ConvergenceWarning: Liblinear failed to converge, increase the number of iterations.\n",
            "  warnings.warn(\n",
            "/usr/local/lib/python3.8/dist-packages/sklearn/svm/_base.py:1206: ConvergenceWarning: Liblinear failed to converge, increase the number of iterations.\n",
            "  warnings.warn(\n",
            "/usr/local/lib/python3.8/dist-packages/sklearn/svm/_base.py:1206: ConvergenceWarning: Liblinear failed to converge, increase the number of iterations.\n",
            "  warnings.warn(\n",
            "/usr/local/lib/python3.8/dist-packages/sklearn/svm/_base.py:1206: ConvergenceWarning: Liblinear failed to converge, increase the number of iterations.\n",
            "  warnings.warn(\n",
            "/usr/local/lib/python3.8/dist-packages/sklearn/svm/_base.py:1206: ConvergenceWarning: Liblinear failed to converge, increase the number of iterations.\n",
            "  warnings.warn(\n"
          ]
        }
      ]
    },
    {
      "cell_type": "markdown",
      "source": [
        "**SVC**\n",
        "* `kernel` El parámetro kernel especifica el tipo de kernel que se debe utilizar en el modelo SVM. Los kernels comunes incluyen el kernel lineal, el kernel polinómico y el kernel radial. Cada uno de estos kernels se comporta de manera diferente y puede ser más adecuado para ciertos tipos de datos.\n",
        "* `degree` El parámetro degree se utiliza para especificar el grado del kernel polinómico cuando se utiliza el kernel polinómico.\n"
      ],
      "metadata": {
        "id": "1_c8ismXV3MY"
      }
    },
    {
      "cell_type": "code",
      "source": [
        "from sklearn.svm import SVC\n",
        "\n",
        "model = SVC(kernel=\"poly\", coef0=1, C=5)\n",
        "model.fit(X_train_norm,y_train_norm)\n",
        "score = mean(cross_val_score(model, X_test_norm, y_test_norm, cv=5))\n",
        "\n",
        "print('Model score: ', score)"
      ],
      "metadata": {
        "colab": {
          "base_uri": "https://localhost:8080/"
        },
        "outputId": "32bdfc04-4599-4275-8419-10e4372fa993",
        "id": "qb34g8JiV3MY"
      },
      "execution_count": 408,
      "outputs": [
        {
          "output_type": "stream",
          "name": "stdout",
          "text": [
            "Model score:  0.9923469387755103\n"
          ]
        }
      ]
    },
    {
      "cell_type": "code",
      "source": [
        "from sklearn.svm import SVC\n",
        "\n",
        "model = SVC(kernel=\"linear\", coef0=1, C=7)\n",
        "model.fit(X_train_norm, y_train_norm)\n",
        "score = mean(cross_val_score(model, X_test_norm, y_test_norm, cv=5))\n",
        "\n",
        "print('Model score: ', score)"
      ],
      "metadata": {
        "id": "Zufaz-Z4GgRS",
        "colab": {
          "base_uri": "https://localhost:8080/"
        },
        "outputId": "f66d3aa0-6b85-44cb-d6c4-29ece6d453d2"
      },
      "execution_count": 409,
      "outputs": [
        {
          "output_type": "stream",
          "name": "stdout",
          "text": [
            "Model score:  0.9887755102040816\n"
          ]
        }
      ]
    },
    {
      "cell_type": "markdown",
      "source": [
        "### Random forest (dataset normalizado)"
      ],
      "metadata": {
        "id": "RDBZbZqvV3MZ"
      }
    },
    {
      "cell_type": "code",
      "source": [
        "from sklearn.ensemble import  RandomForestClassifier\n",
        "\n",
        "model = RandomForestClassifier()\n",
        "model.fit(X_train_norm,y_train_norm)\n",
        "score = mean(cross_val_score(model, X_test_norm, y_test_norm, cv=5))\n",
        "\n",
        "print('Model score: ', score)"
      ],
      "metadata": {
        "colab": {
          "base_uri": "https://localhost:8080/"
        },
        "outputId": "218064ab-020d-40d7-9540-8426bf182b00",
        "id": "HWqiARwlV3Ma"
      },
      "execution_count": 410,
      "outputs": [
        {
          "output_type": "stream",
          "name": "stdout",
          "text": [
            "Model score:  0.996938775510204\n"
          ]
        }
      ]
    },
    {
      "cell_type": "code",
      "source": [
        "from sklearn.ensemble import GradientBoostingClassifier\n",
        "\n",
        "model = GradientBoostingClassifier()\n",
        "model.fit(X_train_norm,y_train_norm)\n",
        "score = mean(cross_val_score(model, X_test_norm, y_test_norm, cv=5))\n",
        "\n",
        "print('Model score: ', score)"
      ],
      "metadata": {
        "colab": {
          "base_uri": "https://localhost:8080/"
        },
        "outputId": "296a733b-11de-42a9-c3bc-3cb0487c1778",
        "id": "O-2cndRVV3Mb"
      },
      "execution_count": 411,
      "outputs": [
        {
          "output_type": "stream",
          "name": "stdout",
          "text": [
            "Model score:  0.9938775510204082\n"
          ]
        }
      ]
    },
    {
      "cell_type": "markdown",
      "source": [
        "### KNN (dataset normalizado)\n",
        "KNeighborsClassifier\n",
        "* `n_neighbors` El parámetro n_neighbors especifica el número de vecinos más cercanos que se deben considerar para predecir la clase de una instancia. Por defecto, este parámetro tiene el valor 5.\n",
        "\n",
        "* `weights` Determina cómo se deben ponderar los vecinos más cercanos durante la predicción. Las opciones comunes incluyen \"uniforme\", que significa que todos los vecinos tienen el mismo peso, y \"distance\", que significa que los vecinos más cercanos tienen un mayor peso.\n",
        "\n",
        "* `algorithm` especifica el algoritmo que se debe utilizar para encontrar los vecinos más cercanos. Las opciones comunes incluyen \"brute force\" y \"kd-tree\". Por defecto, este parámetro tiene el valor \"auto\".\n",
        "\n",
        "* `p` Parámetro de potencia para la métrica de Minkowski. Cuando p = 1, esto es equivalente a usar manhattan_distance (l1) y euclidean_distance (l2) para p = 2. Para p arbitraria, se usa minkowski_distance (l_p)."
      ],
      "metadata": {
        "id": "ZhdUA4VCV3Mb"
      }
    },
    {
      "cell_type": "code",
      "source": [
        "from sklearn.neighbors import KNeighborsClassifier\n",
        "\n",
        "model = KNeighborsClassifier(n_neighbors=3,\n",
        "                             weights='uniform',\n",
        "                             algorithm='ball_tree',p=1)\n",
        "model.fit(X_train_norm,y_train_norm)\n",
        "score = mean(cross_val_score(model, X_test_norm, y_test_norm, cv=5))\n",
        "\n",
        "print('Model score: ', score)"
      ],
      "metadata": {
        "colab": {
          "base_uri": "https://localhost:8080/"
        },
        "outputId": "a78f1418-7cfe-4976-a6f3-cc32d49a9991",
        "id": "mFxFD341V3Mb"
      },
      "execution_count": 412,
      "outputs": [
        {
          "output_type": "stream",
          "name": "stdout",
          "text": [
            "Model score:  0.985204081632653\n"
          ]
        }
      ]
    },
    {
      "cell_type": "code",
      "source": [
        "model = KNeighborsClassifier(n_neighbors=5,\n",
        "                             weights='distance',\n",
        "                             algorithm='kd_tree',p=1)\n",
        "model.fit(X_train_norm,y_train_norm)\n",
        "score = mean(cross_val_score(model, X_test_norm, y_test_norm, cv=5))\n",
        "\n",
        "print('Model score: ', score)"
      ],
      "metadata": {
        "colab": {
          "base_uri": "https://localhost:8080/"
        },
        "outputId": "b43647e7-5c8e-4602-f2ab-0c20912c2455",
        "id": "Sl6h1FT1V3Mc"
      },
      "execution_count": 413,
      "outputs": [
        {
          "output_type": "stream",
          "name": "stdout",
          "text": [
            "Model score:  0.9862244897959184\n"
          ]
        }
      ]
    },
    {
      "cell_type": "markdown",
      "source": [
        "## Ejercicio 2"
      ],
      "metadata": {
        "id": "SXmP2MZbzNl7"
      }
    },
    {
      "cell_type": "markdown",
      "source": [
        "Utilizando el dataframe **df_train_min** del Ejercicio 3, realiza un preprocesamiento de datos que permita generar un modelo con el mismo algoritmo y los mismos parámetros que el modelo con mejor resultado que has obtenido anteriormente. "
      ],
      "metadata": {
        "id": "lvEdeOTNzYnC"
      }
    },
    {
      "cell_type": "markdown",
      "source": [
        "Empezaremos por cambiar la columna type (nuestra variable dependiente) a numerica"
      ],
      "metadata": {
        "id": "vc7krfcgC-nf"
      }
    },
    {
      "cell_type": "code",
      "source": [
        "df_train_min['type'] = df_train_min['type'].map({'Red': 1.0, 'White': 0})"
      ],
      "metadata": {
        "id": "sUNyrh2cze9I"
      },
      "execution_count": 414,
      "outputs": []
    },
    {
      "cell_type": "code",
      "source": [
        "df_train_min.sample(5)"
      ],
      "metadata": {
        "colab": {
          "base_uri": "https://localhost:8080/",
          "height": 250
        },
        "id": "UCiAI5fTB_Ks",
        "outputId": "5301e200-a13c-43e8-a8a3-e22e58ef7ab6"
      },
      "execution_count": 415,
      "outputs": [
        {
          "output_type": "execute_result",
          "data": {
            "text/plain": [
              "      Unnamed: 0  fixed acidity  volatile acidity  citric acid  \\\n",
              "2661        1062            6.7              0.26         0.26   \n",
              "2426         827            7.4              0.24         0.36   \n",
              "4198        2599            6.9              0.32         0.27   \n",
              "5897        4298            5.6              0.26         0.00   \n",
              "4308        2709            7.8              0.25         0.34   \n",
              "\n",
              "      residual sugar  chlorides  free sulfur dioxide  total sulfur dioxide  \\\n",
              "2661             4.0      0.079                 35.5                 216.0   \n",
              "2426             2.0      0.031                 27.0                 139.0   \n",
              "4198            16.0      0.034                 58.0                 185.0   \n",
              "5897            10.2      0.038                 13.0                 111.0   \n",
              "4308            13.7      0.044                 66.0                 184.0   \n",
              "\n",
              "      density    pH  sulphates   alcohol quality  type date            origin  \n",
              "2661  0.99560  3.31       0.68      bajo    baja   0.0  NaN               NaN  \n",
              "2426  0.99055  3.28       0.48  muy alto    alta   0.0  NaN  Ribera del Duero  \n",
              "4198  0.99938  3.34       0.60      bajo   media   0.0  NaN             Rioja  \n",
              "5897  0.99315  3.44       0.46  muy alto   media   0.0  NaN               NaN  \n",
              "4308  0.99976  3.22       0.75      bajo    baja   0.0  NaN  Ribera del Duero  "
            ],
            "text/html": [
              "\n",
              "  <div id=\"df-f1c19f2c-ff2c-44db-a2d2-63caffac1b6f\">\n",
              "    <div class=\"colab-df-container\">\n",
              "      <div>\n",
              "<style scoped>\n",
              "    .dataframe tbody tr th:only-of-type {\n",
              "        vertical-align: middle;\n",
              "    }\n",
              "\n",
              "    .dataframe tbody tr th {\n",
              "        vertical-align: top;\n",
              "    }\n",
              "\n",
              "    .dataframe thead th {\n",
              "        text-align: right;\n",
              "    }\n",
              "</style>\n",
              "<table border=\"1\" class=\"dataframe\">\n",
              "  <thead>\n",
              "    <tr style=\"text-align: right;\">\n",
              "      <th></th>\n",
              "      <th>Unnamed: 0</th>\n",
              "      <th>fixed acidity</th>\n",
              "      <th>volatile acidity</th>\n",
              "      <th>citric acid</th>\n",
              "      <th>residual sugar</th>\n",
              "      <th>chlorides</th>\n",
              "      <th>free sulfur dioxide</th>\n",
              "      <th>total sulfur dioxide</th>\n",
              "      <th>density</th>\n",
              "      <th>pH</th>\n",
              "      <th>sulphates</th>\n",
              "      <th>alcohol</th>\n",
              "      <th>quality</th>\n",
              "      <th>type</th>\n",
              "      <th>date</th>\n",
              "      <th>origin</th>\n",
              "    </tr>\n",
              "  </thead>\n",
              "  <tbody>\n",
              "    <tr>\n",
              "      <th>2661</th>\n",
              "      <td>1062</td>\n",
              "      <td>6.7</td>\n",
              "      <td>0.26</td>\n",
              "      <td>0.26</td>\n",
              "      <td>4.0</td>\n",
              "      <td>0.079</td>\n",
              "      <td>35.5</td>\n",
              "      <td>216.0</td>\n",
              "      <td>0.99560</td>\n",
              "      <td>3.31</td>\n",
              "      <td>0.68</td>\n",
              "      <td>bajo</td>\n",
              "      <td>baja</td>\n",
              "      <td>0.0</td>\n",
              "      <td>NaN</td>\n",
              "      <td>NaN</td>\n",
              "    </tr>\n",
              "    <tr>\n",
              "      <th>2426</th>\n",
              "      <td>827</td>\n",
              "      <td>7.4</td>\n",
              "      <td>0.24</td>\n",
              "      <td>0.36</td>\n",
              "      <td>2.0</td>\n",
              "      <td>0.031</td>\n",
              "      <td>27.0</td>\n",
              "      <td>139.0</td>\n",
              "      <td>0.99055</td>\n",
              "      <td>3.28</td>\n",
              "      <td>0.48</td>\n",
              "      <td>muy alto</td>\n",
              "      <td>alta</td>\n",
              "      <td>0.0</td>\n",
              "      <td>NaN</td>\n",
              "      <td>Ribera del Duero</td>\n",
              "    </tr>\n",
              "    <tr>\n",
              "      <th>4198</th>\n",
              "      <td>2599</td>\n",
              "      <td>6.9</td>\n",
              "      <td>0.32</td>\n",
              "      <td>0.27</td>\n",
              "      <td>16.0</td>\n",
              "      <td>0.034</td>\n",
              "      <td>58.0</td>\n",
              "      <td>185.0</td>\n",
              "      <td>0.99938</td>\n",
              "      <td>3.34</td>\n",
              "      <td>0.60</td>\n",
              "      <td>bajo</td>\n",
              "      <td>media</td>\n",
              "      <td>0.0</td>\n",
              "      <td>NaN</td>\n",
              "      <td>Rioja</td>\n",
              "    </tr>\n",
              "    <tr>\n",
              "      <th>5897</th>\n",
              "      <td>4298</td>\n",
              "      <td>5.6</td>\n",
              "      <td>0.26</td>\n",
              "      <td>0.00</td>\n",
              "      <td>10.2</td>\n",
              "      <td>0.038</td>\n",
              "      <td>13.0</td>\n",
              "      <td>111.0</td>\n",
              "      <td>0.99315</td>\n",
              "      <td>3.44</td>\n",
              "      <td>0.46</td>\n",
              "      <td>muy alto</td>\n",
              "      <td>media</td>\n",
              "      <td>0.0</td>\n",
              "      <td>NaN</td>\n",
              "      <td>NaN</td>\n",
              "    </tr>\n",
              "    <tr>\n",
              "      <th>4308</th>\n",
              "      <td>2709</td>\n",
              "      <td>7.8</td>\n",
              "      <td>0.25</td>\n",
              "      <td>0.34</td>\n",
              "      <td>13.7</td>\n",
              "      <td>0.044</td>\n",
              "      <td>66.0</td>\n",
              "      <td>184.0</td>\n",
              "      <td>0.99976</td>\n",
              "      <td>3.22</td>\n",
              "      <td>0.75</td>\n",
              "      <td>bajo</td>\n",
              "      <td>baja</td>\n",
              "      <td>0.0</td>\n",
              "      <td>NaN</td>\n",
              "      <td>Ribera del Duero</td>\n",
              "    </tr>\n",
              "  </tbody>\n",
              "</table>\n",
              "</div>\n",
              "      <button class=\"colab-df-convert\" onclick=\"convertToInteractive('df-f1c19f2c-ff2c-44db-a2d2-63caffac1b6f')\"\n",
              "              title=\"Convert this dataframe to an interactive table.\"\n",
              "              style=\"display:none;\">\n",
              "        \n",
              "  <svg xmlns=\"http://www.w3.org/2000/svg\" height=\"24px\"viewBox=\"0 0 24 24\"\n",
              "       width=\"24px\">\n",
              "    <path d=\"M0 0h24v24H0V0z\" fill=\"none\"/>\n",
              "    <path d=\"M18.56 5.44l.94 2.06.94-2.06 2.06-.94-2.06-.94-.94-2.06-.94 2.06-2.06.94zm-11 1L8.5 8.5l.94-2.06 2.06-.94-2.06-.94L8.5 2.5l-.94 2.06-2.06.94zm10 10l.94 2.06.94-2.06 2.06-.94-2.06-.94-.94-2.06-.94 2.06-2.06.94z\"/><path d=\"M17.41 7.96l-1.37-1.37c-.4-.4-.92-.59-1.43-.59-.52 0-1.04.2-1.43.59L10.3 9.45l-7.72 7.72c-.78.78-.78 2.05 0 2.83L4 21.41c.39.39.9.59 1.41.59.51 0 1.02-.2 1.41-.59l7.78-7.78 2.81-2.81c.8-.78.8-2.07 0-2.86zM5.41 20L4 18.59l7.72-7.72 1.47 1.35L5.41 20z\"/>\n",
              "  </svg>\n",
              "      </button>\n",
              "      \n",
              "  <style>\n",
              "    .colab-df-container {\n",
              "      display:flex;\n",
              "      flex-wrap:wrap;\n",
              "      gap: 12px;\n",
              "    }\n",
              "\n",
              "    .colab-df-convert {\n",
              "      background-color: #E8F0FE;\n",
              "      border: none;\n",
              "      border-radius: 50%;\n",
              "      cursor: pointer;\n",
              "      display: none;\n",
              "      fill: #1967D2;\n",
              "      height: 32px;\n",
              "      padding: 0 0 0 0;\n",
              "      width: 32px;\n",
              "    }\n",
              "\n",
              "    .colab-df-convert:hover {\n",
              "      background-color: #E2EBFA;\n",
              "      box-shadow: 0px 1px 2px rgba(60, 64, 67, 0.3), 0px 1px 3px 1px rgba(60, 64, 67, 0.15);\n",
              "      fill: #174EA6;\n",
              "    }\n",
              "\n",
              "    [theme=dark] .colab-df-convert {\n",
              "      background-color: #3B4455;\n",
              "      fill: #D2E3FC;\n",
              "    }\n",
              "\n",
              "    [theme=dark] .colab-df-convert:hover {\n",
              "      background-color: #434B5C;\n",
              "      box-shadow: 0px 1px 3px 1px rgba(0, 0, 0, 0.15);\n",
              "      filter: drop-shadow(0px 1px 2px rgba(0, 0, 0, 0.3));\n",
              "      fill: #FFFFFF;\n",
              "    }\n",
              "  </style>\n",
              "\n",
              "      <script>\n",
              "        const buttonEl =\n",
              "          document.querySelector('#df-f1c19f2c-ff2c-44db-a2d2-63caffac1b6f button.colab-df-convert');\n",
              "        buttonEl.style.display =\n",
              "          google.colab.kernel.accessAllowed ? 'block' : 'none';\n",
              "\n",
              "        async function convertToInteractive(key) {\n",
              "          const element = document.querySelector('#df-f1c19f2c-ff2c-44db-a2d2-63caffac1b6f');\n",
              "          const dataTable =\n",
              "            await google.colab.kernel.invokeFunction('convertToInteractive',\n",
              "                                                     [key], {});\n",
              "          if (!dataTable) return;\n",
              "\n",
              "          const docLinkHtml = 'Like what you see? Visit the ' +\n",
              "            '<a target=\"_blank\" href=https://colab.research.google.com/notebooks/data_table.ipynb>data table notebook</a>'\n",
              "            + ' to learn more about interactive tables.';\n",
              "          element.innerHTML = '';\n",
              "          dataTable['output_type'] = 'display_data';\n",
              "          await google.colab.output.renderOutput(dataTable, element);\n",
              "          const docLink = document.createElement('div');\n",
              "          docLink.innerHTML = docLinkHtml;\n",
              "          element.appendChild(docLink);\n",
              "        }\n",
              "      </script>\n",
              "    </div>\n",
              "  </div>\n",
              "  "
            ]
          },
          "metadata": {},
          "execution_count": 415
        }
      ]
    },
    {
      "cell_type": "markdown",
      "source": [
        "Para comprender mejor que columnas tienen un mayor impacto en el resultado (la clase de vino que es) podemos dibujar un mapa de calor.\n",
        "El cual nos muestra que las columnas con mayor valor:"
      ],
      "metadata": {
        "id": "pESdaYna9J2c"
      }
    },
    {
      "cell_type": "code",
      "source": [
        "plt.figure(figsize = (12,6))\n",
        "sns.heatmap(df_train_min.corr(), annot = True)\n",
        "plt.show()"
      ],
      "metadata": {
        "colab": {
          "base_uri": "https://localhost:8080/",
          "height": 462
        },
        "id": "ow2jC0eR7ias",
        "outputId": "17b216b8-13f1-46e4-9a92-a46608d1f5a9"
      },
      "execution_count": 416,
      "outputs": [
        {
          "output_type": "display_data",
          "data": {
            "text/plain": [
              "<Figure size 864x432 with 2 Axes>"
            ],
            "image/png": "[encoded data removed]"
          },
          "metadata": {
            "needs_background": "light"
          }
        }
      ]
    },
    {
      "cell_type": "markdown",
      "source": [
        "Continuamos por eliminar columnas desconocidas o con valores nulos"
      ],
      "metadata": {
        "id": "yz1pQAS0DNI7"
      }
    },
    {
      "cell_type": "code",
      "source": [
        "df_train_min.pop('Unnamed: 0')\n",
        "df_train_min.dropna(axis=\"columns\", inplace=True, thresh=0.7*len(df_train_min))"
      ],
      "metadata": {
        "id": "M4GVeKk52xdD"
      },
      "execution_count": 417,
      "outputs": []
    },
    {
      "cell_type": "markdown",
      "source": [
        "Eliminamos las columnas categoricas restantes"
      ],
      "metadata": {
        "id": "HB2oR36gDcms"
      }
    },
    {
      "cell_type": "code",
      "source": [
        "categorical_columns = list(df_train_min.dtypes[df_train_min.dtypes == 'object'].index)\n",
        "print(\"Categorical columns:\", categorical_columns)"
      ],
      "metadata": {
        "colab": {
          "base_uri": "https://localhost:8080/"
        },
        "id": "AkveoGO05Slz",
        "outputId": "687fec9a-93d4-400a-ea56-54048757bb37"
      },
      "execution_count": 418,
      "outputs": [
        {
          "output_type": "stream",
          "name": "stdout",
          "text": [
            "Categorical columns: ['alcohol', 'quality']\n"
          ]
        }
      ]
    },
    {
      "cell_type": "code",
      "source": [
        "df_train_min = onehot_encode(df_train_min, categorical_columns)"
      ],
      "metadata": {
        "id": "IqFVaEx2497V"
      },
      "execution_count": 419,
      "outputs": []
    },
    {
      "cell_type": "code",
      "source": [
        "df_train_min.info()"
      ],
      "metadata": {
        "colab": {
          "base_uri": "https://localhost:8080/"
        },
        "id": "VZFHHcnJDkZg",
        "outputId": "9e48588a-8bde-460a-9e08-dcab7ae8a071"
      },
      "execution_count": 420,
      "outputs": [
        {
          "output_type": "stream",
          "name": "stdout",
          "text": [
            "<class 'pandas.core.frame.DataFrame'>\n",
            "Int64Index: 3198 entries, 0 to 2348\n",
            "Data columns (total 18 columns):\n",
            " #   Column                Non-Null Count  Dtype  \n",
            "---  ------                --------------  -----  \n",
            " 0   fixed acidity         3198 non-null   float64\n",
            " 1   volatile acidity      3198 non-null   float64\n",
            " 2   citric acid           3198 non-null   float64\n",
            " 3   residual sugar        3198 non-null   float64\n",
            " 4   chlorides             3198 non-null   float64\n",
            " 5   free sulfur dioxide   3198 non-null   float64\n",
            " 6   total sulfur dioxide  3198 non-null   float64\n",
            " 7   density               3198 non-null   float64\n",
            " 8   pH                    3198 non-null   float64\n",
            " 9   sulphates             3198 non-null   float64\n",
            " 10  type                  3198 non-null   float64\n",
            " 11  alcohol_alto          3198 non-null   uint8  \n",
            " 12  alcohol_bajo          3198 non-null   uint8  \n",
            " 13  alcohol_medio         3198 non-null   uint8  \n",
            " 14  alcohol_muy alto      3198 non-null   uint8  \n",
            " 15  quality_alta          3198 non-null   uint8  \n",
            " 16  quality_baja          3198 non-null   uint8  \n",
            " 17  quality_media         3198 non-null   uint8  \n",
            "dtypes: float64(11), uint8(7)\n",
            "memory usage: 321.7 KB\n"
          ]
        }
      ]
    },
    {
      "cell_type": "markdown",
      "source": [
        "Normalizamos las columnas de manera que ninguna de ellas tenga mas peso que las otras, esto afectaria a la precision del modelo"
      ],
      "metadata": {
        "id": "QVtUpBdoAW60"
      }
    },
    {
      "cell_type": "code",
      "source": [
        "scaler = MinMaxScaler()                                                 \n",
        "data_normalized = scaler.fit_transform(df_train_min)                        \n",
        "df_train_min = pd.DataFrame(data_normalized, columns= df_train_min.columns)"
      ],
      "metadata": {
        "id": "uVRk73K94e_j"
      },
      "execution_count": 421,
      "outputs": []
    },
    {
      "cell_type": "markdown",
      "source": [
        "Empleando el modelo anterior \n",
        "\n",
        "\n"
      ],
      "metadata": {
        "id": "jilPUEWs2xM8"
      }
    },
    {
      "cell_type": "code",
      "source": [
        "from sklearn.ensemble import  RandomForestClassifier\n",
        "\n",
        "model = RandomForestClassifier()\n",
        "model.fit(X_train_norm,y_train_norm)\n",
        "score = mean(cross_val_score(model, X_test_norm, y_test_norm, cv=5))\n",
        "\n",
        "print('Model score: ', score)"
      ],
      "metadata": {
        "colab": {
          "base_uri": "https://localhost:8080/"
        },
        "id": "1dTqXvbd2wdl",
        "outputId": "9dde0653-29d4-41ed-b554-36980865ab13"
      },
      "execution_count": 422,
      "outputs": [
        {
          "output_type": "stream",
          "name": "stdout",
          "text": [
            "Model score:  0.996938775510204\n"
          ]
        }
      ]
    }
  ]
}